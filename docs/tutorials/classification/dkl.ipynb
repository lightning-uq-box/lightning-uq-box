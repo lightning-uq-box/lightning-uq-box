{
 "cells": [
  {
   "cell_type": "markdown",
   "id": "c42f0f7f",
   "metadata": {},
   "source": [
    "# Deep Kernel Learning Classification"
   ]
  },
  {
   "cell_type": "code",
   "execution_count": null,
   "id": "6232d140",
   "metadata": {},
   "outputs": [],
   "source": [
    "%%capture\n",
    "%pip install lightning-uq-box"
   ]
  },
  {
   "cell_type": "markdown",
   "id": "75ff4240",
   "metadata": {},
   "source": [
    "## Imports"
   ]
  },
  {
   "cell_type": "code",
   "execution_count": null,
   "id": "41b98b4f",
   "metadata": {},
   "outputs": [],
   "source": [
    "import os\n",
    "import tempfile\n",
    "from collections import defaultdict\n",
    "from functools import partial\n",
    "\n",
    "import torch\n",
    "from lightning import Trainer\n",
    "from lightning.pytorch import seed_everything\n",
    "from lightning.pytorch.loggers import CSVLogger\n",
    "\n",
    "from lightning_uq_box.datamodules import TwoMoonsDataModule\n",
    "from lightning_uq_box.models import MLP\n",
    "from lightning_uq_box.uq_methods import DKLClassification\n",
    "from lightning_uq_box.viz_utils import (\n",
    "    plot_predictions_classification,\n",
    "    plot_training_metrics,\n",
    "    plot_two_moons_data,\n",
    ")"
   ]
  },
  {
   "cell_type": "code",
   "execution_count": null,
   "id": "36006eca",
   "metadata": {},
   "outputs": [],
   "source": [
    "seed_everything(2)"
   ]
  },
  {
   "cell_type": "code",
   "execution_count": null,
   "id": "05c374b8",
   "metadata": {},
   "outputs": [],
   "source": [
    "# temporary directory for saving\n",
    "my_temp_dir = tempfile.mkdtemp()"
   ]
  },
  {
   "cell_type": "code",
   "execution_count": null,
   "id": "77ba4d48",
   "metadata": {},
   "outputs": [],
   "source": [
    "dm = TwoMoonsDataModule(batch_size=100)"
   ]
  },
  {
   "cell_type": "code",
   "execution_count": null,
   "id": "a2f3918a",
   "metadata": {},
   "outputs": [],
   "source": [
    "# define data\n",
    "X_train, y_train, X_test, y_test, test_grid_points = (\n",
    "    dm.X_train,\n",
    "    dm.y_train,\n",
    "    dm.X_test,\n",
    "    dm.y_test,\n",
    "    dm.test_grid_points,\n",
    ")"
   ]
  },
  {
   "cell_type": "code",
   "execution_count": null,
   "id": "de3b9f2d",
   "metadata": {},
   "outputs": [],
   "source": [
    "fig = plot_two_moons_data(X_train, y_train, X_test, y_test)"
   ]
  },
  {
   "cell_type": "markdown",
   "id": "8064e662",
   "metadata": {},
   "source": [
    "## Feature Extractor"
   ]
  },
  {
   "cell_type": "code",
   "execution_count": null,
   "id": "8c56d77b",
   "metadata": {},
   "outputs": [],
   "source": [
    "feature_extractor = MLP(\n",
    "    n_inputs=2, n_outputs=13, n_hidden=[50], activation_fn=torch.nn.ELU()\n",
    ")"
   ]
  },
  {
   "cell_type": "markdown",
   "id": "376c080a",
   "metadata": {},
   "source": [
    "## Deep Kernel Learning Model"
   ]
  },
  {
   "cell_type": "code",
   "execution_count": null,
   "id": "3d30d9e1",
   "metadata": {},
   "outputs": [],
   "source": [
    "dkl_model = DKLClassification(\n",
    "    feature_extractor,\n",
    "    gp_kernel=\"RBF\",\n",
    "    num_classes=2,\n",
    "    optimizer=partial(torch.optim.Adam, lr=1e-2),\n",
    "    n_inducing_points=20,\n",
    ")"
   ]
  },
  {
   "cell_type": "markdown",
   "id": "4be69ed5",
   "metadata": {},
   "source": [
    "## Trainer"
   ]
  },
  {
   "cell_type": "code",
   "execution_count": null,
   "id": "167a8dc3",
   "metadata": {},
   "outputs": [],
   "source": [
    "logger = CSVLogger(my_temp_dir)\n",
    "trainer = Trainer(\n",
    "    max_epochs=100,  # number of epochs we want to train\n",
    "    logger=logger,  # log training metrics for later evaluation\n",
    "    log_every_n_steps=1,\n",
    "    enable_checkpointing=False,\n",
    "    enable_progress_bar=False,\n",
    "    default_root_dir=my_temp_dir,\n",
    ")"
   ]
  },
  {
   "cell_type": "code",
   "execution_count": null,
   "id": "9aacd533",
   "metadata": {},
   "outputs": [],
   "source": [
    "trainer.fit(dkl_model, dm)"
   ]
  },
  {
   "cell_type": "markdown",
   "id": "0eaa23f7",
   "metadata": {},
   "source": [
    "## Training Metrics"
   ]
  },
  {
   "cell_type": "code",
   "execution_count": null,
   "id": "03c95045",
   "metadata": {},
   "outputs": [],
   "source": [
    "fig = plot_training_metrics(\n",
    "    os.path.join(my_temp_dir, \"lightning_logs\"), [\"train_loss\", \"trainAcc\"]\n",
    ")"
   ]
  },
  {
   "cell_type": "markdown",
   "id": "c2bb5a82",
   "metadata": {},
   "source": [
    "## Prediction"
   ]
  },
  {
   "cell_type": "code",
   "execution_count": null,
   "id": "4fba1543",
   "metadata": {},
   "outputs": [],
   "source": [
    "# save predictions\n",
    "trainer.test(dkl_model, dm.test_dataloader())"
   ]
  },
  {
   "cell_type": "markdown",
   "id": "5be11e16",
   "metadata": {},
   "source": [
    "## Evaluate Predictions"
   ]
  },
  {
   "cell_type": "code",
   "execution_count": null,
   "id": "f685a2f6",
   "metadata": {},
   "outputs": [],
   "source": [
    "# due to the GP we need to predict in batches\n",
    "batch_size = 200\n",
    "batches = test_grid_points.chunk(\n",
    "    (test_grid_points.size(0) + batch_size - 1) // batch_size\n",
    ")\n",
    "\n",
    "\n",
    "preds = defaultdict(list)\n",
    "\n",
    "for batch in batches:\n",
    "    for key, value in dkl_model.predict_step(batch).items():\n",
    "        if key != \"out\":\n",
    "            preds[key].append(value)\n",
    "\n",
    "preds = {key: torch.cat(value, dim=0) for key, value in preds.items()}"
   ]
  },
  {
   "cell_type": "code",
   "execution_count": null,
   "id": "718d3104",
   "metadata": {},
   "outputs": [],
   "source": [
    "fig = plot_predictions_classification(\n",
    "    X_test,\n",
    "    y_test,\n",
    "    preds[\"pred\"].argmax(-1),\n",
    "    test_grid_points,\n",
    "    preds[\"pred_uct\"].cpu().numpy(),\n",
    ")"
   ]
  },
  {
   "cell_type": "markdown",
   "id": "408457c1",
   "metadata": {},
   "source": []
  }
 ],
 "metadata": {
  "jupytext": {
   "formats": "py,ipynb"
  },
  "kernelspec": {
   "display_name": "uqboxEnv",
   "language": "python",
   "name": "python3"
  },
  "language_info": {
   "codemirror_mode": {
    "name": "ipython",
    "version": 3
   },
   "file_extension": ".py",
   "mimetype": "text/x-python",
   "name": "python",
   "nbconvert_exporter": "python",
   "pygments_lexer": "ipython3",
   "version": "3.9.12"
  }
 },
 "nbformat": 4,
 "nbformat_minor": 5
}
