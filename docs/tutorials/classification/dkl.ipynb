{
 "cells": [
  {
   "cell_type": "markdown",
   "id": "c42f0f7f",
   "metadata": {},
   "source": [
    "# Deep Kernel Learning Classification"
   ]
  },
  {
   "cell_type": "markdown",
   "id": "75ff4240",
   "metadata": {},
   "source": [
    "## Imports"
   ]
  },
  {
   "cell_type": "code",
   "execution_count": null,
   "id": "41b98b4f",
   "metadata": {},
   "outputs": [],
   "source": [
    "import os\n",
    "import tempfile\n",
    "from functools import partial\n",
    "\n",
    "import matplotlib.pyplot as plt\n",
    "import numpy as np\n",
    "import pandas as pd\n",
    "import torch\n",
    "from gpytorch.mlls import VariationalELBO\n",
    "from lightning import Trainer\n",
    "from lightning.pytorch import seed_everything\n",
    "from lightning.pytorch.loggers import CSVLogger\n",
    "\n",
    "from lightning_uq_box.datamodules import TwoMoonsDataModule\n",
    "from lightning_uq_box.models import MLP\n",
    "from lightning_uq_box.uq_methods import (  # BaseModel,; DeterministicGaussianModel,\n",
    "    DKLClassification,\n",
    "    DKLGPLayer,\n",
    ")\n",
    "from lightning_uq_box.viz_utils import (\n",
    "    plot_predictions_classification,\n",
    "    plot_training_metrics,\n",
    "    plot_two_moons_data,\n",
    ")"
   ]
  },
  {
   "cell_type": "code",
   "execution_count": null,
   "id": "36006eca",
   "metadata": {},
   "outputs": [],
   "source": [
    "seed_everything(2)"
   ]
  },
  {
   "cell_type": "code",
   "execution_count": null,
   "id": "05c374b8",
   "metadata": {},
   "outputs": [],
   "source": [
    "# temporary directory for saving\n",
    "my_temp_dir = tempfile.mkdtemp()"
   ]
  },
  {
   "cell_type": "code",
   "execution_count": null,
   "id": "77ba4d48",
   "metadata": {},
   "outputs": [],
   "source": [
    "dm = TwoMoonsDataModule(batch_size=100)"
   ]
  },
  {
   "cell_type": "code",
   "execution_count": null,
   "id": "a2f3918a",
   "metadata": {},
   "outputs": [],
   "source": [
    "# define data\n",
    "X_train, y_train, X_test, y_test, test_grid_points = (\n",
    "    dm.X_train,\n",
    "    dm.y_train,\n",
    "    dm.X_test,\n",
    "    dm.y_test,\n",
    "    dm.test_grid_points,\n",
    ")"
   ]
  },
  {
   "cell_type": "code",
   "execution_count": null,
   "id": "de3b9f2d",
   "metadata": {},
   "outputs": [],
   "source": [
    "plot_two_moons_data(X_train, y_train, X_test, y_test)"
   ]
  },
  {
   "cell_type": "markdown",
   "id": "8064e662",
   "metadata": {},
   "source": [
    "## Feature Extractor"
   ]
  },
  {
   "cell_type": "code",
   "execution_count": null,
   "id": "8c56d77b",
   "metadata": {},
   "outputs": [],
   "source": [
    "feature_extractor = MLP(\n",
    "    n_inputs=2, n_outputs=13, n_hidden=[50], activation_fn=torch.nn.ELU()\n",
    ")"
   ]
  },
  {
   "cell_type": "markdown",
   "id": "376c080a",
   "metadata": {},
   "source": [
    "## Deep Kernel Learning Model"
   ]
  },
  {
   "cell_type": "code",
   "execution_count": null,
   "id": "3d30d9e1",
   "metadata": {},
   "outputs": [],
   "source": [
    "dkl_model = DKLClassification(\n",
    "    feature_extractor,\n",
    "    gp_kernel=\"RBF\",\n",
    "    num_classes=2,\n",
    "    optimizer=partial(torch.optim.Adam, lr=1e-2),\n",
    "    n_inducing_points=100,\n",
    ")"
   ]
  },
  {
   "cell_type": "markdown",
   "id": "4be69ed5",
   "metadata": {},
   "source": [
    "## Trainer"
   ]
  },
  {
   "cell_type": "code",
   "execution_count": null,
   "id": "167a8dc3",
   "metadata": {},
   "outputs": [],
   "source": [
    "logger = CSVLogger(my_temp_dir)\n",
    "trainer = Trainer(\n",
    "    max_epochs=100,  # number of epochs we want to train\n",
    "    logger=logger,  # log training metrics for later evaluation\n",
    "    log_every_n_steps=1,\n",
    "    enable_checkpointing=False,\n",
    "    enable_progress_bar=False,\n",
    ")"
   ]
  },
  {
   "cell_type": "code",
   "execution_count": null,
   "id": "9aacd533",
   "metadata": {},
   "outputs": [],
   "source": [
    "trainer.fit(dkl_model, dm)"
   ]
  },
  {
   "cell_type": "markdown",
   "id": "0eaa23f7",
   "metadata": {},
   "source": [
    "## Training Metrics"
   ]
  },
  {
   "cell_type": "code",
   "execution_count": null,
   "id": "03c95045",
   "metadata": {},
   "outputs": [],
   "source": [
    "fig = plot_training_metrics(os.path.join(my_temp_dir, \"lightning_logs\"), \"Acc\")"
   ]
  },
  {
   "cell_type": "markdown",
   "id": "c2bb5a82",
   "metadata": {},
   "source": [
    "## Prediction"
   ]
  },
  {
   "cell_type": "code",
   "execution_count": null,
   "id": "4fba1543",
   "metadata": {},
   "outputs": [],
   "source": [
    "# save predictions\n",
    "trainer.test(dkl_model, dm.test_dataloader())"
   ]
  },
  {
   "cell_type": "markdown",
   "id": "5be11e16",
   "metadata": {},
   "source": [
    "## Evaluate Predictions"
   ]
  },
  {
   "cell_type": "markdown",
   "id": "408457c1",
   "metadata": {},
   "source": []
  }
 ],
 "metadata": {
  "jupytext": {
   "formats": "py,ipynb"
  },
  "kernelspec": {
   "display_name": "uqboxEnv",
   "language": "python",
   "name": "python3"
  },
  "language_info": {
   "name": "python",
   "version": "3.9.12"
  }
 },
 "nbformat": 4,
 "nbformat_minor": 5
}
