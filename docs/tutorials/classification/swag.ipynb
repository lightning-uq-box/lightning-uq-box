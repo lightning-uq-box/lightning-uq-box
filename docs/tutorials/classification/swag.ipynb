{
 "cells": [
  {
   "cell_type": "markdown",
   "id": "5baec406",
   "metadata": {},
   "source": [
    "# Stochastic Weight Averaging - Gaussian (SWAG)"
   ]
  },
  {
   "cell_type": "code",
   "execution_count": null,
   "id": "229005fd",
   "metadata": {},
   "outputs": [],
   "source": [
    "%%capture\n",
    "%pip install git+https://github.com/lightning-uq-box/lightning-uq-box.git"
   ]
  },
  {
   "cell_type": "markdown",
   "id": "791fd73d",
   "metadata": {},
   "source": [
    "## Theoretic Foundation\n",
    "\n",
    "SWAG was introduced in [A simple Baseline for Bayesian Uncertainty in Deep Learning (Maddox et al. 2019)](https://arxiv.org/abs/1902.02476)."
   ]
  },
  {
   "cell_type": "markdown",
   "id": "64946129",
   "metadata": {},
   "source": [
    "## Imports"
   ]
  },
  {
   "cell_type": "code",
   "execution_count": null,
   "id": "0056e84e",
   "metadata": {},
   "outputs": [],
   "source": [
    "import os\n",
    "import tempfile\n",
    "from functools import partial\n",
    "\n",
    "import matplotlib.pyplot as plt\n",
    "import torch\n",
    "import torch.nn as nn\n",
    "from lightning import Trainer\n",
    "from lightning.pytorch import seed_everything\n",
    "from lightning.pytorch.loggers import CSVLogger\n",
    "\n",
    "from lightning_uq_box.datamodules import TwoMoonsDataModule\n",
    "from lightning_uq_box.models import MLP\n",
    "from lightning_uq_box.uq_methods import DeterministicClassification, SWAGClassification\n",
    "from lightning_uq_box.viz_utils import (\n",
    "    plot_predictions_classification,\n",
    "    plot_training_metrics,\n",
    "    plot_two_moons_data,\n",
    ")\n",
    "\n",
    "plt.rcParams[\"figure.figsize\"] = [14, 5]"
   ]
  },
  {
   "cell_type": "code",
   "execution_count": null,
   "id": "9ef42757",
   "metadata": {},
   "outputs": [],
   "source": [
    "seed_everything(0)  # seed everything for reproducibility"
   ]
  },
  {
   "cell_type": "markdown",
   "id": "e06af5e1",
   "metadata": {},
   "source": [
    "We define a temporary directory to look at some training metrics and results."
   ]
  },
  {
   "cell_type": "code",
   "execution_count": null,
   "id": "69d1d28e",
   "metadata": {},
   "outputs": [],
   "source": [
    "my_temp_dir = tempfile.mkdtemp()"
   ]
  },
  {
   "cell_type": "markdown",
   "id": "3246312f",
   "metadata": {},
   "source": [
    "## Datamodule\n",
    "\n",
    "To demonstrate the method, we will make use of a Toy Regression Example that is defined as a [Lightning Datamodule](https://lightning.ai/docs/pytorch/stable/data/datamodule.html). While this might seem like overkill for a small toy problem, we think it is more helpful how the individual pieces of the library fit together so you can train models on more complex tasks."
   ]
  },
  {
   "cell_type": "code",
   "execution_count": null,
   "id": "b88b6272",
   "metadata": {},
   "outputs": [],
   "source": [
    "dm = TwoMoonsDataModule()\n",
    "\n",
    "X_train, Y_train, X_test, Y_test, test_grid_points = (\n",
    "    dm.X_train,\n",
    "    dm.Y_train,\n",
    "    dm.X_test,\n",
    "    dm.Y_test,\n",
    "    dm.test_grid_points,\n",
    ")"
   ]
  },
  {
   "cell_type": "code",
   "execution_count": null,
   "id": "ecaa7f04",
   "metadata": {},
   "outputs": [],
   "source": [
    "fig = plot_two_moons_data(X_train, Y_train, X_test, Y_test)"
   ]
  },
  {
   "cell_type": "markdown",
   "id": "1fffc241",
   "metadata": {},
   "source": [
    "## Model\n",
    "\n",
    "For our Toy Classification problem, we will use a simple Multi-layer Perceptron (MLP) that you can configure to your needs. For the documentation of the MLP see [here](https://torchgeo.readthedocs.io/en/stable/api/models.html#MLP). We define a model with two outputs corresponding to the two classes."
   ]
  },
  {
   "cell_type": "code",
   "execution_count": null,
   "id": "fa3577db",
   "metadata": {},
   "outputs": [],
   "source": [
    "network = MLP(n_inputs=2, n_hidden=[50, 50, 50], n_outputs=2, activation_fn=nn.ReLU())\n",
    "network"
   ]
  },
  {
   "cell_type": "code",
   "execution_count": null,
   "id": "fbfc80b5",
   "metadata": {},
   "outputs": [],
   "source": [
    "deterministic_model = DeterministicClassification(\n",
    "    network, loss_fn=nn.CrossEntropyLoss(), optimizer=partial(torch.optim.Adam, lr=1e-3)\n",
    ")"
   ]
  },
  {
   "cell_type": "markdown",
   "id": "a40d5957",
   "metadata": {},
   "source": [
    "## Trainer\n",
    "\n",
    "Now that we have a LightningDataModule and a UQ-Method as a LightningModule, we can conduct training with a [Lightning Trainer](https://lightning.ai/docs/pytorch/stable/common/trainer.html). It has tons of options to make your life easier, so we encourage you to check the documentation."
   ]
  },
  {
   "cell_type": "code",
   "execution_count": null,
   "id": "129b18e3",
   "metadata": {},
   "outputs": [],
   "source": [
    "logger = CSVLogger(my_temp_dir)\n",
    "trainer = Trainer(\n",
    "    max_epochs=50,  # number of epochs we want to train\n",
    "    logger=logger,  # log training metrics for later evaluation\n",
    "    log_every_n_steps=1,\n",
    "    enable_checkpointing=False,\n",
    "    enable_progress_bar=False,\n",
    "    default_root_dir=my_temp_dir,\n",
    ")"
   ]
  },
  {
   "cell_type": "markdown",
   "id": "d3885a0c",
   "metadata": {},
   "source": [
    "Training our model is now easy:"
   ]
  },
  {
   "cell_type": "code",
   "execution_count": null,
   "id": "398cb7dd",
   "metadata": {},
   "outputs": [],
   "source": [
    "trainer.fit(deterministic_model, dm)"
   ]
  },
  {
   "cell_type": "markdown",
   "id": "0cface7d",
   "metadata": {},
   "source": [
    "## Training Metrics\n",
    "\n",
    "To get some insights into how the training went of our underlying deterministic model, we can use the utility function to plot the training loss and RMSE metric."
   ]
  },
  {
   "cell_type": "code",
   "execution_count": null,
   "id": "2eb5a165",
   "metadata": {},
   "outputs": [],
   "source": [
    "fig = plot_training_metrics(\n",
    "    os.path.join(my_temp_dir, \"lightning_logs\"), [\"train_loss\", \"trainAcc\"]\n",
    ")"
   ]
  },
  {
   "cell_type": "markdown",
   "id": "30ec0573",
   "metadata": {},
   "source": [
    "We can also make predictions with the underlying model."
   ]
  },
  {
   "cell_type": "code",
   "execution_count": null,
   "id": "46322d79",
   "metadata": {},
   "outputs": [],
   "source": [
    "deterministic_preds = deterministic_model.predict_step(test_grid_points)\n",
    "fig = plot_predictions_classification(\n",
    "    X_test, Y_test, deterministic_preds[\"pred\"].argmax(-1), test_grid_points\n",
    ")"
   ]
  },
  {
   "cell_type": "markdown",
   "id": "742ed71b",
   "metadata": {},
   "source": [
    "## Apply SWAG\n",
    "\n",
    "We now have a deterministic model that can make predictions, however, we do not have any uncertainty around the network weights. SWAG is a Bayesian Approximation method to capture this uncertainty, and we will now apply it to obtain epistemic uncertainty."
   ]
  },
  {
   "cell_type": "code",
   "execution_count": null,
   "id": "d6de0b42",
   "metadata": {},
   "outputs": [],
   "source": [
    "swag_model = SWAGClassification(\n",
    "    deterministic_model.model,\n",
    "    max_swag_snapshots=30,\n",
    "    snapshot_freq=1,\n",
    "    num_mc_samples=50,\n",
    "    swag_lr=1e-3,\n",
    "    loss_fn=nn.CrossEntropyLoss(),\n",
    ")"
   ]
  },
  {
   "cell_type": "markdown",
   "id": "b30874b5",
   "metadata": {},
   "source": [
    "## Prediction\n",
    "\n",
    "For prediction we can either rely on the `trainer.test()` method or manually conduct a `predict_step()`. Using the trainer will save the predictions and some metrics to a CSV file, while the manual `predict_step()` with a single input tensor will generate a dictionary that holds the mean prediction as well as some other quantities of interest, for example the predicted standard deviation or quantile. The SWAG wrapper module will conduct the SWAG fitting procedure automatically before making the first prediction and will use it for any subsequent call to sample network weights for the desired number of Monte Carlo samples."
   ]
  },
  {
   "cell_type": "code",
   "execution_count": null,
   "id": "96727b47",
   "metadata": {},
   "outputs": [],
   "source": [
    "trainer = Trainer(enable_progress_bar=False, max_epochs=30)\n",
    "trainer.fit(swag_model, datamodule=dm)"
   ]
  },
  {
   "cell_type": "code",
   "execution_count": null,
   "id": "940a36e1",
   "metadata": {},
   "outputs": [],
   "source": [
    "preds = swag_model.predict_step(test_grid_points)"
   ]
  },
  {
   "cell_type": "markdown",
   "id": "81405444",
   "metadata": {},
   "source": [
    "## Evaluate Predictions"
   ]
  },
  {
   "cell_type": "code",
   "execution_count": null,
   "id": "1079e53d",
   "metadata": {},
   "outputs": [],
   "source": [
    "fig = plot_predictions_classification(\n",
    "    X_test, Y_test, preds[\"pred\"].argmax(-1), test_grid_points, preds[\"pred_uct\"]\n",
    ")"
   ]
  }
 ],
 "metadata": {
  "jupytext": {
   "formats": "py,ipynb"
  },
  "kernelspec": {
   "display_name": "uqboxEnv",
   "language": "python",
   "name": "python3"
  }
 },
 "nbformat": 4,
 "nbformat_minor": 5
}
