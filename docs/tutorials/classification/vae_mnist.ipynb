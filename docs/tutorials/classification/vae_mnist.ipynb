{
 "cells": [
  {
   "cell_type": "markdown",
   "metadata": {},
   "source": [
    "# VAE Classification MNIST\n",
    "\n",
    "In this notebook we will train the infamous Variational Auto-Encoder proposed by [Kingma and Welling 2013](https://arxiv.org/abs/1312.6114), that has formed the basis for numerous generative models available today."
   ]
  },
  {
   "cell_type": "markdown",
   "metadata": {},
   "source": [
    "## Imports"
   ]
  },
  {
   "cell_type": "code",
   "execution_count": 14,
   "metadata": {},
   "outputs": [
    {
     "name": "stdout",
     "output_type": "stream",
     "text": [
      "The autoreload extension is already loaded. To reload it, use:\n",
      "  %reload_ext autoreload\n"
     ]
    }
   ],
   "source": [
    "import os\n",
    "import tempfile\n",
    "from functools import partial\n",
    "\n",
    "import matplotlib.pyplot as plt\n",
    "import torch\n",
    "import torch.nn as nn\n",
    "import torch.nn.functional as F\n",
    "import torchvision\n",
    "from lightning import LightningDataModule, Trainer\n",
    "from lightning.pytorch import seed_everything\n",
    "from lightning.pytorch.loggers import CSVLogger\n",
    "from torch import Tensor\n",
    "from torchseg.encoders import TimmEncoder\n",
    "\n",
    "from lightning_uq_box.uq_methods import VAE\n",
    "from lightning_uq_box.uq_methods.utils import _get_num_outputs\n",
    "from lightning_uq_box.viz_utils import plot_training_metrics\n",
    "\n",
    "plt.rcParams[\"figure.figsize\"] = [14, 5]\n",
    "\n",
    "%load_ext autoreload\n",
    "%autoreload 2"
   ]
  },
  {
   "cell_type": "code",
   "execution_count": 15,
   "metadata": {},
   "outputs": [
    {
     "name": "stderr",
     "output_type": "stream",
     "text": [
      "Seed set to 0\n"
     ]
    },
    {
     "data": {
      "text/plain": [
       "0"
      ]
     },
     "execution_count": 15,
     "metadata": {},
     "output_type": "execute_result"
    }
   ],
   "source": [
    "seed_everything(0)"
   ]
  },
  {
   "cell_type": "code",
   "execution_count": 16,
   "metadata": {},
   "outputs": [],
   "source": [
    "my_temp_dir = tempfile.mkdtemp()"
   ]
  },
  {
   "cell_type": "markdown",
   "metadata": {},
   "source": [
    "## Datamodule\n",
    "\n",
    "The following creates a quick Datamodule for the MNIST and MNIST Fashion Dataset so that we can easily train and evaluate our model. The MNIST Fashion dataset can be used as OOD evaluation."
   ]
  },
  {
   "cell_type": "code",
   "execution_count": 17,
   "metadata": {},
   "outputs": [],
   "source": [
    "def collate_fn(batch):\n",
    "    \"\"\"Colate function for dataloader as dictionary.\"\"\"\n",
    "    images, targets = zip(*batch)\n",
    "    images = torch.stack(images)\n",
    "    targets = torch.tensor(targets)\n",
    "    # the target is also the image, since we want to reconstruct it\n",
    "    return {\"input\": images, \"target\": images, \"labels\": targets}\n",
    "\n",
    "\n",
    "class MNISTDatamodule(LightningDataModule):\n",
    "    def __init__(self, root: str, batch_size: int = 64, num_workers=0):\n",
    "        super().__init__()\n",
    "        self.batch_size = batch_size\n",
    "        self.num_workers = num_workers\n",
    "        self.root = root\n",
    "\n",
    "    def setup(self, stage: str) -> None:\n",
    "        \"\"\"Setup data loader.\"\"\"\n",
    "        if stage in [\"fit\", \"validate\"]:\n",
    "            mnist_train = torchvision.datasets.MNIST(\n",
    "                self.root,\n",
    "                train=True,\n",
    "                download=True,\n",
    "                transform=torchvision.transforms.Compose(\n",
    "                    [\n",
    "                        torchvision.transforms.ToTensor(),\n",
    "                        torchvision.transforms.Normalize((0.1305,), (0.3081,)),\n",
    "                    ]\n",
    "                ),\n",
    "            )\n",
    "            self.mnist_train, self.mnist_val = torch.utils.data.random_split(\n",
    "                mnist_train, [55000, 5000]\n",
    "            )\n",
    "\n",
    "        if stage in [\"test\"]:\n",
    "            self.mnist_test = torchvision.datasets.MNIST(\n",
    "                self.root,\n",
    "                train=False,\n",
    "                download=True,\n",
    "                transform=torchvision.transforms.Compose(\n",
    "                    [\n",
    "                        torchvision.transforms.ToTensor(),\n",
    "                        torchvision.transforms.Normalize((0.1305,), (0.3081,)),\n",
    "                    ]\n",
    "                ),\n",
    "            )\n",
    "\n",
    "    def train_dataloader(self):\n",
    "        return torch.utils.data.DataLoader(\n",
    "            self.mnist_train,\n",
    "            batch_size=self.batch_size,\n",
    "            num_workers=self.num_workers,\n",
    "            collate_fn=collate_fn,\n",
    "        )\n",
    "\n",
    "    def val_dataloader(self):\n",
    "        return torch.utils.data.DataLoader(\n",
    "            self.mnist_val,\n",
    "            batch_size=self.batch_size * 10,\n",
    "            num_workers=self.num_workers,\n",
    "            collate_fn=collate_fn,\n",
    "        )\n",
    "\n",
    "    def test_dataloader(self):\n",
    "        return torch.utils.data.DataLoader(\n",
    "            self.mnist_test,\n",
    "            batch_size=self.batch_size * 10,\n",
    "            num_workers=self.num_workers,\n",
    "            collate_fn=collate_fn,\n",
    "        )\n",
    "\n",
    "\n",
    "class MNISTFashionDatamodule(MNISTDatamodule):\n",
    "    \"\"\"MNIST Fashion Datamodule\"\"\"\n",
    "\n",
    "    def setup(self, stage: str) -> None:\n",
    "        \"\"\"Setup data loader.\"\"\"\n",
    "        if stage in [\"fit\", \"validate\"]:\n",
    "            mnist_train = torchvision.datasets.FashionMNIST(\n",
    "                self.root,\n",
    "                train=True,\n",
    "                download=True,\n",
    "                transform=torchvision.transforms.Compose(\n",
    "                    [\n",
    "                        torchvision.transforms.ToTensor(),\n",
    "                        torchvision.transforms.Normalize((0.1305,), (0.3081,)),\n",
    "                    ]\n",
    "                ),\n",
    "            )\n",
    "            self.mnist_train, self.mnist_val = torch.utils.data.random_split(\n",
    "                mnist_train, [55000, 5000]\n",
    "            )\n",
    "\n",
    "        if stage in [\"test\"]:\n",
    "            self.mnist_test = torchvision.datasets.FashionMNIST(\n",
    "                self.root,\n",
    "                train=False,\n",
    "                download=True,\n",
    "                transform=torchvision.transforms.Compose(\n",
    "                    [\n",
    "                        torchvision.transforms.ToTensor(),\n",
    "                        torchvision.transforms.Normalize((0.1305,), (0.3081,)),\n",
    "                    ]\n",
    "                ),\n",
    "            )"
   ]
  },
  {
   "cell_type": "code",
   "execution_count": 18,
   "metadata": {},
   "outputs": [],
   "source": [
    "datamodule = MNISTDatamodule(root=\"./data\", batch_size=64, num_workers=2)\n",
    "datamodule.setup(\"fit\")\n",
    "datamodule.setup(\"test\")\n",
    "\n",
    "fashion_dm = MNISTFashionDatamodule(root=\"./data\", batch_size=64, num_workers=2)\n",
    "fashion_dm.setup(\"test\")"
   ]
  },
  {
   "cell_type": "markdown",
   "metadata": {},
   "source": [
    "### Example Training Samples"
   ]
  },
  {
   "cell_type": "code",
   "execution_count": 22,
   "metadata": {},
   "outputs": [
    {
     "data": {
      "image/png": "[encoded data removed]",
      "text/plain": [
       "<Figure size 1500x300 with 10 Axes>"
      ]
     },
     "metadata": {},
     "output_type": "display_data"
    }
   ],
   "source": [
    "train_loader = datamodule.train_dataloader()\n",
    "batch = next(iter(train_loader))\n",
    "images, targets = batch[\"input\"], batch[\"target\"]\n",
    "\n",
    "# Number of images you want to display\n",
    "num_images = 10\n",
    "\n",
    "# Create a figure and a row of subplots\n",
    "fig, axes = plt.subplots(1, num_images, figsize=(15, 3))\n",
    "\n",
    "# Plot each image on a separate subplot\n",
    "for i in range(num_images):\n",
    "    axes[i].imshow(images[i, 0], cmap=\"gray\")\n",
    "    axes[i].axis(\"off\")  # Hide axis\n",
    "\n",
    "plt.show()"
   ]
  },
  {
   "cell_type": "code",
   "execution_count": 23,
   "metadata": {},
   "outputs": [
    {
     "data": {
      "text/plain": [
       "tensor(2.8221)"
      ]
     },
     "execution_count": 23,
     "metadata": {},
     "output_type": "execute_result"
    }
   ],
   "source": [
    "images.max()"
   ]
  },
  {
   "cell_type": "markdown",
   "metadata": {},
   "source": [
    "## Model and Training\n",
    "\n",
    "The VAE implementation by default offers out-of-the box support for [torchseg encoders](https://github.com/isaaccorley/torchseg/blob/main/torchseg/encoders/timm.py). However, as we will also show, it is straightforward to write your own Encoder-Decoder Implementation."
   ]
  },
  {
   "cell_type": "code",
   "execution_count": 24,
   "metadata": {},
   "outputs": [
    {
     "name": "stderr",
     "output_type": "stream",
     "text": [
      "Unexpected keys (classifier.bias, classifier.weight, conv_head.bias, conv_head.weight) found while loading pretrained weights. This may be expected if model is being adapted.\n"
     ]
    }
   ],
   "source": [
    "timm_vae = VAE(\n",
    "    encoder=TimmEncoder(\"mobilenetv3_small_050\", depth=2, in_channels=1),\n",
    "    latent_size=8,\n",
    "    out_channels=1,  # MNIST are single channel grayscale images\n",
    "    img_size=28,  # MNIST image sizes\n",
    "    optimizer=partial(torch.optim.Adam, lr=1e-3),\n",
    "    num_samples=5,  # Number of samples for latent sampling\n",
    ")"
   ]
  },
  {
   "cell_type": "code",
   "execution_count": 25,
   "metadata": {},
   "outputs": [
    {
     "name": "stderr",
     "output_type": "stream",
     "text": [
      "GPU available: False, used: False\n",
      "TPU available: False, using: 0 TPU cores\n",
      "IPU available: False, using: 0 IPUs\n",
      "HPU available: False, using: 0 HPUs\n"
     ]
    }
   ],
   "source": [
    "logger = CSVLogger(my_temp_dir)\n",
    "trainer = Trainer(\n",
    "    max_epochs=5,\n",
    "    accelerator=\"cpu\",\n",
    "    logger=logger,  # log training metrics for later evaluation\n",
    "    enable_progress_bar=True,\n",
    "    default_root_dir=my_temp_dir,\n",
    ")"
   ]
  },
  {
   "cell_type": "code",
   "execution_count": 26,
   "metadata": {},
   "outputs": [
    {
     "name": "stderr",
     "output_type": "stream",
     "text": [
      "Missing logger folder: /tmp/tmp_n190xpz/lightning_logs\n",
      "\n",
      "  | Name                | Type             | Params\n",
      "---------------------------------------------------------\n",
      "0 | loss_fn             | VAELoss          | 0     \n",
      "1 | train_metrics       | MetricCollection | 0     \n",
      "2 | val_metrics         | MetricCollection | 0     \n",
      "3 | test_metrics        | MetricCollection | 0     \n",
      "4 | encoder             | TimmEncoder      | 272 K \n",
      "5 | latent_mu           | Sequential       | 3.2 K \n",
      "6 | latent_log_var      | Sequential       | 3.2 K \n",
      "7 | latent_init_decoder | Sequential       | 3.6 K \n",
      "8 | decoder             | VAEDecoder       | 3.7 K \n",
      "---------------------------------------------------------\n",
      "285 K     Trainable params\n",
      "0         Non-trainable params\n",
      "285 K     Total params\n",
      "1.143     Total estimated model params size (MB)\n"
     ]
    },
    {
     "data": {
      "application/vnd.jupyter.widget-view+json": {
       "model_id": "b7e92a4093d548708c84690f40c4b146",
       "version_major": 2,
       "version_minor": 0
      },
      "text/plain": [
       "Sanity Checking: |          | 0/? [00:00<?, ?it/s]"
      ]
     },
     "metadata": {},
     "output_type": "display_data"
    },
    {
     "data": {
      "application/vnd.jupyter.widget-view+json": {
       "model_id": "2c30000617684648b5fbeccabc60ae53",
       "version_major": 2,
       "version_minor": 0
      },
      "text/plain": [
       "Training: |          | 0/? [00:00<?, ?it/s]"
      ]
     },
     "metadata": {},
     "output_type": "display_data"
    },
    {
     "data": {
      "application/vnd.jupyter.widget-view+json": {
       "model_id": "55944690269f4f78bd2c075cab318fda",
       "version_major": 2,
       "version_minor": 0
      },
      "text/plain": [
       "Validation: |          | 0/? [00:00<?, ?it/s]"
      ]
     },
     "metadata": {},
     "output_type": "display_data"
    },
    {
     "data": {
      "application/vnd.jupyter.widget-view+json": {
       "model_id": "693d4fdc4340435f9bb63116ce6ad3c2",
       "version_major": 2,
       "version_minor": 0
      },
      "text/plain": [
       "Validation: |          | 0/? [00:00<?, ?it/s]"
      ]
     },
     "metadata": {},
     "output_type": "display_data"
    },
    {
     "data": {
      "application/vnd.jupyter.widget-view+json": {
       "model_id": "eadc1273f7c1404d90285d4607fc8586",
       "version_major": 2,
       "version_minor": 0
      },
      "text/plain": [
       "Validation: |          | 0/? [00:00<?, ?it/s]"
      ]
     },
     "metadata": {},
     "output_type": "display_data"
    },
    {
     "data": {
      "application/vnd.jupyter.widget-view+json": {
       "model_id": "3643a62aa81d4881a9e40b872d9eeedd",
       "version_major": 2,
       "version_minor": 0
      },
      "text/plain": [
       "Validation: |          | 0/? [00:00<?, ?it/s]"
      ]
     },
     "metadata": {},
     "output_type": "display_data"
    },
    {
     "data": {
      "application/vnd.jupyter.widget-view+json": {
       "model_id": "9753747d2bff4218ba510f3d050b931e",
       "version_major": 2,
       "version_minor": 0
      },
      "text/plain": [
       "Validation: |          | 0/? [00:00<?, ?it/s]"
      ]
     },
     "metadata": {},
     "output_type": "display_data"
    },
    {
     "name": "stderr",
     "output_type": "stream",
     "text": [
      "`Trainer.fit` stopped: `max_epochs=5` reached.\n"
     ]
    }
   ],
   "source": [
    "trainer.fit(timm_vae, datamodule)"
   ]
  },
  {
   "cell_type": "markdown",
   "metadata": {},
   "source": [
    "## Training Metrics"
   ]
  },
  {
   "cell_type": "code",
   "execution_count": 27,
   "metadata": {},
   "outputs": [
    {
     "data": {
      "image/png": "[encoded data removed]",
      "text/plain": [
       "<Figure size 1000x500 with 2 Axes>"
      ]
     },
     "metadata": {},
     "output_type": "display_data"
    }
   ],
   "source": [
    "fig = plot_training_metrics(\n",
    "    os.path.join(my_temp_dir, \"lightning_logs\"), [\"train_loss\", \"trainRMSE\"]\n",
    ")"
   ]
  },
  {
   "cell_type": "markdown",
   "metadata": {},
   "source": [
    "## Custom Encoder-Decoder Model\n",
    "\n",
    "In the following section, we will show how you can configure your custom VAE model and still use all the existing training functionality of the VAE module. For this we simply have to overwrite the `configure_model()`.\n",
    "\n",
    "The parts we have to define are:\n",
    "- `encoder`: an encoder model that encodes the image into a latent space\n",
    "- `latent_feature_dim`: the latent feature dimensionality\n",
    "- `latent_mu`: a module, that takes the output of the `encoder`and encodes the `mu` parameter of the latent space\n",
    "- `latent_log_var`: a module that takes the output of the `encoder` and encodes the `log_var` parameter of the latent space\n",
    "- `latent_init_decoder`(Optional): a module that decodes the latent space sample `z`such that the input shape is correct for the `decoder`\n",
    "- `decoder`: a decoder model that decodes the latent space back to image space"
   ]
  },
  {
   "cell_type": "code",
   "execution_count": 28,
   "metadata": {},
   "outputs": [],
   "source": [
    "class Encoder(nn.Module):\n",
    "    def __init__(self, latent_dims: int):\n",
    "        \"\"\"Initialize a new encoder.\n",
    "\n",
    "        Args:\n",
    "            latent_dims: The number of latent dimensions\n",
    "        \"\"\"\n",
    "        super().__init__()\n",
    "        self.linear1 = nn.Linear(784, 512)\n",
    "        self.linear2 = nn.Linear(512, latent_dims)\n",
    "\n",
    "    def forward(self, x: Tensor) -> Tensor:\n",
    "        \"\"\"Forward pass of encoder:\n",
    "\n",
    "        Args:\n",
    "            x: The input image.\n",
    "\n",
    "        Returns:\n",
    "            The latent representation.\n",
    "        \"\"\"\n",
    "        x = torch.flatten(x, start_dim=1)\n",
    "        x = F.relu(self.linear1(x))\n",
    "        return self.linear2(x)\n",
    "\n",
    "\n",
    "class Decoder(nn.Module):\n",
    "    \"\"\"Decoder for VAE.\"\"\"\n",
    "\n",
    "    def __init__(self, latent_dims: int):\n",
    "        \"\"\"Initialize a new decoder.\n",
    "\n",
    "        Args:\n",
    "            latent_dims: The number of latent dimensions.\n",
    "        \"\"\"\n",
    "        super().__init__()\n",
    "        self.linear1 = nn.Linear(latent_dims, 512)\n",
    "        self.linear2 = nn.Linear(512, 784)\n",
    "\n",
    "    def forward(self, z: Tensor) -> Tensor:\n",
    "        \"\"\"Forward pass of the decoder.\n",
    "\n",
    "        Args:\n",
    "            z: The latent representation.\n",
    "\n",
    "        Returns:\n",
    "            The reconstructed image.\n",
    "        \"\"\"\n",
    "        z = F.relu(self.linear1(z))\n",
    "        z = torch.sigmoid(self.linear2(z))\n",
    "        return z.reshape((-1, 1, 28, 28))"
   ]
  },
  {
   "cell_type": "code",
   "execution_count": 29,
   "metadata": {},
   "outputs": [],
   "source": [
    "class MyCustomVAE(VAE):\n",
    "    def configure_model(self) -> None:\n",
    "        \"\"\"Configure the custom model.\"\"\"\n",
    "\n",
    "        self.latent_feature_dim = _get_num_outputs(self.encoder)\n",
    "        self.latent_mu = nn.Linear(self.latent_feature_dim, self.latent_size)\n",
    "        self.latent_log_var = nn.Linear(self.latent_feature_dim, self.latent_size)\n",
    "        self.latent_init_decoder = nn.Identity()  # we will not use this\n",
    "\n",
    "        self.decoder = Decoder(self.latent_size)\n",
    "\n",
    "    # TimmEncoder outputs a list of features, with our custom\n",
    "    # implementation we don't have that\n",
    "    def encoder_forward(self, x: Tensor) -> Tensor:\n",
    "        return self.encoder(x)"
   ]
  },
  {
   "cell_type": "code",
   "execution_count": 30,
   "metadata": {},
   "outputs": [],
   "source": [
    "custom_vae = MyCustomVAE(\n",
    "    encoder=Encoder(latent_dims=8),\n",
    "    latent_size=8,\n",
    "    out_channels=1,\n",
    "    img_size=28,\n",
    "    optimizer=partial(torch.optim.Adam, lr=1e-3),\n",
    "    num_samples=5,\n",
    ")"
   ]
  },
  {
   "cell_type": "code",
   "execution_count": 31,
   "metadata": {},
   "outputs": [
    {
     "name": "stderr",
     "output_type": "stream",
     "text": [
      "GPU available: False, used: False\n",
      "TPU available: False, using: 0 TPU cores\n",
      "IPU available: False, using: 0 IPUs\n",
      "HPU available: False, using: 0 HPUs\n"
     ]
    }
   ],
   "source": [
    "my_temp_dir = tempfile.mkdtemp()\n",
    "logger = CSVLogger(my_temp_dir)\n",
    "trainer = Trainer(\n",
    "    max_epochs=5,\n",
    "    accelerator=\"cpu\",\n",
    "    logger=logger,  # log training metrics for later evaluation\n",
    "    enable_progress_bar=True,\n",
    "    default_root_dir=my_temp_dir,\n",
    ")"
   ]
  },
  {
   "cell_type": "code",
   "execution_count": 32,
   "metadata": {},
   "outputs": [
    {
     "name": "stderr",
     "output_type": "stream",
     "text": [
      "Missing logger folder: /tmp/tmphl_gzrym/lightning_logs\n",
      "\n",
      "  | Name                | Type             | Params\n",
      "---------------------------------------------------------\n",
      "0 | loss_fn             | VAELoss          | 0     \n",
      "1 | train_metrics       | MetricCollection | 0     \n",
      "2 | val_metrics         | MetricCollection | 0     \n",
      "3 | test_metrics        | MetricCollection | 0     \n",
      "4 | encoder             | Encoder          | 406 K \n",
      "5 | latent_mu           | Linear           | 72    \n",
      "6 | latent_log_var      | Linear           | 72    \n",
      "7 | latent_init_decoder | Identity         | 0     \n",
      "8 | decoder             | Decoder          | 406 K \n",
      "---------------------------------------------------------\n",
      "812 K     Trainable params\n",
      "0         Non-trainable params\n",
      "812 K     Total params\n",
      "3.252     Total estimated model params size (MB)\n"
     ]
    },
    {
     "data": {
      "application/vnd.jupyter.widget-view+json": {
       "model_id": "00195e9bcf914f91a2673237d04f7220",
       "version_major": 2,
       "version_minor": 0
      },
      "text/plain": [
       "Sanity Checking: |          | 0/? [00:00<?, ?it/s]"
      ]
     },
     "metadata": {},
     "output_type": "display_data"
    },
    {
     "data": {
      "application/vnd.jupyter.widget-view+json": {
       "model_id": "2de7044e67474b5e93fa00b48174eba6",
       "version_major": 2,
       "version_minor": 0
      },
      "text/plain": [
       "Training: |          | 0/? [00:00<?, ?it/s]"
      ]
     },
     "metadata": {},
     "output_type": "display_data"
    },
    {
     "data": {
      "application/vnd.jupyter.widget-view+json": {
       "model_id": "64bbf33f3e0545ccb1cee490732f248d",
       "version_major": 2,
       "version_minor": 0
      },
      "text/plain": [
       "Validation: |          | 0/? [00:00<?, ?it/s]"
      ]
     },
     "metadata": {},
     "output_type": "display_data"
    },
    {
     "data": {
      "application/vnd.jupyter.widget-view+json": {
       "model_id": "89abbded535f4fecbd4d2737a8410bb7",
       "version_major": 2,
       "version_minor": 0
      },
      "text/plain": [
       "Validation: |          | 0/? [00:00<?, ?it/s]"
      ]
     },
     "metadata": {},
     "output_type": "display_data"
    },
    {
     "data": {
      "application/vnd.jupyter.widget-view+json": {
       "model_id": "7678605718d54fd6891912e186da1a59",
       "version_major": 2,
       "version_minor": 0
      },
      "text/plain": [
       "Validation: |          | 0/? [00:00<?, ?it/s]"
      ]
     },
     "metadata": {},
     "output_type": "display_data"
    },
    {
     "data": {
      "application/vnd.jupyter.widget-view+json": {
       "model_id": "2d1f1488f8f949d0beef51ad2e113989",
       "version_major": 2,
       "version_minor": 0
      },
      "text/plain": [
       "Validation: |          | 0/? [00:00<?, ?it/s]"
      ]
     },
     "metadata": {},
     "output_type": "display_data"
    },
    {
     "data": {
      "application/vnd.jupyter.widget-view+json": {
       "model_id": "b23821b334d845a9ad2c38de7ef013b2",
       "version_major": 2,
       "version_minor": 0
      },
      "text/plain": [
       "Validation: |          | 0/? [00:00<?, ?it/s]"
      ]
     },
     "metadata": {},
     "output_type": "display_data"
    },
    {
     "name": "stderr",
     "output_type": "stream",
     "text": [
      "`Trainer.fit` stopped: `max_epochs=5` reached.\n"
     ]
    }
   ],
   "source": [
    "trainer.fit(custom_vae, datamodule)"
   ]
  },
  {
   "cell_type": "code",
   "execution_count": 33,
   "metadata": {},
   "outputs": [
    {
     "data": {
      "image/png": "[encoded data removed]",
      "text/plain": [
       "<Figure size 1000x500 with 2 Axes>"
      ]
     },
     "metadata": {},
     "output_type": "display_data"
    }
   ],
   "source": [
    "fig = plot_training_metrics(\n",
    "    os.path.join(my_temp_dir, \"lightning_logs\"), [\"train_loss\", \"trainRMSE\"]\n",
    ")"
   ]
  },
  {
   "cell_type": "code",
   "execution_count": 36,
   "metadata": {},
   "outputs": [
    {
     "data": {
      "image/png": "[encoded data removed]",
      "text/plain": [
       "<Figure size 3200x3200 with 16 Axes>"
      ]
     },
     "metadata": {},
     "output_type": "display_data"
    }
   ],
   "source": [
    "with torch.no_grad():\n",
    "    sampled_imgs = custom_vae.sample()\n",
    "\n",
    "fig, ax = plt.subplots(4, 4, figsize=(32, 32))\n",
    "for i in range(16):\n",
    "    ax[i // 4, i % 4].imshow(sampled_imgs[i].cpu().numpy().transpose(1, 2, 0))\n",
    "    ax[i // 4, i % 4].axis(\"off\")"
   ]
  },
  {
   "cell_type": "code",
   "execution_count": 40,
   "metadata": {},
   "outputs": [
    {
     "data": {
      "text/plain": [
       "tensor([[[1.4373e-04, 1.2776e-04, 1.3441e-04, 1.1921e-04, 1.4920e-04,\n",
       "          1.4741e-04, 1.1241e-04, 1.3760e-04, 1.0606e-04, 1.3962e-04,\n",
       "          1.3781e-04, 1.1060e-04, 1.3164e-04, 1.3665e-04, 1.4938e-04,\n",
       "          9.5580e-05, 9.8814e-05, 9.6956e-05, 1.1596e-04, 1.2857e-04,\n",
       "          1.2325e-04, 9.3956e-05, 9.2732e-05, 1.0523e-04, 1.1024e-04,\n",
       "          1.1493e-04, 1.2567e-04, 1.2331e-04],\n",
       "         [1.4695e-04, 1.1571e-04, 1.0158e-04, 1.2318e-04, 1.0186e-04,\n",
       "          1.1734e-04, 1.2034e-04, 8.6438e-05, 1.1769e-04, 1.1429e-04,\n",
       "          1.0729e-04, 1.2544e-04, 1.2862e-04, 9.0527e-05, 1.3649e-04,\n",
       "          1.1613e-04, 1.1981e-04, 9.3294e-05, 1.1849e-04, 1.1094e-04,\n",
       "          1.1253e-04, 1.4244e-04, 1.1867e-04, 8.3755e-05, 1.1781e-04,\n",
       "          1.0956e-04, 1.2966e-04, 9.4554e-05],\n",
       "         [1.3074e-04, 1.0566e-04, 1.4446e-04, 1.1399e-04, 1.4262e-04,\n",
       "          1.1363e-04, 9.1941e-05, 1.3064e-04, 9.5392e-05, 1.2018e-04,\n",
       "          1.5968e-04, 1.2913e-04, 1.2116e-04, 1.4824e-04, 1.1254e-04,\n",
       "          1.2326e-04, 1.2638e-04, 1.3733e-04, 1.2214e-04, 1.0158e-04,\n",
       "          1.2484e-04, 1.1393e-04, 1.4634e-04, 1.0591e-04, 1.1881e-04,\n",
       "          1.1621e-04, 1.1140e-04, 1.0948e-04],\n",
       "         [1.2276e-04, 1.0602e-04, 1.3413e-04, 1.5564e-04, 1.0730e-04,\n",
       "          1.1859e-04, 1.3002e-04, 1.3032e-04, 1.1524e-04, 1.2104e-04,\n",
       "          1.1597e-04, 1.5061e-04, 1.4465e-04, 1.5712e-04, 2.0470e-04,\n",
       "          2.1011e-04, 1.8837e-04, 1.4743e-04, 1.4169e-04, 1.0330e-04,\n",
       "          1.1596e-04, 1.0328e-04, 1.7183e-04, 1.1824e-04, 1.2842e-04,\n",
       "          1.3613e-04, 1.3491e-04, 1.1915e-04],\n",
       "         [1.2466e-04, 1.1349e-04, 1.3584e-04, 1.5271e-04, 1.2359e-04,\n",
       "          1.2693e-04, 1.6138e-04, 1.3825e-04, 1.7078e-04, 1.5504e-04,\n",
       "          1.5564e-04, 2.2071e-04, 3.7052e-04, 4.8602e-02, 1.1057e-01,\n",
       "          1.8161e-01, 1.3417e-01, 5.2559e-02, 9.4257e-04, 2.6416e-04,\n",
       "          1.3176e-04, 1.5666e-04, 1.4395e-04, 1.4888e-04, 9.6684e-05,\n",
       "          1.3839e-04, 1.1228e-04, 9.6814e-05],\n",
       "         [7.9110e-05, 1.1304e-04, 1.1838e-04, 1.3883e-04, 1.3559e-04,\n",
       "          1.3620e-04, 1.3343e-04, 1.5923e-04, 1.4157e-04, 2.2306e-04,\n",
       "          8.8873e-04, 1.2614e-01, 2.9813e-01, 4.9391e-01, 6.8678e-01,\n",
       "          7.5922e-01, 7.2543e-01, 6.6095e-01, 5.1729e-01, 2.6437e-01,\n",
       "          1.1348e-02, 1.8982e-04, 1.8066e-04, 1.2989e-04, 1.2634e-04,\n",
       "          9.3874e-05, 1.5198e-04, 1.2063e-04],\n",
       "         [1.0910e-04, 1.3279e-04, 1.3789e-04, 1.2703e-04, 1.0059e-04,\n",
       "          1.0759e-04, 1.2846e-04, 1.9711e-04, 2.7719e-04, 6.3172e-02,\n",
       "          2.3551e-01, 4.7212e-01, 7.2351e-01, 9.6425e-01, 9.9968e-01,\n",
       "          9.9968e-01, 9.9973e-01, 9.9697e-01, 8.3524e-01, 6.3812e-01,\n",
       "          3.0997e-01, 2.0465e-02, 3.0365e-04, 1.6146e-04, 1.1071e-04,\n",
       "          1.0179e-04, 1.2222e-04, 7.4941e-05],\n",
       "         [1.0948e-04, 9.6223e-05, 1.1262e-04, 1.0832e-04, 1.3855e-04,\n",
       "          1.2943e-04, 1.8781e-04, 2.9242e-04, 4.0016e-02, 2.3363e-01,\n",
       "          5.0753e-01, 8.2121e-01, 9.9670e-01, 9.9978e-01, 9.9986e-01,\n",
       "          9.9984e-01, 9.9981e-01, 9.9980e-01, 9.9878e-01, 8.1122e-01,\n",
       "          5.0482e-01, 1.9022e-01, 3.4936e-04, 1.4283e-04, 1.7053e-04,\n",
       "          1.3316e-04, 1.2086e-04, 1.0449e-04],\n",
       "         [1.1306e-04, 1.0137e-04, 1.3454e-04, 1.0307e-04, 1.2188e-04,\n",
       "          1.5842e-04, 1.4723e-04, 5.3309e-04, 1.4366e-01, 3.9336e-01,\n",
       "          7.0315e-01, 9.7195e-01, 9.9971e-01, 9.9972e-01, 9.9978e-01,\n",
       "          9.9976e-01, 9.9974e-01, 9.9975e-01, 9.9953e-01, 8.7218e-01,\n",
       "          5.7798e-01, 2.4941e-01, 7.3695e-04, 1.8355e-04, 1.4859e-04,\n",
       "          8.2161e-05, 9.5556e-05, 1.2909e-04],\n",
       "         [1.2007e-04, 1.0513e-04, 1.0960e-04, 1.1273e-04, 1.3111e-04,\n",
       "          1.2925e-04, 1.8104e-04, 3.9261e-03, 2.3001e-01, 5.1695e-01,\n",
       "          8.1959e-01, 9.9050e-01, 9.8988e-01, 9.3846e-01, 8.7579e-01,\n",
       "          8.4356e-01, 8.8431e-01, 9.9241e-01, 9.9282e-01, 8.3596e-01,\n",
       "          5.8813e-01, 2.4093e-01, 7.4264e-04, 1.8426e-04, 1.6164e-04,\n",
       "          1.3994e-04, 1.3223e-04, 1.4213e-04],\n",
       "         [1.2847e-04, 1.1873e-04, 1.3426e-04, 1.1101e-04, 1.3128e-04,\n",
       "          1.4282e-04, 2.4176e-04, 3.9933e-02, 2.8513e-01, 6.1700e-01,\n",
       "          8.6933e-01, 9.2460e-01, 8.5266e-01, 7.1348e-01, 6.2665e-01,\n",
       "          6.8658e-01, 8.0113e-01, 9.2215e-01, 9.4545e-01, 7.4637e-01,\n",
       "          5.3520e-01, 2.0657e-01, 4.7730e-04, 1.4921e-04, 1.3206e-04,\n",
       "          1.2087e-04, 8.9354e-05, 9.6686e-05],\n",
       "         [1.3201e-04, 9.7277e-05, 9.0831e-05, 1.2500e-04, 1.6326e-04,\n",
       "          1.3250e-04, 2.2449e-04, 5.9441e-02, 3.5791e-01, 6.9591e-01,\n",
       "          8.7433e-01, 8.5021e-01, 6.9512e-01, 5.2757e-01, 5.6820e-01,\n",
       "          7.1635e-01, 8.3507e-01, 9.5979e-01, 9.2742e-01, 7.0866e-01,\n",
       "          4.2193e-01, 9.1950e-02, 2.3347e-04, 1.3586e-04, 1.1608e-04,\n",
       "          1.3106e-04, 1.2898e-04, 9.9469e-05],\n",
       "         [1.1316e-04, 1.1032e-04, 1.3737e-04, 1.3523e-04, 1.1078e-04,\n",
       "          1.5808e-04, 2.5689e-04, 1.0669e-01, 4.3855e-01, 7.7929e-01,\n",
       "          8.7226e-01, 7.9015e-01, 6.8121e-01, 6.5919e-01, 7.9211e-01,\n",
       "          8.9185e-01, 9.9819e-01, 9.9958e-01, 9.7017e-01, 6.5578e-01,\n",
       "          2.8320e-01, 3.5794e-02, 2.2178e-04, 1.2796e-04, 1.5569e-04,\n",
       "          1.1733e-04, 1.1323e-04, 1.2648e-04],\n",
       "         [1.2039e-04, 1.1069e-04, 1.1985e-04, 1.0940e-04, 1.1561e-04,\n",
       "          1.3097e-04, 3.0750e-04, 1.5956e-01, 5.1662e-01, 8.1257e-01,\n",
       "          8.6904e-01, 7.6861e-01, 7.5012e-01, 8.5965e-01, 9.9324e-01,\n",
       "          9.9963e-01, 9.9982e-01, 9.9981e-01, 9.8605e-01, 6.1419e-01,\n",
       "          2.3697e-01, 2.9540e-02, 3.1851e-04, 1.6979e-04, 1.2498e-04,\n",
       "          1.3809e-04, 1.4363e-04, 8.4951e-05],\n",
       "         [1.2012e-04, 1.0267e-04, 1.4847e-04, 1.2168e-04, 1.4195e-04,\n",
       "          1.3842e-04, 4.5888e-04, 2.0965e-01, 5.2487e-01, 7.6613e-01,\n",
       "          8.0739e-01, 7.8131e-01, 8.1454e-01, 9.9910e-01, 9.9982e-01,\n",
       "          9.9985e-01, 9.9985e-01, 9.9983e-01, 9.6558e-01, 6.0621e-01,\n",
       "          2.7127e-01, 6.5482e-02, 4.5236e-04, 1.8237e-04, 1.2856e-04,\n",
       "          1.2497e-04, 1.0776e-04, 1.2401e-04],\n",
       "         [9.3273e-05, 1.3198e-04, 1.2136e-04, 1.3796e-04, 1.6961e-04,\n",
       "          1.6871e-04, 8.5766e-04, 2.3403e-01, 5.0533e-01, 7.1840e-01,\n",
       "          7.3833e-01, 7.5262e-01, 8.8560e-01, 9.9976e-01, 9.9982e-01,\n",
       "          9.9984e-01, 9.9983e-01, 9.9980e-01, 8.8940e-01, 5.8579e-01,\n",
       "          3.3307e-01, 1.3362e-01, 6.8170e-04, 2.1895e-04, 1.1622e-04,\n",
       "          1.0376e-04, 1.2292e-04, 1.6706e-04],\n",
       "         [1.2015e-04, 1.1279e-04, 9.6777e-05, 1.0821e-04, 1.0961e-04,\n",
       "          1.3727e-04, 2.4031e-03, 2.1067e-01, 4.5130e-01, 5.8370e-01,\n",
       "          6.4497e-01, 6.9991e-01, 8.6473e-01, 9.9932e-01, 9.9977e-01,\n",
       "          9.9983e-01, 9.9971e-01, 9.9660e-01, 8.1584e-01, 5.9683e-01,\n",
       "          3.6070e-01, 1.3553e-01, 4.2580e-04, 1.8693e-04, 1.1820e-04,\n",
       "          9.8895e-05, 1.4157e-04, 9.3893e-05],\n",
       "         [1.0042e-04, 1.4101e-04, 1.4687e-04, 1.0048e-04, 1.0713e-04,\n",
       "          1.6269e-04, 7.1929e-03, 1.6703e-01, 3.2755e-01, 4.4594e-01,\n",
       "          4.8231e-01, 5.4638e-01, 6.6305e-01, 8.4624e-01, 9.9833e-01,\n",
       "          9.9945e-01, 9.9744e-01, 9.2675e-01, 8.0647e-01, 6.0167e-01,\n",
       "          3.6905e-01, 1.0717e-01, 2.7640e-04, 1.4891e-04, 1.1830e-04,\n",
       "          9.8149e-05, 1.2832e-04, 1.2755e-04],\n",
       "         [9.7618e-05, 1.2414e-04, 1.3099e-04, 1.5865e-04, 1.3928e-04,\n",
       "          2.4721e-04, 2.5424e-02, 1.6793e-01, 3.1182e-01, 3.9347e-01,\n",
       "          4.5399e-01, 5.1577e-01, 6.0352e-01, 7.7755e-01, 9.6313e-01,\n",
       "          9.9808e-01, 9.9534e-01, 9.3321e-01, 8.3295e-01, 6.2349e-01,\n",
       "          3.2198e-01, 6.1879e-02, 2.4082e-04, 1.4736e-04, 1.1332e-04,\n",
       "          1.2369e-04, 1.0815e-04, 1.1991e-04],\n",
       "         [1.2441e-04, 9.5572e-05, 1.5028e-04, 1.5420e-04, 1.4406e-04,\n",
       "          2.2014e-04, 3.3806e-02, 2.1373e-01, 3.7943e-01, 4.8494e-01,\n",
       "          5.4111e-01, 6.4957e-01, 7.2279e-01, 8.6822e-01, 9.9838e-01,\n",
       "          9.9956e-01, 9.9943e-01, 9.6608e-01, 8.1174e-01, 5.3927e-01,\n",
       "          2.1895e-01, 1.8582e-03, 2.0980e-04, 1.1404e-04, 1.3049e-04,\n",
       "          9.7066e-05, 1.1982e-04, 1.1743e-04],\n",
       "         [1.0855e-04, 1.1554e-04, 9.3612e-05, 1.4275e-04, 1.2836e-04,\n",
       "          1.9880e-04, 3.5452e-02, 2.7318e-01, 4.9605e-01, 6.2506e-01,\n",
       "          7.3222e-01, 8.6984e-01, 9.5566e-01, 9.9969e-01, 9.9976e-01,\n",
       "          9.9976e-01, 9.9963e-01, 9.3987e-01, 6.7974e-01, 3.7356e-01,\n",
       "          1.0843e-01, 2.5660e-04, 1.7139e-04, 1.1382e-04, 1.2580e-04,\n",
       "          1.0005e-04, 1.2322e-04, 1.4458e-04],\n",
       "         [1.0339e-04, 1.0937e-04, 1.1937e-04, 1.0076e-04, 1.4048e-04,\n",
       "          1.4598e-04, 3.0553e-03, 2.5903e-01, 5.2461e-01, 7.4581e-01,\n",
       "          9.1042e-01, 9.9769e-01, 9.9981e-01, 9.9984e-01, 9.9988e-01,\n",
       "          9.9982e-01, 9.8711e-01, 7.6047e-01, 4.3253e-01, 1.7965e-01,\n",
       "          5.3372e-04, 1.5799e-04, 1.5047e-04, 1.3809e-04, 1.6585e-04,\n",
       "          1.1791e-04, 1.1025e-04, 1.1236e-04],\n",
       "         [1.0624e-04, 1.3870e-04, 1.2194e-04, 1.0524e-04, 1.2303e-04,\n",
       "          1.3149e-04, 2.3466e-04, 1.0102e-01, 3.6954e-01, 6.7724e-01,\n",
       "          8.8232e-01, 9.9868e-01, 9.9972e-01, 9.9982e-01, 9.9971e-01,\n",
       "          9.6591e-01, 7.1717e-01, 4.1750e-01, 1.5565e-01, 4.7429e-04,\n",
       "          1.8196e-04, 1.1188e-04, 1.3831e-04, 1.2808e-04, 1.4945e-04,\n",
       "          1.3662e-04, 1.2362e-04, 1.0454e-04],\n",
       "         [1.4726e-04, 1.0441e-04, 1.0610e-04, 1.3242e-04, 1.4468e-04,\n",
       "          1.3815e-04, 1.6248e-04, 2.8807e-04, 6.2911e-02, 3.6694e-01,\n",
       "          6.1570e-01, 8.1051e-01, 8.9280e-01, 8.8651e-01, 7.8341e-01,\n",
       "          5.6699e-01, 2.7207e-01, 9.1062e-02, 3.0792e-04, 1.5389e-04,\n",
       "          1.0852e-04, 1.3367e-04, 9.5473e-05, 1.5126e-04, 1.4466e-04,\n",
       "          1.3461e-04, 1.2685e-04, 1.1794e-04],\n",
       "         [1.1297e-04, 1.2246e-04, 1.1629e-04, 1.1890e-04, 1.2430e-04,\n",
       "          1.3232e-04, 1.2264e-04, 1.4044e-04, 1.4858e-04, 2.9299e-04,\n",
       "          3.6534e-02, 1.6603e-01, 2.5528e-01, 2.3764e-01, 1.5141e-01,\n",
       "          4.0453e-02, 3.0399e-04, 1.5459e-04, 1.4098e-04, 1.1348e-04,\n",
       "          9.3825e-05, 1.0353e-04, 1.1171e-04, 1.1111e-04, 1.0999e-04,\n",
       "          1.3973e-04, 1.1977e-04, 7.8448e-05],\n",
       "         [1.2829e-04, 9.9470e-05, 9.0833e-05, 1.3246e-04, 1.1700e-04,\n",
       "          1.2441e-04, 1.1227e-04, 1.2666e-04, 1.4569e-04, 1.3134e-04,\n",
       "          1.5302e-04, 1.5829e-04, 1.8622e-04, 1.9237e-04, 1.5673e-04,\n",
       "          1.8180e-04, 1.1810e-04, 1.1737e-04, 1.0437e-04, 1.1018e-04,\n",
       "          1.3994e-04, 1.5194e-04, 1.0902e-04, 1.1319e-04, 8.9129e-05,\n",
       "          1.0488e-04, 1.4040e-04, 1.0481e-04],\n",
       "         [1.0998e-04, 1.4037e-04, 1.3378e-04, 1.2581e-04, 1.0689e-04,\n",
       "          1.4407e-04, 1.2899e-04, 1.2150e-04, 1.3940e-04, 1.1065e-04,\n",
       "          1.2369e-04, 1.3769e-04, 1.1042e-04, 1.3915e-04, 1.1668e-04,\n",
       "          1.5176e-04, 1.8031e-04, 1.3753e-04, 1.3843e-04, 1.0483e-04,\n",
       "          1.0504e-04, 1.1053e-04, 1.0643e-04, 1.0539e-04, 9.8352e-05,\n",
       "          9.3550e-05, 1.5385e-04, 9.6175e-05],\n",
       "         [1.3117e-04, 1.4540e-04, 1.2851e-04, 1.1133e-04, 1.0416e-04,\n",
       "          1.1412e-04, 1.3618e-04, 1.0911e-04, 1.2346e-04, 1.0713e-04,\n",
       "          1.3845e-04, 1.0571e-04, 1.0422e-04, 1.3150e-04, 1.3410e-04,\n",
       "          1.3062e-04, 1.2636e-04, 1.3886e-04, 1.3555e-04, 1.0030e-04,\n",
       "          9.4977e-05, 1.3660e-04, 1.4911e-04, 1.4400e-04, 1.0823e-04,\n",
       "          1.1657e-04, 1.2419e-04, 9.8256e-05]]])"
      ]
     },
     "execution_count": 40,
     "metadata": {},
     "output_type": "execute_result"
    }
   ],
   "source": [
    "sampled_imgs[2]"
   ]
  },
  {
   "cell_type": "markdown",
   "metadata": {},
   "source": [
    "## Prediction Evaluation\n",
    "\n",
    "We evaluate predictions across in distribution and out of distribution samples, for the latter with the MNISTFashion Dataset."
   ]
  },
  {
   "cell_type": "markdown",
   "metadata": {},
   "source": [
    "## Some Visual Examples"
   ]
  },
  {
   "cell_type": "markdown",
   "metadata": {},
   "source": [
    "### In Distribution\n",
    "\n",
    "- show samples\n",
    "- show UQ of in distribution reconstructions\n",
    "- show latent space walk figure"
   ]
  },
  {
   "cell_type": "code",
   "execution_count": 35,
   "metadata": {},
   "outputs": [
    {
     "ename": "NameError",
     "evalue": "name 'visualize_samples' is not defined",
     "output_type": "error",
     "traceback": [
      "\u001b[0;31m---------------------------------------------------------------------------\u001b[0m",
      "\u001b[0;31mNameError\u001b[0m                                 Traceback (most recent call last)",
      "Cell \u001b[0;32mIn[35], line 1\u001b[0m\n\u001b[0;32m----> 1\u001b[0m \u001b[43mvisualize_samples\u001b[49m(uncertainties_in, pred_in, target_in, images_to_viz_in)\n",
      "\u001b[0;31mNameError\u001b[0m: name 'visualize_samples' is not defined"
     ]
    }
   ],
   "source": []
  },
  {
   "cell_type": "markdown",
   "metadata": {},
   "source": [
    "### Out of Distribution\n",
    "\n",
    "- show reconstruction of fashion MNIST pictures\n",
    "- show uncertainty of reconstructions"
   ]
  }
 ],
 "metadata": {
  "kernelspec": {
   "display_name": "py311uqbox",
   "language": "python",
   "name": "python3"
  },
  "language_info": {
   "codemirror_mode": {
    "name": "ipython",
    "version": 3
   },
   "file_extension": ".py",
   "mimetype": "text/x-python",
   "name": "python",
   "nbconvert_exporter": "python",
   "pygments_lexer": "ipython3",
   "version": "3.11.8"
  }
 },
 "nbformat": 4,
 "nbformat_minor": 2
}
