{
 "cells": [
  {
   "cell_type": "markdown",
   "id": "fcc71f6d",
   "metadata": {},
   "source": [
    "# Deterministic Uncertainty Estimation Classification"
   ]
  },
  {
   "cell_type": "markdown",
   "id": "8cab855c",
   "metadata": {},
   "source": [
    "## Imports"
   ]
  },
  {
   "cell_type": "code",
   "execution_count": null,
   "id": "a0c29351",
   "metadata": {},
   "outputs": [],
   "source": [
    "import os\n",
    "import tempfile\n",
    "from functools import partial\n",
    "\n",
    "import matplotlib.pyplot as plt\n",
    "import numpy as np\n",
    "import pandas as pd\n",
    "import torch\n",
    "from gpytorch.mlls import VariationalELBO\n",
    "from lightning import Trainer\n",
    "from lightning.pytorch import seed_everything\n",
    "from lightning.pytorch.loggers import CSVLogger\n",
    "\n",
    "from lightning_uq_box.datamodules import TwoMoonsDataModule\n",
    "from lightning_uq_box.models import MLP\n",
    "from lightning_uq_box.uq_methods import (  # BaseModel,; DeterministicGaussianModel,\n",
    "    DKLGPLayer,\n",
    "    DUEClassification,\n",
    ")\n",
    "from lightning_uq_box.viz_utils import (\n",
    "    plot_predictions_classification,\n",
    "    plot_training_metrics,\n",
    "    plot_two_moons_data,\n",
    ")"
   ]
  },
  {
   "cell_type": "code",
   "execution_count": null,
   "id": "b95316e4",
   "metadata": {},
   "outputs": [],
   "source": [
    "seed_everything(2)"
   ]
  },
  {
   "cell_type": "code",
   "execution_count": null,
   "id": "d11e0628",
   "metadata": {},
   "outputs": [],
   "source": [
    "# temporary directory for saving\n",
    "my_temp_dir = tempfile.mkdtemp()"
   ]
  },
  {
   "cell_type": "code",
   "execution_count": null,
   "id": "44f02fcb",
   "metadata": {},
   "outputs": [],
   "source": [
    "dm = TwoMoonsDataModule(batch_size=100)"
   ]
  },
  {
   "cell_type": "code",
   "execution_count": null,
   "id": "afdcfd1c",
   "metadata": {},
   "outputs": [],
   "source": [
    "# define data\n",
    "X_train, y_train, X_test, y_test, test_grid_points = (\n",
    "    dm.X_train,\n",
    "    dm.y_train,\n",
    "    dm.X_test,\n",
    "    dm.y_test,\n",
    "    dm.test_grid_points,\n",
    ")"
   ]
  },
  {
   "cell_type": "code",
   "execution_count": null,
   "id": "36222914",
   "metadata": {},
   "outputs": [],
   "source": [
    "plot_two_moons_data(X_train, y_train, X_test, y_test)"
   ]
  },
  {
   "cell_type": "markdown",
   "id": "04ba71c0",
   "metadata": {},
   "source": [
    "## Feature Extractor"
   ]
  },
  {
   "cell_type": "code",
   "execution_count": null,
   "id": "4d00b982",
   "metadata": {},
   "outputs": [],
   "source": [
    "feature_extractor = MLP(\n",
    "    n_inputs=2, n_outputs=13, n_hidden=[50], activation_fn=torch.nn.ELU()\n",
    ")"
   ]
  },
  {
   "cell_type": "markdown",
   "id": "dd659eb0",
   "metadata": {},
   "source": [
    "## DUE Model"
   ]
  },
  {
   "cell_type": "code",
   "execution_count": null,
   "id": "28a71711",
   "metadata": {},
   "outputs": [],
   "source": [
    "dkl_model = DUEClassification(\n",
    "    feature_extractor,\n",
    "    gp_kernel=\"RBF\",\n",
    "    num_classes=2,\n",
    "    optimizer=partial(torch.optim.Adam, lr=1e-2),\n",
    "    n_inducing_points=100,\n",
    "    input_size=1,\n",
    ")"
   ]
  },
  {
   "cell_type": "markdown",
   "id": "d55a3982",
   "metadata": {},
   "source": [
    "## Trainer"
   ]
  },
  {
   "cell_type": "code",
   "execution_count": null,
   "id": "e665eb4a",
   "metadata": {},
   "outputs": [],
   "source": [
    "logger = CSVLogger(my_temp_dir)\n",
    "trainer = Trainer(\n",
    "    max_epochs=100,  # number of epochs we want to train\n",
    "    logger=logger,  # log training metrics for later evaluation\n",
    "    log_every_n_steps=1,\n",
    "    enable_checkpointing=False,\n",
    "    enable_progress_bar=False,\n",
    ")"
   ]
  },
  {
   "cell_type": "code",
   "execution_count": null,
   "id": "2cebbd0c",
   "metadata": {},
   "outputs": [],
   "source": [
    "trainer.fit(dkl_model, dm)"
   ]
  },
  {
   "cell_type": "markdown",
   "id": "cd02c886",
   "metadata": {},
   "source": [
    "## Training Metrics"
   ]
  },
  {
   "cell_type": "code",
   "execution_count": null,
   "id": "cc77113d",
   "metadata": {},
   "outputs": [],
   "source": [
    "fig = plot_training_metrics(os.path.join(my_temp_dir, \"lightning_logs\"), \"Acc\")"
   ]
  },
  {
   "cell_type": "markdown",
   "id": "a38461e2",
   "metadata": {},
   "source": [
    "## Prediction"
   ]
  },
  {
   "cell_type": "code",
   "execution_count": null,
   "id": "af47be85",
   "metadata": {},
   "outputs": [],
   "source": [
    "# save predictions\n",
    "trainer.test(dkl_model, dm.test_dataloader())"
   ]
  },
  {
   "cell_type": "markdown",
   "id": "6d437738",
   "metadata": {},
   "source": []
  }
 ],
 "metadata": {
  "jupytext": {
   "formats": "py,ipynb"
  },
  "kernelspec": {
   "display_name": "uqboxEnv",
   "language": "python",
   "name": "python3"
  }
 },
 "nbformat": 4,
 "nbformat_minor": 5
}
