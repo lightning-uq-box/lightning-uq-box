{
 "cells": [
  {
   "cell_type": "markdown",
   "id": "f67750ca",
   "metadata": {},
   "source": [
    "# MC-Dropout Classification"
   ]
  },
  {
   "cell_type": "code",
   "execution_count": null,
   "id": "4f56e704",
   "metadata": {},
   "outputs": [],
   "source": [
    "%%capture\n",
    "%pip install git+https://github.com/lightning-uq-box/lightning-uq-box.git"
   ]
  },
  {
   "cell_type": "markdown",
   "id": "7bf10f44",
   "metadata": {},
   "source": [
    "## Imports"
   ]
  },
  {
   "cell_type": "code",
   "execution_count": null,
   "id": "e977c4df",
   "metadata": {},
   "outputs": [],
   "source": [
    "import os\n",
    "import tempfile\n",
    "from functools import partial\n",
    "\n",
    "import matplotlib.pyplot as plt\n",
    "import torch.nn as nn\n",
    "from lightning import Trainer\n",
    "from lightning.pytorch import seed_everything\n",
    "from lightning.pytorch.loggers import CSVLogger\n",
    "from torch.optim import Adam\n",
    "\n",
    "from lightning_uq_box.datamodules import TwoMoonsDataModule\n",
    "from lightning_uq_box.models import MLP\n",
    "from lightning_uq_box.uq_methods import MCDropoutClassification\n",
    "from lightning_uq_box.viz_utils import (\n",
    "    plot_predictions_classification,\n",
    "    plot_training_metrics,\n",
    "    plot_two_moons_data,\n",
    ")\n",
    "\n",
    "plt.rcParams[\"figure.figsize\"] = [14, 5]\n",
    "\n",
    "%load_ext autoreload\n",
    "%autoreload 2"
   ]
  },
  {
   "cell_type": "code",
   "execution_count": null,
   "id": "cf0fadd2",
   "metadata": {},
   "outputs": [],
   "source": [
    "seed_everything(0)"
   ]
  },
  {
   "cell_type": "code",
   "execution_count": null,
   "id": "870fdfbc",
   "metadata": {},
   "outputs": [],
   "source": [
    "my_temp_dir = tempfile.mkdtemp()"
   ]
  },
  {
   "cell_type": "markdown",
   "id": "cb23619b",
   "metadata": {},
   "source": [
    "## Datamodule"
   ]
  },
  {
   "cell_type": "code",
   "execution_count": null,
   "id": "904b84b3",
   "metadata": {},
   "outputs": [],
   "source": [
    "dm = TwoMoonsDataModule(batch_size=128)\n",
    "\n",
    "X_train, Y_train, X_test, Y_test, test_grid_points = (\n",
    "    dm.X_train,\n",
    "    dm.Y_train,\n",
    "    dm.X_test,\n",
    "    dm.Y_test,\n",
    "    dm.test_grid_points,\n",
    ")"
   ]
  },
  {
   "cell_type": "code",
   "execution_count": null,
   "id": "04ef9cc1",
   "metadata": {},
   "outputs": [],
   "source": [
    "fig = plot_two_moons_data(X_train, Y_train, X_test, Y_test)"
   ]
  },
  {
   "cell_type": "markdown",
   "id": "b55353f2",
   "metadata": {},
   "source": [
    "## Model"
   ]
  },
  {
   "cell_type": "code",
   "execution_count": null,
   "id": "23f38f1a",
   "metadata": {},
   "outputs": [],
   "source": [
    "network = MLP(\n",
    "    n_inputs=2,\n",
    "    n_hidden=[50, 50, 50],\n",
    "    n_outputs=2,\n",
    "    dropout_p=0.2,\n",
    "    activation_fn=nn.ReLU(),\n",
    ")\n",
    "network"
   ]
  },
  {
   "cell_type": "code",
   "execution_count": null,
   "id": "416cd40f",
   "metadata": {},
   "outputs": [],
   "source": [
    "mc_dropout_module = MCDropoutClassification(\n",
    "    model=network,\n",
    "    optimizer=partial(Adam, lr=1e-2),\n",
    "    loss_fn=nn.CrossEntropyLoss(),\n",
    "    num_mc_samples=25,\n",
    ")"
   ]
  },
  {
   "cell_type": "markdown",
   "id": "bd33e255",
   "metadata": {},
   "source": [
    "## Trainer"
   ]
  },
  {
   "cell_type": "code",
   "execution_count": null,
   "id": "b33394fb",
   "metadata": {},
   "outputs": [],
   "source": [
    "logger = CSVLogger(my_temp_dir)\n",
    "trainer = Trainer(\n",
    "    max_epochs=100,  # number of epochs we want to train\n",
    "    logger=logger,  # log training metrics for later evaluation\n",
    "    log_every_n_steps=1,\n",
    "    enable_checkpointing=False,\n",
    "    enable_progress_bar=False,\n",
    "    default_root_dir=my_temp_dir,\n",
    ")"
   ]
  },
  {
   "cell_type": "code",
   "execution_count": null,
   "id": "e1d73330",
   "metadata": {},
   "outputs": [],
   "source": [
    "trainer.fit(mc_dropout_module, dm)"
   ]
  },
  {
   "cell_type": "markdown",
   "id": "5bdd3a88",
   "metadata": {},
   "source": [
    "## Training Metrics"
   ]
  },
  {
   "cell_type": "code",
   "execution_count": null,
   "id": "08c9c912",
   "metadata": {},
   "outputs": [],
   "source": [
    "fig = plot_training_metrics(\n",
    "    os.path.join(my_temp_dir, \"lightning_logs\"), [\"train_loss\", \"trainAcc\"]\n",
    ")"
   ]
  },
  {
   "cell_type": "markdown",
   "id": "f8d28c92",
   "metadata": {},
   "source": [
    "## Prediction"
   ]
  },
  {
   "cell_type": "code",
   "execution_count": null,
   "id": "5098d9b0",
   "metadata": {},
   "outputs": [],
   "source": [
    "# save predictions\n",
    "trainer.test(mc_dropout_module, dm.test_dataloader())"
   ]
  },
  {
   "cell_type": "code",
   "execution_count": null,
   "id": "e0f7154e",
   "metadata": {},
   "outputs": [],
   "source": [
    "preds = mc_dropout_module.predict_step(test_grid_points)"
   ]
  },
  {
   "cell_type": "markdown",
   "id": "248af44b",
   "metadata": {},
   "source": [
    "## Evaluate Predictions"
   ]
  },
  {
   "cell_type": "code",
   "execution_count": null,
   "id": "d3125450",
   "metadata": {},
   "outputs": [],
   "source": [
    "fig = plot_predictions_classification(\n",
    "    X_test, Y_test, preds[\"pred\"].argmax(-1), test_grid_points, preds[\"pred_uct\"]\n",
    ")"
   ]
  },
  {
   "cell_type": "markdown",
   "id": "fdff3ed5",
   "metadata": {},
   "source": []
  }
 ],
 "metadata": {
  "jupytext": {
   "formats": "py,ipynb"
  },
  "kernelspec": {
   "display_name": "uqboxEnv",
   "language": "python",
   "name": "python3"
  },
  "language_info": {
   "codemirror_mode": {
    "name": "ipython",
    "version": 3
   },
   "file_extension": ".py",
   "mimetype": "text/x-python",
   "name": "python",
   "nbconvert_exporter": "python",
   "pygments_lexer": "ipython3",
   "version": "3.9.12"
  }
 },
 "nbformat": 4,
 "nbformat_minor": 5
}
