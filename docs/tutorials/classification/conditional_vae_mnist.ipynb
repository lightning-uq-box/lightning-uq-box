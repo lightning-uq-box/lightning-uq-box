{
 "cells": [
  {
   "cell_type": "markdown",
   "metadata": {},
   "source": [
    "# Conditional VAE on MNIST\n",
    "\n",
    "In this notebook we will look at the infamous Variational Auto-Encoder proposed by [Kingma and Welling 2013](https://arxiv.org/abs/1312.6114), that has formed the basis for numerous generative models available today. However, we won't just consider a \"plain\" VAE but instead a conditional one, where we can generate images based on conditions. In this illustrative MNIST case, the conditions will be the image class labels."
   ]
  },
  {
   "cell_type": "markdown",
   "metadata": {},
   "source": [
    "## Imports"
   ]
  },
  {
   "cell_type": "code",
   "execution_count": 1,
   "metadata": {},
   "outputs": [],
   "source": [
    "import os\n",
    "import tempfile\n",
    "from functools import partial\n",
    "\n",
    "import matplotlib.pyplot as plt\n",
    "import torch\n",
    "import torchvision\n",
    "from lightning import LightningDataModule, Trainer\n",
    "from lightning.pytorch import seed_everything\n",
    "from lightning.pytorch.loggers import CSVLogger\n",
    "from torchseg.encoders import TimmEncoder\n",
    "from torchvision.utils import make_grid\n",
    "\n",
    "from lightning_uq_box.uq_methods import ConditionalVAE\n",
    "from lightning_uq_box.viz_utils import plot_training_metrics\n",
    "\n",
    "plt.rcParams[\"figure.figsize\"] = [14, 5]\n",
    "\n",
    "%load_ext autoreload\n",
    "%autoreload 2"
   ]
  },
  {
   "cell_type": "code",
   "execution_count": 2,
   "metadata": {},
   "outputs": [
    {
     "name": "stderr",
     "output_type": "stream",
     "text": [
      "Seed set to 0\n"
     ]
    },
    {
     "data": {
      "text/plain": [
       "0"
      ]
     },
     "execution_count": 2,
     "metadata": {},
     "output_type": "execute_result"
    }
   ],
   "source": [
    "seed_everything(0)"
   ]
  },
  {
   "cell_type": "code",
   "execution_count": 3,
   "metadata": {},
   "outputs": [],
   "source": [
    "my_temp_dir = tempfile.mkdtemp()"
   ]
  },
  {
   "cell_type": "markdown",
   "metadata": {},
   "source": [
    "## Datamodule\n",
    "\n",
    "The following creates a quick Datamodule for the MNIST and MNIST Fashion Dataset so that we can easily train and evaluate our model. The MNIST Fashion dataset can be used as OOD evaluation."
   ]
  },
  {
   "cell_type": "code",
   "execution_count": 4,
   "metadata": {},
   "outputs": [],
   "source": [
    "def collate_fn(batch):\n",
    "    \"\"\"Colate function for dataloader as dictionary.\"\"\"\n",
    "    images, targets = zip(*batch)\n",
    "    images = torch.stack(images)\n",
    "    targets = torch.tensor(targets)\n",
    "    # the target is also the image, since we want to reconstruct it\n",
    "    # additionally, we will have the label as a condition\n",
    "    return {\n",
    "        \"input\": images,\n",
    "        \"target\": images,\n",
    "        \"condition\": targets.unsqueeze(-1).float(),\n",
    "    }\n",
    "\n",
    "\n",
    "class MNISTDatamodule(LightningDataModule):\n",
    "    def __init__(self, root: str, batch_size: int = 64, num_workers=0):\n",
    "        super().__init__()\n",
    "        self.batch_size = batch_size\n",
    "        self.num_workers = num_workers\n",
    "        self.root = root\n",
    "\n",
    "    def setup(self, stage: str) -> None:\n",
    "        \"\"\"Setup data loader.\"\"\"\n",
    "        if stage in [\"fit\", \"validate\"]:\n",
    "            mnist_train = torchvision.datasets.MNIST(\n",
    "                self.root,\n",
    "                train=True,\n",
    "                download=True,\n",
    "                transform=torchvision.transforms.Compose(\n",
    "                    [\n",
    "                        torchvision.transforms.ToTensor(),\n",
    "                        torchvision.transforms.Normalize((0.1305,), (0.3081,)),\n",
    "                    ]\n",
    "                ),\n",
    "            )\n",
    "            self.mnist_train, self.mnist_val = torch.utils.data.random_split(\n",
    "                mnist_train, [55000, 5000]\n",
    "            )\n",
    "\n",
    "        if stage in [\"test\"]:\n",
    "            self.mnist_test = torchvision.datasets.MNIST(\n",
    "                self.root,\n",
    "                train=False,\n",
    "                download=True,\n",
    "                transform=torchvision.transforms.Compose(\n",
    "                    [\n",
    "                        torchvision.transforms.ToTensor(),\n",
    "                        torchvision.transforms.Normalize((0.1305,), (0.3081,)),\n",
    "                    ]\n",
    "                ),\n",
    "            )\n",
    "\n",
    "    def train_dataloader(self):\n",
    "        return torch.utils.data.DataLoader(\n",
    "            self.mnist_train,\n",
    "            batch_size=self.batch_size,\n",
    "            num_workers=self.num_workers,\n",
    "            collate_fn=collate_fn,\n",
    "        )\n",
    "\n",
    "    def val_dataloader(self):\n",
    "        return torch.utils.data.DataLoader(\n",
    "            self.mnist_val,\n",
    "            batch_size=self.batch_size * 10,\n",
    "            num_workers=self.num_workers,\n",
    "            collate_fn=collate_fn,\n",
    "        )\n",
    "\n",
    "    def test_dataloader(self):\n",
    "        return torch.utils.data.DataLoader(\n",
    "            self.mnist_test,\n",
    "            batch_size=self.batch_size * 10,\n",
    "            num_workers=self.num_workers,\n",
    "            collate_fn=collate_fn,\n",
    "        )\n",
    "\n",
    "\n",
    "class MNISTFashionDatamodule(MNISTDatamodule):\n",
    "    \"\"\"MNIST Fashion Datamodule\"\"\"\n",
    "\n",
    "    def setup(self, stage: str) -> None:\n",
    "        \"\"\"Setup data loader.\"\"\"\n",
    "        if stage in [\"fit\", \"validate\"]:\n",
    "            mnist_train = torchvision.datasets.FashionMNIST(\n",
    "                self.root,\n",
    "                train=True,\n",
    "                download=True,\n",
    "                transform=torchvision.transforms.Compose(\n",
    "                    [\n",
    "                        torchvision.transforms.ToTensor(),\n",
    "                        torchvision.transforms.Normalize((0.1305,), (0.3081,)),\n",
    "                    ]\n",
    "                ),\n",
    "            )\n",
    "            self.mnist_train, self.mnist_val = torch.utils.data.random_split(\n",
    "                mnist_train, [55000, 5000]\n",
    "            )\n",
    "\n",
    "        if stage in [\"test\"]:\n",
    "            self.mnist_test = torchvision.datasets.FashionMNIST(\n",
    "                self.root,\n",
    "                train=False,\n",
    "                download=True,\n",
    "                transform=torchvision.transforms.Compose(\n",
    "                    [\n",
    "                        torchvision.transforms.ToTensor(),\n",
    "                        torchvision.transforms.Normalize((0.1305,), (0.3081,)),\n",
    "                    ]\n",
    "                ),\n",
    "            )"
   ]
  },
  {
   "cell_type": "code",
   "execution_count": 5,
   "metadata": {},
   "outputs": [],
   "source": [
    "datamodule = MNISTDatamodule(root=\"./data\", batch_size=64, num_workers=2)\n",
    "datamodule.setup(\"fit\")\n",
    "datamodule.setup(\"test\")\n",
    "\n",
    "fashion_dm = MNISTFashionDatamodule(root=\"./data\", batch_size=64, num_workers=2)\n",
    "fashion_dm.setup(\"test\")"
   ]
  },
  {
   "cell_type": "markdown",
   "metadata": {},
   "source": [
    "### Example Training Samples"
   ]
  },
  {
   "cell_type": "code",
   "execution_count": 6,
   "metadata": {},
   "outputs": [
    {
     "data": {
      "image/png": "[encoded data removed]",
      "text/plain": [
       "<Figure size 1500x300 with 10 Axes>"
      ]
     },
     "metadata": {},
     "output_type": "display_data"
    }
   ],
   "source": [
    "train_loader = datamodule.train_dataloader()\n",
    "batch = next(iter(train_loader))\n",
    "images, targets = batch[\"input\"], batch[\"target\"]\n",
    "\n",
    "# Number of images you want to display\n",
    "num_images = 10\n",
    "\n",
    "# Create a figure and a row of subplots\n",
    "fig, axes = plt.subplots(1, num_images, figsize=(15, 3))\n",
    "\n",
    "# Plot each image on a separate subplot\n",
    "for i in range(num_images):\n",
    "    axes[i].imshow(images[i, 0], cmap=\"gray\")\n",
    "    axes[i].axis(\"off\")  # Hide axis\n",
    "\n",
    "plt.show()"
   ]
  },
  {
   "cell_type": "code",
   "execution_count": 7,
   "metadata": {},
   "outputs": [
    {
     "data": {
      "text/plain": [
       "tensor(2.8221)"
      ]
     },
     "execution_count": 7,
     "metadata": {},
     "output_type": "execute_result"
    }
   ],
   "source": [
    "images.max()"
   ]
  },
  {
   "cell_type": "code",
   "execution_count": 8,
   "metadata": {},
   "outputs": [
    {
     "name": "stderr",
     "output_type": "stream",
     "text": [
      "Unexpected keys (classifier.bias, classifier.weight, conv_head.bias, conv_head.weight) found while loading pretrained weights. This may be expected if model is being adapted.\n"
     ]
    }
   ],
   "source": [
    "cond_vae = ConditionalVAE(\n",
    "    encoder=TimmEncoder(\n",
    "        \"mobilenetv3_small_050\", depth=2, in_channels=2\n",
    "    ),  # 1 input channel and 1 conditional channel\n",
    "    latent_size=8,\n",
    "    out_channels=1,\n",
    "    img_size=28,\n",
    "    num_conditions=10,  # number of MNIST classes\n",
    "    optimizer=partial(torch.optim.Adam, lr=1e-3),\n",
    "    num_samples=5,\n",
    ")"
   ]
  },
  {
   "cell_type": "code",
   "execution_count": 9,
   "metadata": {},
   "outputs": [
    {
     "name": "stderr",
     "output_type": "stream",
     "text": [
      "GPU available: False, used: False\n",
      "TPU available: False, using: 0 TPU cores\n",
      "IPU available: False, using: 0 IPUs\n",
      "HPU available: False, using: 0 HPUs\n"
     ]
    }
   ],
   "source": [
    "my_temp_dir = tempfile.mkdtemp()\n",
    "logger = CSVLogger(my_temp_dir)\n",
    "trainer = Trainer(\n",
    "    max_epochs=10,\n",
    "    accelerator=\"cpu\",\n",
    "    logger=logger,  # log training metrics for later evaluation\n",
    "    enable_progress_bar=True,\n",
    "    default_root_dir=my_temp_dir,\n",
    ")"
   ]
  },
  {
   "cell_type": "code",
   "execution_count": 10,
   "metadata": {},
   "outputs": [
    {
     "name": "stderr",
     "output_type": "stream",
     "text": [
      "Missing logger folder: /tmp/tmp2yrsbneo/lightning_logs\n",
      "\n",
      "  | Name                | Type             | Params\n",
      "---------------------------------------------------------\n",
      "0 | loss_fn             | VAELoss          | 0     \n",
      "1 | train_metrics       | MetricCollection | 0     \n",
      "2 | val_metrics         | MetricCollection | 0     \n",
      "3 | test_metrics        | MetricCollection | 0     \n",
      "4 | encoder             | TimmEncoder      | 272 K \n",
      "5 | latent_mu           | Sequential       | 3.2 K \n",
      "6 | latent_log_var      | Sequential       | 3.2 K \n",
      "7 | latent_init_decoder | Sequential       | 4.0 K \n",
      "8 | decoder             | VAEDecoder       | 3.7 K \n",
      "9 | cond_embed          | Sequential       | 31    \n",
      "---------------------------------------------------------\n",
      "286 K     Trainable params\n",
      "0         Non-trainable params\n",
      "286 K     Total params\n",
      "1.145     Total estimated model params size (MB)\n"
     ]
    },
    {
     "data": {
      "application/vnd.jupyter.widget-view+json": {
       "model_id": "b91983e34d954970938817c11d583204",
       "version_major": 2,
       "version_minor": 0
      },
      "text/plain": [
       "Sanity Checking: |          | 0/? [00:00<?, ?it/s]"
      ]
     },
     "metadata": {},
     "output_type": "display_data"
    },
    {
     "data": {
      "application/vnd.jupyter.widget-view+json": {
       "model_id": "13551cfe88804ef4be3bd6a39a9639db",
       "version_major": 2,
       "version_minor": 0
      },
      "text/plain": [
       "Training: |          | 0/? [00:00<?, ?it/s]"
      ]
     },
     "metadata": {},
     "output_type": "display_data"
    },
    {
     "data": {
      "application/vnd.jupyter.widget-view+json": {
       "model_id": "571a0857da6244bb8d6d66d20fead9fa",
       "version_major": 2,
       "version_minor": 0
      },
      "text/plain": [
       "Validation: |          | 0/? [00:00<?, ?it/s]"
      ]
     },
     "metadata": {},
     "output_type": "display_data"
    },
    {
     "data": {
      "application/vnd.jupyter.widget-view+json": {
       "model_id": "ec8c68631f2c4bce9e1f103dee150c98",
       "version_major": 2,
       "version_minor": 0
      },
      "text/plain": [
       "Validation: |          | 0/? [00:00<?, ?it/s]"
      ]
     },
     "metadata": {},
     "output_type": "display_data"
    },
    {
     "data": {
      "application/vnd.jupyter.widget-view+json": {
       "model_id": "599f161a7954451fac424fbad3f2d527",
       "version_major": 2,
       "version_minor": 0
      },
      "text/plain": [
       "Validation: |          | 0/? [00:00<?, ?it/s]"
      ]
     },
     "metadata": {},
     "output_type": "display_data"
    },
    {
     "data": {
      "application/vnd.jupyter.widget-view+json": {
       "model_id": "1611987b71df456d8436376ce51e5bd4",
       "version_major": 2,
       "version_minor": 0
      },
      "text/plain": [
       "Validation: |          | 0/? [00:00<?, ?it/s]"
      ]
     },
     "metadata": {},
     "output_type": "display_data"
    },
    {
     "data": {
      "application/vnd.jupyter.widget-view+json": {
       "model_id": "9ee6726a2b83406aac2e25b77639f261",
       "version_major": 2,
       "version_minor": 0
      },
      "text/plain": [
       "Validation: |          | 0/? [00:00<?, ?it/s]"
      ]
     },
     "metadata": {},
     "output_type": "display_data"
    },
    {
     "data": {
      "application/vnd.jupyter.widget-view+json": {
       "model_id": "c344d753922348119f573dbc49a6418d",
       "version_major": 2,
       "version_minor": 0
      },
      "text/plain": [
       "Validation: |          | 0/? [00:00<?, ?it/s]"
      ]
     },
     "metadata": {},
     "output_type": "display_data"
    },
    {
     "data": {
      "application/vnd.jupyter.widget-view+json": {
       "model_id": "32188833f88049c3bc3e60af1d72e1ce",
       "version_major": 2,
       "version_minor": 0
      },
      "text/plain": [
       "Validation: |          | 0/? [00:00<?, ?it/s]"
      ]
     },
     "metadata": {},
     "output_type": "display_data"
    },
    {
     "data": {
      "application/vnd.jupyter.widget-view+json": {
       "model_id": "27f138a7b42e4950b2075186a726b465",
       "version_major": 2,
       "version_minor": 0
      },
      "text/plain": [
       "Validation: |          | 0/? [00:00<?, ?it/s]"
      ]
     },
     "metadata": {},
     "output_type": "display_data"
    },
    {
     "data": {
      "application/vnd.jupyter.widget-view+json": {
       "model_id": "04aa56e48e2c462385fa8f66e52c6022",
       "version_major": 2,
       "version_minor": 0
      },
      "text/plain": [
       "Validation: |          | 0/? [00:00<?, ?it/s]"
      ]
     },
     "metadata": {},
     "output_type": "display_data"
    },
    {
     "data": {
      "application/vnd.jupyter.widget-view+json": {
       "model_id": "8d61a6a150b048bab55cdf85cc0c2f2c",
       "version_major": 2,
       "version_minor": 0
      },
      "text/plain": [
       "Validation: |          | 0/? [00:00<?, ?it/s]"
      ]
     },
     "metadata": {},
     "output_type": "display_data"
    },
    {
     "name": "stderr",
     "output_type": "stream",
     "text": [
      "`Trainer.fit` stopped: `max_epochs=10` reached.\n"
     ]
    }
   ],
   "source": [
    "trainer.fit(cond_vae, datamodule)"
   ]
  },
  {
   "cell_type": "code",
   "execution_count": 14,
   "metadata": {},
   "outputs": [
    {
     "data": {
      "image/png": "[encoded data removed]",
      "text/plain": [
       "<Figure size 1000x500 with 2 Axes>"
      ]
     },
     "metadata": {},
     "output_type": "display_data"
    }
   ],
   "source": [
    "fig = plot_training_metrics(\n",
    "    os.path.join(my_temp_dir, \"lightning_logs\"), [\"train_loss\", \"trainRMSE\"]\n",
    ")"
   ]
  },
  {
   "cell_type": "code",
   "execution_count": 37,
   "metadata": {},
   "outputs": [
    {
     "data": {
      "text/plain": [
       "(-0.5, 121.5, 121.5, -0.5)"
      ]
     },
     "execution_count": 37,
     "metadata": {},
     "output_type": "execute_result"
    },
    {
     "data": {
      "image/png": "[encoded data removed]",
      "text/plain": [
       "<Figure size 2000x2000 with 1 Axes>"
      ]
     },
     "metadata": {},
     "output_type": "display_data"
    }
   ],
   "source": [
    "RANDOM = True\n",
    "digit = 0\n",
    "with torch.no_grad():\n",
    "    if RANDOM:\n",
    "        sampled_imgs = cond_vae.sample()\n",
    "    else:\n",
    "        sampled_imgs = cond_vae.sample(cond=torch.ones(size=(16, 1)) * digit)\n",
    "    sampled_imgs = torch.clamp(sampled_imgs, 0, 1)\n",
    "\n",
    "img_grid = make_grid(sampled_imgs, nrow=4)\n",
    "\n",
    "fig, ax = plt.subplots(1, figsize=(20, 20))\n",
    "ax.imshow(img_grid.cpu().numpy().transpose(1, 2, 0))\n",
    "ax.axis(\"off\")"
   ]
  },
  {
   "cell_type": "code",
   "execution_count": null,
   "metadata": {},
   "outputs": [],
   "source": []
  }
 ],
 "metadata": {
  "kernelspec": {
   "display_name": "py311uqbox",
   "language": "python",
   "name": "python3"
  },
  "language_info": {
   "codemirror_mode": {
    "name": "ipython",
    "version": 3
   },
   "file_extension": ".py",
   "mimetype": "text/x-python",
   "name": "python",
   "nbconvert_exporter": "python",
   "pygments_lexer": "ipython3",
   "version": "3.11.8"
  }
 },
 "nbformat": 4,
 "nbformat_minor": 2
}
