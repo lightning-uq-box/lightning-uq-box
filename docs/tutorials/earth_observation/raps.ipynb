{
 "cells": [
  {
   "cell_type": "markdown",
   "metadata": {},
   "source": [
    "# RAPS with EuroSAT"
   ]
  },
  {
   "cell_type": "markdown",
   "metadata": {},
   "source": [
    "## Imports"
   ]
  },
  {
   "cell_type": "markdown",
   "metadata": {},
   "source": [
    "In this notebook, we will demonstrate how you can use a posthoc conformal method like Regularized Adaptive Prediction Sets (RAPS) [Angelopoulos et al. 2021](https://arxiv.org/abs/2009.14193) on an Earth Observation (EO) Classification Task, namely the infamous EuroSAT dataset. For the dataloading we will use the [TorchGeo library](https://torchgeo.readthedocs.io/en/stable/), which you will need to install to run this tutorial (`pip install torchgeo`). We will use the smaller version `EuroSAT100` for demonstration purposes. Additionally, we will show how you can use a pretrained model - specific to EO data and apply RAPS for improved uncertainty quantification (UQ)."
   ]
  },
  {
   "cell_type": "code",
   "execution_count": 1,
   "metadata": {},
   "outputs": [],
   "source": [
    "import os\n",
    "from torchgeo.datamodules import EuroSATDataModule\n",
    "from torchgeo.models import ResNet18_Weights\n",
    "from lightning_uq_box.uq_methods import DeterministicClassification, RAPS\n",
    "import timm\n",
    "from lightning.pytorch.loggers import CSVLogger\n",
    "import torch\n",
    "from lightning import Trainer\n",
    "import tempfile\n",
    "import matplotlib.pyplot as plt\n",
    "import numpy as np\n",
    "from torch import Tensor\n",
    "from torch import Generator\n",
    "from lightning_uq_box.viz_utils import plot_training_metrics\n",
    "from torchgeo.trainers import ClassificationTask\n",
    "from torchmetrics import CalibrationError, MetricCollection, Accuracy\n",
    "\n",
    "os.environ[\"CUDA_VISIBLE_DEVICES\"] = \"0\"  # set the GPU device\n",
    "\n",
    "%load_ext autoreload\n",
    "%autoreload 2"
   ]
  },
  {
   "cell_type": "markdown",
   "metadata": {},
   "source": [
    "## Datamodule"
   ]
  },
  {
   "cell_type": "markdown",
   "metadata": {},
   "source": [
    "We need to adapt the default DataModule to support a calibration dataset that is separate from the validation set."
   ]
  },
  {
   "cell_type": "code",
   "execution_count": 2,
   "metadata": {},
   "outputs": [],
   "source": [
    "class EuroSATDataModuleWithCalib(EuroSATDataModule):\n",
    "\n",
    "    def setup(self, stage: str) -> None:\n",
    "        \"\"\"Setup datasets with calibration.\n",
    "        \n",
    "        Args:\n",
    "            stage: Either 'fit', 'validate', 'test', or 'predict'\n",
    "        \"\"\"\n",
    "        if stage in [\"fit\"]:\n",
    "            self.train_dataset = self.dataset_class(  # type: ignore[call-arg]\n",
    "                split=\"train\", **self.kwargs\n",
    "            )\n",
    "        if stage in [\"fit\", \"validate\"]:\n",
    "            self.val_dataset = self.dataset_class(  # type: ignore[call-arg]\n",
    "                split=\"val\", **self.kwargs\n",
    "            )\n",
    "            # further split the validation set into a calibration set and a test set\n",
    "            self.val_dataset, self.calib_dataset = torch.utils.data.random_split(\n",
    "                self.val_dataset, [len(self.val_dataset) - 200, 200], generator=Generator().manual_seed(0)\n",
    "            )\n",
    "            self.calib_batch_size = self.val_batch_size\n",
    "        if stage in [\"test\"]:\n",
    "            self.test_dataset = self.dataset_class(  # type: ignore[call-arg]\n",
    "                split=\"test\", **self.kwargs\n",
    "            )\n",
    "\n",
    "    def calibration_dataloader(self):\n",
    "        \"\"\"Calibration Dataloader.\"\"\"\n",
    "        return self._dataloader_factory(\"calib\")\n"
   ]
  },
  {
   "cell_type": "code",
   "execution_count": 3,
   "metadata": {},
   "outputs": [],
   "source": [
    "datamodule = EuroSATDataModuleWithCalib(root=\".\", num_workers=4, download=True)\n",
    "# setup manually so we can access val_loader\n",
    "datamodule.setup(\"fit\")\n",
    "# TODO get a validation and calibration loader"
   ]
  },
  {
   "cell_type": "markdown",
   "metadata": {},
   "source": [
    "Additionally, we need to consider that the normalization and possible augmentations for this datamodule are applied only through the lightning `on_after_batch_transfer()` function because that is recommended for efficiency. We will write a collate function that will apply the augmentation to the batch."
   ]
  },
  {
   "cell_type": "code",
   "execution_count": 4,
   "metadata": {},
   "outputs": [],
   "source": [
    "def normalization_collate_fn(batch):\n",
    "    \"\"\"Collate function for normalization.\"\"\"\n",
    "    images = torch.stack([item[\"image\"] for item in batch])\n",
    "    labels = torch.stack([item[\"label\"] for item in batch])\n",
    "\n",
    "    return datamodule.aug({\"image\": images, \"label\": labels})"
   ]
  },
  {
   "cell_type": "markdown",
   "metadata": {},
   "source": [
    "We will use the validation and calibration loaders several times, so we will now define them with the collate function."
   ]
  },
  {
   "cell_type": "code",
   "execution_count": 5,
   "metadata": {},
   "outputs": [],
   "source": [
    "val_loader = datamodule.val_dataloader()\n",
    "val_loader.collate_fn = normalization_collate_fn\n",
    "calib_loader = datamodule.calibration_dataloader()\n",
    "calib_loader.collate_fn = normalization_collate_fn"
   ]
  },
  {
   "cell_type": "markdown",
   "metadata": {},
   "source": [
    "## Pretrained Model\n",
    "\n",
    "We will use pretrained weights for Sentinel 2 data from the SSL4EO paper [Wang et al. 2022](https://arxiv.org/abs/2211.07044) that are accessible through TorchGeo."
   ]
  },
  {
   "cell_type": "code",
   "execution_count": 6,
   "metadata": {},
   "outputs": [],
   "source": [
    "# weights = ResNet18_Weights.SENTINEL2_ALL_MOCO\n",
    "# in_chans = weights.meta[\"in_chans\"]\n",
    "# resnet18 = timm.create_model(\"resnet18\", in_chans=in_chans, num_classes=10)\n",
    "# resnet18.load_state_dict(weights.get_state_dict(progress=True), strict=False)\n",
    "\n",
    "\n",
    "class ClassificationTaskWithCalib(ClassificationTask):\n",
    "    def training_step(\n",
    "        self, batch, batch_idx: int, dataloader_idx: int = 0\n",
    "    ) -> Tensor:\n",
    "        \"\"\"Compute the training loss and additional metrics.\n",
    "\n",
    "        Args:\n",
    "            batch: The output of your DataLoader.\n",
    "            batch_idx: Integer displaying index of this batch.\n",
    "            dataloader_idx: Index of the current dataloader.\n",
    "\n",
    "        Returns:\n",
    "            The loss tensor.\n",
    "        \"\"\"\n",
    "        x = batch[\"image\"]\n",
    "        y = batch[\"label\"]\n",
    "        y_hat = self(x)\n",
    "        loss: Tensor = self.criterion(y_hat, y)\n",
    "        self.log(\"train_loss\", loss)\n",
    "        self.train_metrics(y_hat, y)\n",
    "        self.log_dict(self.train_metrics)\n",
    "\n",
    "        return loss\n",
    "\n",
    "    def validation_step(\n",
    "        self, batch, batch_idx: int, dataloader_idx: int = 0\n",
    "    ) -> None:\n",
    "        \"\"\"Compute the validation loss and additional metrics.\n",
    "\n",
    "        Args:\n",
    "            batch: The output of your DataLoader.\n",
    "            batch_idx: Integer displaying index of this batch.\n",
    "            dataloader_idx: Index of the current dataloader.\n",
    "        \"\"\"\n",
    "        x = batch[\"image\"]\n",
    "        y = batch[\"label\"]\n",
    "        y_hat = self(x)\n",
    "        loss = self.criterion(y_hat, y)\n",
    "        self.log(\"val_loss\", loss)\n",
    "        self.val_metrics(y_hat, y)\n",
    "        self.log_dict(self.val_metrics)\n",
    "\n",
    "    def test_step(self, batch, batch_idx: int, dataloader_idx: int = 0) -> None:\n",
    "        \"\"\"Compute the test loss and additional metrics.\n",
    "\n",
    "        Args:\n",
    "            batch: The output of your DataLoader.\n",
    "            batch_idx: Integer displaying index of this batch.\n",
    "            dataloader_idx: Index of the current dataloader.\n",
    "        \"\"\"\n",
    "        x = batch[\"image\"]\n",
    "        y = batch[\"label\"]\n",
    "        y_hat = self(x)\n",
    "        loss = self.criterion(y_hat, y)\n",
    "        self.log(\"test_loss\", loss)\n",
    "        self.test_metrics(y_hat, y)\n",
    "        self.log_dict(self.test_metrics)\n",
    "\n",
    "    def configure_metrics(self) -> None:\n",
    "        \"\"\"Initialize the performance metrics.\"\"\"\n",
    "        metrics = MetricCollection(\n",
    "            {\n",
    "                \"OverallAccuracy\": Accuracy(\n",
    "                    num_classes=self.hparams[\"num_classes\"], average=\"micro\", task=\"multiclass\"\n",
    "                ),\n",
    "                \"AverageAccuracy\": Accuracy(\n",
    "                    num_classes=self.hparams[\"num_classes\"], average=\"macro\", task=\"multiclass\"\n",
    "                ),\n",
    "                \"Calibration\": CalibrationError(\n",
    "                    num_classes=self.hparams[\"num_classes\"], task=\"multiclass\"\n",
    "                ),\n",
    "            }\n",
    "        )\n",
    "        self.train_metrics = metrics.clone(prefix=\"train_\")\n",
    "        self.val_metrics = metrics.clone(prefix=\"val_\")\n",
    "        self.test_metrics = metrics.clone(prefix=\"test_\")"
   ]
  },
  {
   "cell_type": "markdown",
   "metadata": {},
   "source": [
    "## Predictions with Pretrained Model\n",
    "\n",
    "Let's first look at the predictions from the pretrained model so that we can later see the impact of RAPs. We will use a Lightning base class `ClassificationTask` from Torchgeo which will iterate over the dataloader and compute and store the metrics we are interested in. We will only finetune the classification head (`freeze_backbone=True`)."
   ]
  },
  {
   "cell_type": "code",
   "execution_count": 7,
   "metadata": {},
   "outputs": [
    {
     "name": "stderr",
     "output_type": "stream",
     "text": [
      "/home/nils/.conda/envs/uqboxEnv/lib/python3.9/site-packages/lightning/fabric/plugins/environments/slurm.py:191: The `srun` command is available on your system but is not used. HINT: If your intention is to run Lightning on SLURM, prepend your python command with `srun` like so: srun python /home/nils/.conda/envs/uqboxEnv/lib/python3.9/site-p ...\n",
      "GPU available: True (cuda), used: True\n",
      "TPU available: False, using: 0 TPU cores\n",
      "IPU available: False, using: 0 IPUs\n",
      "HPU available: False, using: 0 HPUs\n",
      "You are using a CUDA device ('NVIDIA RTX A6000') that has Tensor Cores. To properly utilize them, you should set `torch.set_float32_matmul_precision('medium' | 'high')` which will trade-off precision for performance. For more details, read https://pytorch.org/docs/stable/generated/torch.set_float32_matmul_precision.html#torch.set_float32_matmul_precision\n",
      "Missing logger folder: /tmp/tmpciqcztm1/lightning_logs\n",
      "LOCAL_RANK: 0 - CUDA_VISIBLE_DEVICES: [0]\n",
      "\n",
      "  | Name          | Type             | Params\n",
      "---------------------------------------------------\n",
      "0 | criterion     | CrossEntropyLoss | 0     \n",
      "1 | train_metrics | MetricCollection | 0     \n",
      "2 | val_metrics   | MetricCollection | 0     \n",
      "3 | test_metrics  | MetricCollection | 0     \n",
      "4 | model         | ResNet           | 11.2 M\n",
      "---------------------------------------------------\n",
      "5.1 K     Trainable params\n",
      "11.2 M    Non-trainable params\n",
      "11.2 M    Total params\n",
      "44.852    Total estimated model params size (MB)\n"
     ]
    },
    {
     "data": {
      "application/vnd.jupyter.widget-view+json": {
       "model_id": "acb3e3ec391f4ef4b588089887a24e18",
       "version_major": 2,
       "version_minor": 0
      },
      "text/plain": [
       "Sanity Checking: |          | 0/? [00:00<?, ?it/s]"
      ]
     },
     "metadata": {},
     "output_type": "display_data"
    },
    {
     "data": {
      "application/vnd.jupyter.widget-view+json": {
       "model_id": "ac4fb69b949142cdbf7f137824f076e9",
       "version_major": 2,
       "version_minor": 0
      },
      "text/plain": [
       "Training: |          | 0/? [00:00<?, ?it/s]"
      ]
     },
     "metadata": {},
     "output_type": "display_data"
    },
    {
     "data": {
      "application/vnd.jupyter.widget-view+json": {
       "model_id": "98413aa63e134426b30ac254450719cb",
       "version_major": 2,
       "version_minor": 0
      },
      "text/plain": [
       "Validation: |          | 0/? [00:00<?, ?it/s]"
      ]
     },
     "metadata": {},
     "output_type": "display_data"
    },
    {
     "data": {
      "application/vnd.jupyter.widget-view+json": {
       "model_id": "b3273cc6f4cc4d78a42b83e7ea4805b4",
       "version_major": 2,
       "version_minor": 0
      },
      "text/plain": [
       "Validation: |          | 0/? [00:00<?, ?it/s]"
      ]
     },
     "metadata": {},
     "output_type": "display_data"
    },
    {
     "data": {
      "application/vnd.jupyter.widget-view+json": {
       "model_id": "2febadb3443648f9ad26347135f6c78b",
       "version_major": 2,
       "version_minor": 0
      },
      "text/plain": [
       "Validation: |          | 0/? [00:00<?, ?it/s]"
      ]
     },
     "metadata": {},
     "output_type": "display_data"
    },
    {
     "data": {
      "application/vnd.jupyter.widget-view+json": {
       "model_id": "582123f0089144aa84526eb81d2a264c",
       "version_major": 2,
       "version_minor": 0
      },
      "text/plain": [
       "Validation: |          | 0/? [00:00<?, ?it/s]"
      ]
     },
     "metadata": {},
     "output_type": "display_data"
    },
    {
     "data": {
      "application/vnd.jupyter.widget-view+json": {
       "model_id": "30dbba70444b4fafb64ccdf44a97e674",
       "version_major": 2,
       "version_minor": 0
      },
      "text/plain": [
       "Validation: |          | 0/? [00:00<?, ?it/s]"
      ]
     },
     "metadata": {},
     "output_type": "display_data"
    },
    {
     "data": {
      "application/vnd.jupyter.widget-view+json": {
       "model_id": "1a3d6d8f913043f182309fe5526cabb1",
       "version_major": 2,
       "version_minor": 0
      },
      "text/plain": [
       "Validation: |          | 0/? [00:00<?, ?it/s]"
      ]
     },
     "metadata": {},
     "output_type": "display_data"
    },
    {
     "data": {
      "application/vnd.jupyter.widget-view+json": {
       "model_id": "4ddd5febc2aa4ee1b6deaeab1b1e7b09",
       "version_major": 2,
       "version_minor": 0
      },
      "text/plain": [
       "Validation: |          | 0/? [00:00<?, ?it/s]"
      ]
     },
     "metadata": {},
     "output_type": "display_data"
    },
    {
     "data": {
      "application/vnd.jupyter.widget-view+json": {
       "model_id": "801e56c19c234472ac898d1d861f404a",
       "version_major": 2,
       "version_minor": 0
      },
      "text/plain": [
       "Validation: |          | 0/? [00:00<?, ?it/s]"
      ]
     },
     "metadata": {},
     "output_type": "display_data"
    },
    {
     "data": {
      "application/vnd.jupyter.widget-view+json": {
       "model_id": "6f0368a63d3b4545b5bbb6b1015c7d69",
       "version_major": 2,
       "version_minor": 0
      },
      "text/plain": [
       "Validation: |          | 0/? [00:00<?, ?it/s]"
      ]
     },
     "metadata": {},
     "output_type": "display_data"
    },
    {
     "data": {
      "application/vnd.jupyter.widget-view+json": {
       "model_id": "8afd4305f2e7447586707cc9bde8d8e8",
       "version_major": 2,
       "version_minor": 0
      },
      "text/plain": [
       "Validation: |          | 0/? [00:00<?, ?it/s]"
      ]
     },
     "metadata": {},
     "output_type": "display_data"
    },
    {
     "name": "stderr",
     "output_type": "stream",
     "text": [
      "`Trainer.fit` stopped: `max_epochs=10` reached.\n",
      "Restoring states from the checkpoint path at /tmp/tmpciqcztm1/lightning_logs/version_0/checkpoints/epoch=9-step=2540.ckpt\n",
      "LOCAL_RANK: 0 - CUDA_VISIBLE_DEVICES: [0]\n",
      "Loaded model weights from the checkpoint at /tmp/tmpciqcztm1/lightning_logs/version_0/checkpoints/epoch=9-step=2540.ckpt\n"
     ]
    },
    {
     "data": {
      "application/vnd.jupyter.widget-view+json": {
       "model_id": "7f607ead36e34135898f092fb63dd88f",
       "version_major": 2,
       "version_minor": 0
      },
      "text/plain": [
       "Testing: |          | 0/? [00:00<?, ?it/s]"
      ]
     },
     "metadata": {},
     "output_type": "display_data"
    },
    {
     "data": {
      "text/html": [
       "<pre style=\"white-space:pre;overflow-x:auto;line-height:normal;font-family:Menlo,'DejaVu Sans Mono',consolas,'Courier New',monospace\">┏━━━━━━━━━━━━━━━━━━━━━━━━━━━┳━━━━━━━━━━━━━━━━━━━━━━━━━━━┓\n",
       "┃<span style=\"font-weight: bold\">        Test metric        </span>┃<span style=\"font-weight: bold\">       DataLoader 0        </span>┃\n",
       "┡━━━━━━━━━━━━━━━━━━━━━━━━━━━╇━━━━━━━━━━━━━━━━━━━━━━━━━━━┩\n",
       "│<span style=\"color: #008080; text-decoration-color: #008080\">   test_AverageAccuracy    </span>│<span style=\"color: #800080; text-decoration-color: #800080\">    0.9021998047828674     </span>│\n",
       "│<span style=\"color: #008080; text-decoration-color: #008080\">     test_Calibration      </span>│<span style=\"color: #800080; text-decoration-color: #800080\">    0.05669429153203964    </span>│\n",
       "│<span style=\"color: #008080; text-decoration-color: #008080\">   test_OverallAccuracy    </span>│<span style=\"color: #800080; text-decoration-color: #800080\">    0.9069230556488037     </span>│\n",
       "│<span style=\"color: #008080; text-decoration-color: #008080\">         test_loss         </span>│<span style=\"color: #800080; text-decoration-color: #800080\">    0.31048280000686646    </span>│\n",
       "└───────────────────────────┴───────────────────────────┘\n",
       "</pre>\n"
      ],
      "text/plain": [
       "┏━━━━━━━━━━━━━━━━━━━━━━━━━━━┳━━━━━━━━━━━━━━━━━━━━━━━━━━━┓\n",
       "┃\u001b[1m \u001b[0m\u001b[1m       Test metric       \u001b[0m\u001b[1m \u001b[0m┃\u001b[1m \u001b[0m\u001b[1m      DataLoader 0       \u001b[0m\u001b[1m \u001b[0m┃\n",
       "┡━━━━━━━━━━━━━━━━━━━━━━━━━━━╇━━━━━━━━━━━━━━━━━━━━━━━━━━━┩\n",
       "│\u001b[36m \u001b[0m\u001b[36m  test_AverageAccuracy   \u001b[0m\u001b[36m \u001b[0m│\u001b[35m \u001b[0m\u001b[35m   0.9021998047828674    \u001b[0m\u001b[35m \u001b[0m│\n",
       "│\u001b[36m \u001b[0m\u001b[36m    test_Calibration     \u001b[0m\u001b[36m \u001b[0m│\u001b[35m \u001b[0m\u001b[35m   0.05669429153203964   \u001b[0m\u001b[35m \u001b[0m│\n",
       "│\u001b[36m \u001b[0m\u001b[36m  test_OverallAccuracy   \u001b[0m\u001b[36m \u001b[0m│\u001b[35m \u001b[0m\u001b[35m   0.9069230556488037    \u001b[0m\u001b[35m \u001b[0m│\n",
       "│\u001b[36m \u001b[0m\u001b[36m        test_loss        \u001b[0m\u001b[36m \u001b[0m│\u001b[35m \u001b[0m\u001b[35m   0.31048280000686646   \u001b[0m\u001b[35m \u001b[0m│\n",
       "└───────────────────────────┴───────────────────────────┘\n"
      ]
     },
     "metadata": {},
     "output_type": "display_data"
    },
    {
     "data": {
      "text/plain": [
       "[{'test_loss': 0.31048280000686646,\n",
       "  'test_AverageAccuracy': 0.9021998047828674,\n",
       "  'test_Calibration': 0.05669429153203964,\n",
       "  'test_OverallAccuracy': 0.9069230556488037}]"
      ]
     },
     "execution_count": 7,
     "metadata": {},
     "output_type": "execute_result"
    }
   ],
   "source": [
    "base_dir = tempfile.mkdtemp()\n",
    "# implement a torchmetrics empirical coverage metric and use that and accuracy to compare result\n",
    "base_model = ClassificationTaskWithCalib(\"resnet18\", num_classes=10, in_channels=13, weights = ResNet18_Weights.SENTINEL2_ALL_MOCO, freeze_backbone=True)\n",
    "\n",
    "# set torchmetrics to track\n",
    "\n",
    "\n",
    "base_trainer = Trainer(devices=[0], accelerator=\"gpu\", default_root_dir=base_dir, max_epochs=10, logger = CSVLogger(base_dir), log_every_n_steps=1, enable_progress_bar=True)\n",
    "\n",
    "base_trainer.fit(base_model, datamodule=datamodule)\n",
    "base_trainer.test(ckpt_path=\"best\", dataloaders=val_loader)"
   ]
  },
  {
   "cell_type": "code",
   "execution_count": 8,
   "metadata": {},
   "outputs": [
    {
     "data": {
      "image/png": "[encoded data removed]",
      "text/plain": [
       "<Figure size 640x480 with 2 Axes>"
      ]
     },
     "metadata": {},
     "output_type": "display_data"
    }
   ],
   "source": [
    "fig = plot_training_metrics(os.path.join(base_dir, \"lightning_logs\"), \"_Calibration\")"
   ]
  },
  {
   "cell_type": "markdown",
   "metadata": {},
   "source": [
    "## Apply RAPS"
   ]
  },
  {
   "cell_type": "code",
   "execution_count": 9,
   "metadata": {},
   "outputs": [
    {
     "name": "stderr",
     "output_type": "stream",
     "text": [
      "/home/nils/.conda/envs/uqboxEnv/lib/python3.9/site-packages/lightning/fabric/plugins/environments/slurm.py:191: The `srun` command is available on your system but is not used. HINT: If your intention is to run Lightning on SLURM, prepend your python command with `srun` like so: srun python /home/nils/.conda/envs/uqboxEnv/lib/python3.9/site-p ...\n",
      "GPU available: True (cuda), used: True\n",
      "TPU available: False, using: 0 TPU cores\n",
      "IPU available: False, using: 0 IPUs\n",
      "HPU available: False, using: 0 HPUs\n",
      "Missing logger folder: /tmp/tmphctsvttv/lightning_logs\n",
      "LOCAL_RANK: 0 - CUDA_VISIBLE_DEVICES: [0]\n"
     ]
    },
    {
     "data": {
      "application/vnd.jupyter.widget-view+json": {
       "model_id": "f07e088d8226448bb0bffa35199194df",
       "version_major": 2,
       "version_minor": 0
      },
      "text/plain": [
       "Validation: |          | 0/? [00:00<?, ?it/s]"
      ]
     },
     "metadata": {},
     "output_type": "display_data"
    },
    {
     "name": "stderr",
     "output_type": "stream",
     "text": [
      "LOCAL_RANK: 0 - CUDA_VISIBLE_DEVICES: [0]\n"
     ]
    },
    {
     "data": {
      "application/vnd.jupyter.widget-view+json": {
       "model_id": "ae779aa7f9f047a088f0b51e42b8fa05",
       "version_major": 2,
       "version_minor": 0
      },
      "text/plain": [
       "Testing: |          | 0/? [00:00<?, ?it/s]"
      ]
     },
     "metadata": {},
     "output_type": "display_data"
    },
    {
     "data": {
      "text/html": [
       "<pre style=\"white-space:pre;overflow-x:auto;line-height:normal;font-family:Menlo,'DejaVu Sans Mono',consolas,'Courier New',monospace\">┏━━━━━━━━━━━━━━━━━━━━━━━━━━━┳━━━━━━━━━━━━━━━━━━━━━━━━━━━┓\n",
       "┃<span style=\"font-weight: bold\">        Test metric        </span>┃<span style=\"font-weight: bold\">       DataLoader 0        </span>┃\n",
       "┡━━━━━━━━━━━━━━━━━━━━━━━━━━━╇━━━━━━━━━━━━━━━━━━━━━━━━━━━┩\n",
       "│<span style=\"color: #008080; text-decoration-color: #008080\">          testAcc          </span>│<span style=\"color: #800080; text-decoration-color: #800080\">    0.9069230556488037     </span>│\n",
       "│<span style=\"color: #008080; text-decoration-color: #008080\">      testCalibration      </span>│<span style=\"color: #800080; text-decoration-color: #800080\">    0.07271789759397507    </span>│\n",
       "│<span style=\"color: #008080; text-decoration-color: #008080\">         test_loss         </span>│<span style=\"color: #800080; text-decoration-color: #800080\">    0.3238842189311981     </span>│\n",
       "└───────────────────────────┴───────────────────────────┘\n",
       "</pre>\n"
      ],
      "text/plain": [
       "┏━━━━━━━━━━━━━━━━━━━━━━━━━━━┳━━━━━━━━━━━━━━━━━━━━━━━━━━━┓\n",
       "┃\u001b[1m \u001b[0m\u001b[1m       Test metric       \u001b[0m\u001b[1m \u001b[0m┃\u001b[1m \u001b[0m\u001b[1m      DataLoader 0       \u001b[0m\u001b[1m \u001b[0m┃\n",
       "┡━━━━━━━━━━━━━━━━━━━━━━━━━━━╇━━━━━━━━━━━━━━━━━━━━━━━━━━━┩\n",
       "│\u001b[36m \u001b[0m\u001b[36m         testAcc         \u001b[0m\u001b[36m \u001b[0m│\u001b[35m \u001b[0m\u001b[35m   0.9069230556488037    \u001b[0m\u001b[35m \u001b[0m│\n",
       "│\u001b[36m \u001b[0m\u001b[36m     testCalibration     \u001b[0m\u001b[36m \u001b[0m│\u001b[35m \u001b[0m\u001b[35m   0.07271789759397507   \u001b[0m\u001b[35m \u001b[0m│\n",
       "│\u001b[36m \u001b[0m\u001b[36m        test_loss        \u001b[0m\u001b[36m \u001b[0m│\u001b[35m \u001b[0m\u001b[35m   0.3238842189311981    \u001b[0m\u001b[35m \u001b[0m│\n",
       "└───────────────────────────┴───────────────────────────┘\n"
      ]
     },
     "metadata": {},
     "output_type": "display_data"
    },
    {
     "data": {
      "text/plain": [
       "[{'test_loss': 0.3238842189311981,\n",
       "  'testAcc': 0.9069230556488037,\n",
       "  'testCalibration': 0.07271789759397507}]"
      ]
     },
     "execution_count": 9,
     "metadata": {},
     "output_type": "execute_result"
    }
   ],
   "source": [
    "raps_dir = tempfile.mkdtemp()\n",
    "raps = RAPS(model=base_model.model, kreg=7, lamda_param=0)\n",
    "raps.input_key = \"image\"\n",
    "raps.target_key = \"label\"\n",
    "\n",
    "raps_trainer = Trainer(\n",
    "    devices=[0], accelerator=\"gpu\", default_root_dir=raps_dir, inference_mode=False\n",
    ")\n",
    "\n",
    "raps_trainer.validate(raps, dataloaders=calib_loader)\n",
    "raps_trainer.test(raps, dataloaders=val_loader)"
   ]
  },
  {
   "cell_type": "markdown",
   "metadata": {},
   "source": [
    "## Example Visualization"
   ]
  },
  {
   "cell_type": "code",
   "execution_count": 10,
   "metadata": {},
   "outputs": [
    {
     "name": "stdout",
     "output_type": "stream",
     "text": [
      "dict_keys(['pred', 'pred_set', 'logits'])\n"
     ]
    }
   ],
   "source": [
    "predict_batch = next(iter(val_loader))\n",
    "\n",
    "preds = raps.predict_step(predict_batch[\"image\"])\n",
    "print(preds.keys())"
   ]
  },
  {
   "cell_type": "code",
   "execution_count": 11,
   "metadata": {},
   "outputs": [],
   "source": [
    "preds[\"pred\"].shape\n",
    "eurosat_dataset = datamodule.train_dataloader().dataset\n",
    "class_labels = eurosat_dataset.classes"
   ]
  },
  {
   "cell_type": "markdown",
   "metadata": {},
   "source": []
  },
  {
   "cell_type": "code",
   "execution_count": 12,
   "metadata": {},
   "outputs": [],
   "source": [
    "def plot_random_sample(preds: dict[str, Tensor], images: Tensor, true_labels: Tensor, class_labels: list) -> None:\n",
    "    \"\"\"Plot a random sample from the prediction batch.\n",
    "\n",
    "    Args:\n",
    "        preds: dictionary containing 'pred' and 'pred_set'\n",
    "        images: array of input images\n",
    "        class_labels: list of class labels\n",
    "    \"\"\"\n",
    "    # Select a random index from the prediction batch\n",
    "    idx = np.random.randint(len(images))\n",
    "\n",
    "    # Get the prediction set for the selected sample\n",
    "    pred_set = preds['pred_set'][idx].numpy()\n",
    "    mean_preds = preds['pred'][idx].numpy()\n",
    "\n",
    "    # Get the corresponding class labels for the prediction set\n",
    "    pred_labels = [class_labels[i] for i in pred_set]\n",
    "    true_label = class_labels[true_labels[idx]]\n",
    "\n",
    "    image = images[idx]\n",
    "\n",
    "    # taken from Torchgeo plot method\n",
    "    rgb_indices = []\n",
    "    for band in eurosat_dataset.rgb_bands:\n",
    "        if band in eurosat_dataset.bands:\n",
    "            rgb_indices.append(eurosat_dataset.bands.index(band))\n",
    "        else:\n",
    "            raise ValueError(\"Dataset doesn't contain some of the RGB bands\")\n",
    "\n",
    "    image = np.take(image.numpy(), indices=rgb_indices, axis=0)\n",
    "    image = np.rollaxis(image / 255, 0, 3)\n",
    "    # image = np.clip(image / 3000, 0, 1)\n",
    "\n",
    "    # Sort the mean predictions and corresponding class labels from high to low\n",
    "    sorted_indices = np.argsort(mean_preds[pred_set])[::-1]\n",
    "    sorted_mean_preds = mean_preds[pred_set][sorted_indices]\n",
    "    sorted_pred_labels = [pred_labels[i] for i in sorted_indices]\n",
    "\n",
    "    # Plot the input image\n",
    "    plt.figure(figsize=(10, 5))\n",
    "    plt.subplot(1, 2, 1)\n",
    "    plt.imshow(image)\n",
    "    plt.axis(\"off\")\n",
    "    plt.title('Input Image')\n",
    "\n",
    "    # Plot the prediction set\n",
    "    plt.subplot(1, 2, 2)\n",
    "    plt.bar(range(len(sorted_mean_preds)), sorted_mean_preds)\n",
    "    plt.xticks(range(len(sorted_mean_preds)), sorted_pred_labels, rotation=60)\n",
    "    plt.title('Temp Scaled Logit Predictions')\n",
    "\n",
    "    # Add the true label to the title\n",
    "    plt.suptitle(f'Prediction Set: ({\", \".join(sorted_pred_labels)})\\nTrue Label: {true_label}')\n",
    "    plt.tight_layout()\n",
    "    plt.show()\n",
    "    "
   ]
  },
  {
   "cell_type": "code",
   "execution_count": 13,
   "metadata": {},
   "outputs": [
    {
     "data": {
      "image/png": "[encoded data removed]",
      "text/plain": [
       "<Figure size 1000x500 with 2 Axes>"
      ]
     },
     "metadata": {},
     "output_type": "display_data"
    }
   ],
   "source": [
    "plot_random_sample(preds, predict_batch[\"image\"], predict_batch[\"label\"], class_labels)"
   ]
  },
  {
   "cell_type": "code",
   "execution_count": 72,
   "metadata": {},
   "outputs": [],
   "source": [
    "# TODO demonstrate improved empirical coverage over baseline results\n",
    "# do a bit of finetuning to see if we can improve the results"
   ]
  },
  {
   "cell_type": "code",
   "execution_count": null,
   "metadata": {},
   "outputs": [],
   "source": []
  }
 ],
 "metadata": {
  "kernelspec": {
   "display_name": "uqboxEnv",
   "language": "python",
   "name": "python3"
  },
  "language_info": {
   "codemirror_mode": {
    "name": "ipython",
    "version": 3
   },
   "file_extension": ".py",
   "mimetype": "text/x-python",
   "name": "python",
   "nbconvert_exporter": "python",
   "pygments_lexer": "ipython3",
   "version": "3.9.16"
  }
 },
 "nbformat": 4,
 "nbformat_minor": 2
}
