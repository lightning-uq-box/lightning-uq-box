{
 "cells": [
  {
   "cell_type": "markdown",
   "metadata": {},
   "source": [
    "# RAPS with EuroSAT"
   ]
  },
  {
   "cell_type": "markdown",
   "metadata": {},
   "source": [
    "## Imports"
   ]
  },
  {
   "cell_type": "markdown",
   "metadata": {},
   "source": [
    "In this notebook, we will demonstrate how you can use a posthoc conformal method like Regularized Adaptive Prediction Sets (RAPS) [Angelopoulos et al. 2021](https://arxiv.org/abs/2009.14193) on an Earth Observation (EO) Classification Task, namely the infamous EuroSAT dataset. For the dataloading we will use the [TorchGeo library](https://torchgeo.readthedocs.io/en/stable/), which you will need to install to run this tutorial (`pip install torchgeo`). We will use the smaller version `EuroSAT100` for demonstration purposes. Additionally, we will show how you can use a pretrained model - specific to EO data and apply RAPS for improved uncertainty quantification (UQ)."
   ]
  },
  {
   "cell_type": "code",
   "execution_count": 57,
   "metadata": {},
   "outputs": [
    {
     "name": "stdout",
     "output_type": "stream",
     "text": [
      "The autoreload extension is already loaded. To reload it, use:\n",
      "  %reload_ext autoreload\n"
     ]
    }
   ],
   "source": [
    "import os\n",
    "\n",
    "from torchgeo.datamodules import RESISC45DataModule\n",
    "from torchgeo.models import ResNet18_Weights\n",
    "from lightning_uq_box.uq_methods import DeterministicClassification, RAPS\n",
    "from torchmetrics import Accuracy, CalibrationError, MetricCollection\n",
    "from lightning_uq_box.uq_methods.metrics import EmpiricalCoverage\n",
    "import timm\n",
    "from lightning.pytorch.loggers import CSVLogger\n",
    "import torch\n",
    "from torch import Generator\n",
    "from lightning import Trainer\n",
    "import tempfile\n",
    "import matplotlib.pyplot as plt\n",
    "import numpy as np\n",
    "from torch import Tensor\n",
    "from lightning_uq_box.viz_utils import plot_training_metrics\n",
    "\n",
    "%load_ext autoreload\n",
    "%autoreload 2\n",
    "\n",
    "os.environ[\"CUDA_VISIBLE_DEVICES\"] = \"7\"  # set the GPU device"
   ]
  },
  {
   "cell_type": "markdown",
   "metadata": {},
   "source": [
    "## Datamodule"
   ]
  },
  {
   "cell_type": "code",
   "execution_count": 2,
   "metadata": {},
   "outputs": [],
   "source": [
    "class RESISC45DataModuleWithCalib(RESISC45DataModule):\n",
    "    def setup(self, stage: str) -> None:\n",
    "        \"\"\"Setup datasets with calibration.\n",
    "\n",
    "        Args:\n",
    "            stage: Either 'fit', 'validate', 'test', or 'predict'\n",
    "        \"\"\"\n",
    "        if stage in [\"fit\"]:\n",
    "            self.train_dataset = self.dataset_class(  # type: ignore[call-arg]\n",
    "                split=\"train\", **self.kwargs\n",
    "            )\n",
    "        if stage in [\"fit\", \"validate\"]:\n",
    "            self.val_dataset = self.dataset_class(  # type: ignore[call-arg]\n",
    "                split=\"val\", **self.kwargs\n",
    "            )\n",
    "            # further split the validation set into a calibration set and a test set\n",
    "            self.val_dataset, self.calib_dataset = torch.utils.data.random_split(\n",
    "                self.val_dataset,\n",
    "                [len(self.val_dataset) - 200, 200],\n",
    "                generator=Generator().manual_seed(0),\n",
    "            )\n",
    "            self.calib_batch_size = self.val_batch_size\n",
    "        if stage in [\"test\"]:\n",
    "            self.test_dataset = self.dataset_class(  # type: ignore[call-arg]\n",
    "                split=\"test\", **self.kwargs\n",
    "            )\n",
    "\n",
    "    def calibration_dataloader(self):\n",
    "        \"\"\"Calibration Dataloader.\"\"\"\n",
    "        return self._dataloader_factory(\"calib\")"
   ]
  },
  {
   "cell_type": "code",
   "execution_count": 47,
   "metadata": {},
   "outputs": [],
   "source": [
    "def new_metrics(prefix: str):\n",
    "    \"\"\"Return a set of default regression metrics.\"\"\"\n",
    "    return MetricCollection(\n",
    "        {\n",
    "            \"Accuracy\": Accuracy(task=\"multiclass\", num_classes=45),\n",
    "            \"Coverage\": EmpiricalCoverage(alpha=0.1),\n",
    "            \"Calib\": CalibrationError(task=\"multiclass\", num_classes=45),\n",
    "        },\n",
    "        prefix=prefix,\n",
    "    )"
   ]
  },
  {
   "cell_type": "code",
   "execution_count": 48,
   "metadata": {},
   "outputs": [],
   "source": [
    "datamodule = RESISC45DataModuleWithCalib(root=\".\", num_workers=4, download=False)\n",
    "# setup manually so we can access val_loader\n",
    "datamodule.setup(\"fit\")\n",
    "# TODO get a validation and calibration loader"
   ]
  },
  {
   "cell_type": "code",
   "execution_count": 49,
   "metadata": {},
   "outputs": [],
   "source": [
    "def normalization_collate_fn(batch):\n",
    "    \"\"\"Collate function for normalization.\"\"\"\n",
    "    images = torch.stack([item[\"image\"] for item in batch])\n",
    "    labels = torch.stack([item[\"label\"] for item in batch])\n",
    "\n",
    "    return datamodule.aug({\"image\": images, \"label\": labels})"
   ]
  },
  {
   "cell_type": "code",
   "execution_count": 50,
   "metadata": {},
   "outputs": [],
   "source": [
    "val_loader = datamodule.val_dataloader()\n",
    "val_loader.collate_fn = normalization_collate_fn\n",
    "calib_loader = datamodule.calibration_dataloader()\n",
    "calib_loader.collate_fn = normalization_collate_fn"
   ]
  },
  {
   "cell_type": "markdown",
   "metadata": {},
   "source": [
    "## Pretrained Model\n",
    "\n",
    "We will use pretrained weights for Sentinel 2 data from the SSL4EO paper [Wang et al. 2022](https://arxiv.org/abs/2211.07044) that are accessible through TorchGeo."
   ]
  },
  {
   "cell_type": "code",
   "execution_count": 51,
   "metadata": {},
   "outputs": [],
   "source": [
    "weights = ResNet18_Weights.SENTINEL2_RGB_MOCO\n",
    "in_chans = weights.meta[\"in_chans\"]\n",
    "resnet18 = timm.create_model(\"resnet18\", in_chans=3, num_classes=45)\n",
    "resnet18.load_state_dict(weights.get_state_dict(progress=True), strict=False)\n",
    "resnet18 = resnet18.eval()"
   ]
  },
  {
   "cell_type": "markdown",
   "metadata": {},
   "source": [
    "## Predictions with Pretrained Model\n",
    "\n",
    "Let's first look at the predictions from the pretrained model so that we can later see the impact of RAPs. We will use a Lightning base class `DeterministicClassification` which will iterate over the dataloader and compute and store the metrics we are interested in."
   ]
  },
  {
   "cell_type": "code",
   "execution_count": 52,
   "metadata": {},
   "outputs": [
    {
     "name": "stderr",
     "output_type": "stream",
     "text": [
      "GPU available: True (cuda), used: True\n",
      "TPU available: False, using: 0 TPU cores\n",
      "IPU available: False, using: 0 IPUs\n",
      "HPU available: False, using: 0 HPUs\n",
      "Missing logger folder: /tmp/tmpss44s1k6/lightning_logs\n"
     ]
    },
    {
     "name": "stderr",
     "output_type": "stream",
     "text": [
      "LOCAL_RANK: 0 - CUDA_VISIBLE_DEVICES: [7]\n",
      "\n",
      "  | Name          | Type             | Params\n",
      "---------------------------------------------------\n",
      "0 | model         | ResNet           | 11.2 M\n",
      "1 | loss_fn       | CrossEntropyLoss | 0     \n",
      "2 | train_metrics | MetricCollection | 0     \n",
      "3 | val_metrics   | MetricCollection | 0     \n",
      "4 | test_metrics  | MetricCollection | 0     \n",
      "---------------------------------------------------\n",
      "11.2 M    Trainable params\n",
      "0         Non-trainable params\n",
      "11.2 M    Total params\n",
      "44.798    Total estimated model params size (MB)\n"
     ]
    },
    {
     "data": {
      "application/vnd.jupyter.widget-view+json": {
       "model_id": "366a8308725942179d7d1043480ec691",
       "version_major": 2,
       "version_minor": 0
      },
      "text/plain": [
       "Sanity Checking: |          | 0/? [00:00<?, ?it/s]"
      ]
     },
     "metadata": {},
     "output_type": "display_data"
    },
    {
     "data": {
      "application/vnd.jupyter.widget-view+json": {
       "model_id": "bbf9b9b2e0c8482f913a2b8728cded49",
       "version_major": 2,
       "version_minor": 0
      },
      "text/plain": [
       "Training: |          | 0/? [00:00<?, ?it/s]"
      ]
     },
     "metadata": {},
     "output_type": "display_data"
    },
    {
     "data": {
      "application/vnd.jupyter.widget-view+json": {
       "model_id": "c6550fc3549444f7beafe565fd568eeb",
       "version_major": 2,
       "version_minor": 0
      },
      "text/plain": [
       "Validation: |          | 0/? [00:00<?, ?it/s]"
      ]
     },
     "metadata": {},
     "output_type": "display_data"
    },
    {
     "data": {
      "application/vnd.jupyter.widget-view+json": {
       "model_id": "0bcb9ce2057f425bb1da71787024dd36",
       "version_major": 2,
       "version_minor": 0
      },
      "text/plain": [
       "Validation: |          | 0/? [00:00<?, ?it/s]"
      ]
     },
     "metadata": {},
     "output_type": "display_data"
    },
    {
     "data": {
      "application/vnd.jupyter.widget-view+json": {
       "model_id": "c2efe717641a4a77b29cc542835f3ff4",
       "version_major": 2,
       "version_minor": 0
      },
      "text/plain": [
       "Validation: |          | 0/? [00:00<?, ?it/s]"
      ]
     },
     "metadata": {},
     "output_type": "display_data"
    },
    {
     "data": {
      "application/vnd.jupyter.widget-view+json": {
       "model_id": "7d89f4df93fc49c0bc9448a97740137d",
       "version_major": 2,
       "version_minor": 0
      },
      "text/plain": [
       "Validation: |          | 0/? [00:00<?, ?it/s]"
      ]
     },
     "metadata": {},
     "output_type": "display_data"
    },
    {
     "data": {
      "application/vnd.jupyter.widget-view+json": {
       "model_id": "11ec697b75c746449f1e35f562ec9543",
       "version_major": 2,
       "version_minor": 0
      },
      "text/plain": [
       "Validation: |          | 0/? [00:00<?, ?it/s]"
      ]
     },
     "metadata": {},
     "output_type": "display_data"
    },
    {
     "name": "stderr",
     "output_type": "stream",
     "text": [
      "`Trainer.fit` stopped: `max_epochs=5` reached.\n",
      "Restoring states from the checkpoint path at /tmp/tmpss44s1k6/lightning_logs/version_0/checkpoints/epoch=4-step=1480.ckpt\n",
      "LOCAL_RANK: 0 - CUDA_VISIBLE_DEVICES: [7]\n",
      "Loaded model weights from the checkpoint at /tmp/tmpss44s1k6/lightning_logs/version_0/checkpoints/epoch=4-step=1480.ckpt\n"
     ]
    },
    {
     "data": {
      "application/vnd.jupyter.widget-view+json": {
       "model_id": "0dac8a7d79c44cef9c1b5bfe8751b721",
       "version_major": 2,
       "version_minor": 0
      },
      "text/plain": [
       "Testing: |          | 0/? [00:00<?, ?it/s]"
      ]
     },
     "metadata": {},
     "output_type": "display_data"
    },
    {
     "data": {
      "text/plain": [
       "[{}]"
      ]
     },
     "execution_count": 52,
     "metadata": {},
     "output_type": "execute_result"
    }
   ],
   "source": [
    "base_dir = tempfile.mkdtemp()\n",
    "# implement a torchmetrics empirical coverage metric and use that and accuracy to compare results\n",
    "base_model = DeterministicClassification(resnet18, loss_fn=torch.nn.CrossEntropyLoss())\n",
    "base_model.input_key = \"image\"\n",
    "base_model.target_key = \"label\"\n",
    "\n",
    "base_model.train_metrics = new_metrics(\"train\")\n",
    "base_model.val_metrics = new_metrics(\"val\")\n",
    "base_model.test_metrics = new_metrics(\"test\")\n",
    "\n",
    "base_trainer = Trainer(\n",
    "    accelerator=\"gpu\",\n",
    "    default_root_dir=base_dir,\n",
    "    max_epochs=5,\n",
    "    logger=CSVLogger(base_dir),\n",
    "    log_every_n_steps=1,\n",
    "    enable_progress_bar=True,\n",
    ")\n",
    "\n",
    "base_trainer.fit(base_model, datamodule=datamodule)\n",
    "base_trainer.test(ckpt_path=\"best\", dataloaders=val_loader)"
   ]
  },
  {
   "cell_type": "code",
   "execution_count": 59,
   "metadata": {},
   "outputs": [
    {
     "data": {
      "image/png": "[encoded data removed]",
      "text/plain": [
       "<Figure size 640x480 with 2 Axes>"
      ]
     },
     "metadata": {},
     "output_type": "display_data"
    }
   ],
   "source": [
    "fig = plot_training_metrics(os.path.join(base_dir, \"lightning_logs\"), [\"train_loss\", \"valAccuracy\"])"
   ]
  },
  {
   "cell_type": "markdown",
   "metadata": {},
   "source": [
    "## Apply RAPS"
   ]
  },
  {
   "cell_type": "code",
   "execution_count": 62,
   "metadata": {},
   "outputs": [
    {
     "name": "stderr",
     "output_type": "stream",
     "text": [
      "/home/nils/.conda/envs/uqboxEnv/lib/python3.9/site-packages/lightning/fabric/plugins/environments/slurm.py:191: The `srun` command is available on your system but is not used. HINT: If your intention is to run Lightning on SLURM, prepend your python command with `srun` like so: srun python /home/nils/.conda/envs/uqboxEnv/lib/python3.9/site-p ...\n",
      "GPU available: True (cuda), used: True\n",
      "TPU available: False, using: 0 TPU cores\n",
      "IPU available: False, using: 0 IPUs\n",
      "HPU available: False, using: 0 HPUs\n",
      "Missing logger folder: /tmp/tmpklou8j25/lightning_logs\n",
      "LOCAL_RANK: 0 - CUDA_VISIBLE_DEVICES: [7]\n"
     ]
    },
    {
     "data": {
      "application/vnd.jupyter.widget-view+json": {
       "model_id": "1b2cc8a1866544f4aa7f4c748ecb5ee1",
       "version_major": 2,
       "version_minor": 0
      },
      "text/plain": [
       "Validation: |          | 0/? [00:00<?, ?it/s]"
      ]
     },
     "metadata": {},
     "output_type": "display_data"
    },
    {
     "name": "stderr",
     "output_type": "stream",
     "text": [
      "/home/nils/.conda/envs/uqboxEnv/lib/python3.9/site-packages/lightning/fabric/plugins/environments/slurm.py:191: The `srun` command is available on your system but is not used. HINT: If your intention is to run Lightning on SLURM, prepend your python command with `srun` like so: srun python /home/nils/.conda/envs/uqboxEnv/lib/python3.9/site-p ...\n",
      "LOCAL_RANK: 0 - CUDA_VISIBLE_DEVICES: [7]\n"
     ]
    },
    {
     "data": {
      "application/vnd.jupyter.widget-view+json": {
       "model_id": "87b4c2500b884709bcb8f2b6afc7fc1c",
       "version_major": 2,
       "version_minor": 0
      },
      "text/plain": [
       "Testing: |          | 0/? [00:00<?, ?it/s]"
      ]
     },
     "metadata": {},
     "output_type": "display_data"
    },
    {
     "data": {
      "text/html": [
       "<pre style=\"white-space:pre;overflow-x:auto;line-height:normal;font-family:Menlo,'DejaVu Sans Mono',consolas,'Courier New',monospace\">┏━━━━━━━━━━━━━━━━━━━━━━━━━━━┳━━━━━━━━━━━━━━━━━━━━━━━━━━━┓\n",
       "┃<span style=\"font-weight: bold\">        Test metric        </span>┃<span style=\"font-weight: bold\">       DataLoader 0        </span>┃\n",
       "┡━━━━━━━━━━━━━━━━━━━━━━━━━━━╇━━━━━━━━━━━━━━━━━━━━━━━━━━━┩\n",
       "│<span style=\"color: #008080; text-decoration-color: #008080\">         test_loss         </span>│<span style=\"color: #800080; text-decoration-color: #800080\">    0.6301957368850708     </span>│\n",
       "└───────────────────────────┴───────────────────────────┘\n",
       "</pre>\n"
      ],
      "text/plain": [
       "┏━━━━━━━━━━━━━━━━━━━━━━━━━━━┳━━━━━━━━━━━━━━━━━━━━━━━━━━━┓\n",
       "┃\u001b[1m \u001b[0m\u001b[1m       Test metric       \u001b[0m\u001b[1m \u001b[0m┃\u001b[1m \u001b[0m\u001b[1m      DataLoader 0       \u001b[0m\u001b[1m \u001b[0m┃\n",
       "┡━━━━━━━━━━━━━━━━━━━━━━━━━━━╇━━━━━━━━━━━━━━━━━━━━━━━━━━━┩\n",
       "│\u001b[36m \u001b[0m\u001b[36m        test_loss        \u001b[0m\u001b[36m \u001b[0m│\u001b[35m \u001b[0m\u001b[35m   0.6301957368850708    \u001b[0m\u001b[35m \u001b[0m│\n",
       "└───────────────────────────┴───────────────────────────┘\n"
      ]
     },
     "metadata": {},
     "output_type": "display_data"
    },
    {
     "data": {
      "text/plain": [
       "[{'test_loss': 0.6301957368850708}]"
      ]
     },
     "execution_count": 62,
     "metadata": {},
     "output_type": "execute_result"
    }
   ],
   "source": [
    "raps_dir = tempfile.mkdtemp()\n",
    "raps = RAPS(model=base_model.model, lamda_criterion=\"adaptiveness\")\n",
    "raps.input_key = \"image\"\n",
    "raps.target_key = \"label\"\n",
    "raps.train_metrics = new_metrics(\"train\")\n",
    "raps.val_metrics = new_metrics(\"val\")\n",
    "raps.test_metrics = new_metrics(\"test\")\n",
    "\n",
    "raps_trainer = Trainer(\n",
    "    accelerator=\"gpu\", default_root_dir=raps_dir, inference_mode=False, logger=CSVLogger(raps_dir)\n",
    ")\n",
    "\n",
    "raps_trainer.validate(raps, dataloaders=calib_loader)\n",
    "raps_trainer.test(raps, dataloaders=val_loader)"
   ]
  },
  {
   "cell_type": "markdown",
   "metadata": {},
   "source": [
    "## Eval Metrics"
   ]
  },
  {
   "cell_type": "code",
   "execution_count": 65,
   "metadata": {},
   "outputs": [
    {
     "data": {
      "image/png": "[encoded data removed]",
      "text/plain": [
       "<Figure size 640x480 with 2 Axes>"
      ]
     },
     "metadata": {},
     "output_type": "display_data"
    }
   ],
   "source": [
    "fig = plot_training_metrics(os.path.join(raps_dir, \"lightning_logs\"), [\"test_loss\", \"test_loss\"])"
   ]
  },
  {
   "cell_type": "markdown",
   "metadata": {},
   "source": [
    "## Example Visualization"
   ]
  },
  {
   "cell_type": "code",
   "execution_count": 10,
   "metadata": {},
   "outputs": [
    {
     "name": "stdout",
     "output_type": "stream",
     "text": [
      "dict_keys(['pred', 'pred_set', 'logits'])\n"
     ]
    }
   ],
   "source": [
    "predict_batch = next(iter(datamodule.val_dataloader()))\n",
    "\n",
    "preds = raps.predict_step(predict_batch[\"image\"])\n",
    "print(preds.keys())"
   ]
  },
  {
   "cell_type": "code",
   "execution_count": 11,
   "metadata": {},
   "outputs": [],
   "source": [
    "preds[\"pred\"].shape\n",
    "eurosat_dataset = datamodule.train_dataloader().dataset\n",
    "class_labels = eurosat_dataset.classes"
   ]
  },
  {
   "cell_type": "markdown",
   "metadata": {},
   "source": []
  },
  {
   "cell_type": "code",
   "execution_count": 12,
   "metadata": {},
   "outputs": [],
   "source": [
    "def plot_random_sample(\n",
    "    preds: dict[str, Tensor], images: Tensor, true_labels: Tensor, class_labels: list\n",
    ") -> None:\n",
    "    \"\"\"Plot a random sample from the prediction batch.\n",
    "\n",
    "    Args:\n",
    "        preds: dictionary containing 'pred' and 'pred_set'\n",
    "        images: array of input images\n",
    "        class_labels: list of class labels\n",
    "    \"\"\"\n",
    "    # Select a random index from the prediction batch\n",
    "    idx = np.random.randint(len(images))\n",
    "\n",
    "    # Get the prediction set for the selected sample\n",
    "    pred_set = preds[\"pred_set\"][idx].numpy()\n",
    "    mean_preds = preds[\"pred\"][idx].numpy()\n",
    "\n",
    "    # Get the corresponding class labels for the prediction set\n",
    "    pred_labels = [class_labels[i] for i in pred_set]\n",
    "    true_label = class_labels[true_labels[idx]]\n",
    "\n",
    "    image = images[idx]\n",
    "\n",
    "    # taken from Torchgeo plot method\n",
    "    rgb_indices = []\n",
    "    for band in eurosat_dataset.rgb_bands:\n",
    "        if band in eurosat_dataset.bands:\n",
    "            rgb_indices.append(eurosat_dataset.bands.index(band))\n",
    "        else:\n",
    "            raise ValueError(\"Dataset doesn't contain some of the RGB bands\")\n",
    "\n",
    "    image = np.take(image.numpy(), indices=rgb_indices, axis=0)\n",
    "    image = np.rollaxis(image, 0, 3)\n",
    "    image = np.clip(image / 3000, 0, 1)\n",
    "\n",
    "    # Sort the mean predictions and corresponding class labels from high to low\n",
    "    sorted_indices = np.argsort(mean_preds[pred_set])[::-1]\n",
    "    sorted_mean_preds = mean_preds[pred_set][sorted_indices]\n",
    "    sorted_pred_labels = [pred_labels[i] for i in sorted_indices]\n",
    "\n",
    "    # Plot the input image\n",
    "    plt.figure(figsize=(10, 5))\n",
    "    plt.subplot(1, 2, 1)\n",
    "    plt.imshow(image)\n",
    "    plt.axis(\"off\")\n",
    "    plt.title(\"Input Image\")\n",
    "\n",
    "    # Plot the prediction set\n",
    "    plt.subplot(1, 2, 2)\n",
    "    plt.bar(range(len(sorted_mean_preds)), sorted_mean_preds)\n",
    "    plt.xticks(range(len(sorted_mean_preds)), sorted_pred_labels, rotation=60)\n",
    "    plt.title(\"Temp Scaled Logit Predictions\")\n",
    "\n",
    "    # Add the true label to the title\n",
    "    plt.suptitle(\n",
    "        f'Prediction Set: ({\", \".join(sorted_pred_labels)})\\nTrue Label: {true_label}'\n",
    "    )\n",
    "    plt.tight_layout()\n",
    "    plt.show()"
   ]
  },
  {
   "cell_type": "code",
   "execution_count": 13,
   "metadata": {},
   "outputs": [
    {
     "data": {
      "image/png": "[encoded data removed]",
      "text/plain": [
       "<Figure size 1000x500 with 2 Axes>"
      ]
     },
     "metadata": {},
     "output_type": "display_data"
    }
   ],
   "source": [
    "plot_random_sample(preds, predict_batch[\"image\"], predict_batch[\"label\"], class_labels)"
   ]
  },
  {
   "cell_type": "code",
   "execution_count": 14,
   "metadata": {},
   "outputs": [],
   "source": [
    "# TODO demonstrate improved empirical coverage over baseline results\n",
    "# do a bit of finetuning to see if we can improve the results"
   ]
  },
  {
   "cell_type": "code",
   "execution_count": null,
   "metadata": {},
   "outputs": [],
   "source": []
  }
 ],
 "metadata": {
  "kernelspec": {
   "display_name": "uqboxEnv",
   "language": "python",
   "name": "python3"
  },
  "language_info": {
   "codemirror_mode": {
    "name": "ipython",
    "version": 3
   },
   "file_extension": ".py",
   "mimetype": "text/x-python",
   "name": "python",
   "nbconvert_exporter": "python",
   "pygments_lexer": "ipython3",
   "version": "3.9.16"
  }
 },
 "nbformat": 4,
 "nbformat_minor": 2
}
