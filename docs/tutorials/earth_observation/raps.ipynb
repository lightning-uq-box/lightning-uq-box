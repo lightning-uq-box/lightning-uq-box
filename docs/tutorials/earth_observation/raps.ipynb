{
 "cells": [
  {
   "cell_type": "markdown",
   "metadata": {},
   "source": [
    "# RAPS with EuroSAT"
   ]
  },
  {
   "cell_type": "markdown",
   "metadata": {},
   "source": [
    "## Imports"
   ]
  },
  {
   "cell_type": "code",
   "execution_count": null,
   "metadata": {},
   "outputs": [],
   "source": [
    "# TODO consider looking at PatternNet dataset "
   ]
  },
  {
   "cell_type": "markdown",
   "metadata": {},
   "source": [
    "In this notebook, we will demonstrate how you can use a posthoc conformal method like Regularized Adaptive Prediction Sets (RAPS) [Angelopoulos et al. 2021](https://arxiv.org/abs/2009.14193) on an Earth Observation (EO) Classification Task, namely the infamous EuroSAT dataset. For the dataloading we will use the [TorchGeo library](https://torchgeo.readthedocs.io/en/stable/), which you will need to install to run this tutorial (`pip install torchgeo`). We will use the smaller version `EuroSAT100` for demonstration purposes. Additionally, we will show how you can use a pretrained model - specific to EO data and apply RAPS for improved uncertainty quantification (UQ)."
   ]
  },
  {
   "cell_type": "code",
   "execution_count": 1,
   "metadata": {},
   "outputs": [],
   "source": [
    "import os\n",
    "\n",
    "from torchgeo.datamodules import EuroSATDataModule\n",
    "from torchgeo.models import ResNet18_Weights\n",
    "from lightning_uq_box.uq_methods import DeterministicClassification, RAPS\n",
    "import timm\n",
    "from lightning.pytorch.loggers import CSVLogger\n",
    "import torch\n",
    "from torch import Generator\n",
    "from lightning import Trainer\n",
    "import tempfile\n",
    "import matplotlib.pyplot as plt\n",
    "import numpy as np\n",
    "from torch import Tensor\n",
    "from lightning_uq_box.viz_utils import plot_training_metrics\n",
    "\n",
    "os.environ[\"CUDA_VISIBLE_DEVICES\"] = \"4\"  # set the GPU device"
   ]
  },
  {
   "cell_type": "markdown",
   "metadata": {},
   "source": [
    "## Datamodule"
   ]
  },
  {
   "cell_type": "code",
   "execution_count": 2,
   "metadata": {},
   "outputs": [],
   "source": [
    "class EuroSATDataModuleWithCalib(EuroSATDataModule):\n",
    "    def setup(self, stage: str) -> None:\n",
    "        \"\"\"Setup datasets with calibration.\n",
    "\n",
    "        Args:\n",
    "            stage: Either 'fit', 'validate', 'test', or 'predict'\n",
    "        \"\"\"\n",
    "        if stage in [\"fit\"]:\n",
    "            self.train_dataset = self.dataset_class(  # type: ignore[call-arg]\n",
    "                split=\"train\", **self.kwargs\n",
    "            )\n",
    "        if stage in [\"fit\", \"validate\"]:\n",
    "            self.val_dataset = self.dataset_class(  # type: ignore[call-arg]\n",
    "                split=\"val\", **self.kwargs\n",
    "            )\n",
    "            # further split the validation set into a calibration set and a test set\n",
    "            self.val_dataset, self.calib_dataset = torch.utils.data.random_split(\n",
    "                self.val_dataset,\n",
    "                [len(self.val_dataset) - 200, 200],\n",
    "                generator=Generator().manual_seed(0),\n",
    "            )\n",
    "            self.calib_batch_size = self.val_batch_size\n",
    "        if stage in [\"test\"]:\n",
    "            self.test_dataset = self.dataset_class(  # type: ignore[call-arg]\n",
    "                split=\"test\", **self.kwargs\n",
    "            )\n",
    "\n",
    "    def calibration_dataloader(self):\n",
    "        \"\"\"Calibration Dataloader.\"\"\"\n",
    "        return self._dataloader_factory(\"calib\")"
   ]
  },
  {
   "cell_type": "code",
   "execution_count": 3,
   "metadata": {},
   "outputs": [],
   "source": [
    "datamodule = EuroSATDataModuleWithCalib(root=\".\", num_workers=4, download=True)\n",
    "# setup manually so we can access val_loader\n",
    "datamodule.setup(\"fit\")\n",
    "# TODO get a validation and calibration loader"
   ]
  },
  {
   "cell_type": "code",
   "execution_count": 4,
   "metadata": {},
   "outputs": [],
   "source": [
    "def normalization_collate_fn(batch):\n",
    "    \"\"\"Collate function for normalization.\"\"\"\n",
    "    images = torch.stack([item[\"image\"] for item in batch])\n",
    "    labels = torch.stack([item[\"label\"] for item in batch])\n",
    "\n",
    "    return datamodule.aug({\"image\": images, \"label\": labels})"
   ]
  },
  {
   "cell_type": "code",
   "execution_count": 5,
   "metadata": {},
   "outputs": [],
   "source": [
    "val_loader = datamodule.val_dataloader()\n",
    "val_loader.collate_fn = normalization_collate_fn\n",
    "calib_loader = datamodule.calibration_dataloader()\n",
    "calib_loader.collate_fn = normalization_collate_fn"
   ]
  },
  {
   "cell_type": "markdown",
   "metadata": {},
   "source": [
    "## Pretrained Model\n",
    "\n",
    "We will use pretrained weights for Sentinel 2 data from the SSL4EO paper [Wang et al. 2022](https://arxiv.org/abs/2211.07044) that are accessible through TorchGeo."
   ]
  },
  {
   "cell_type": "code",
   "execution_count": 6,
   "metadata": {},
   "outputs": [],
   "source": [
    "weights = ResNet18_Weights.SENTINEL2_ALL_MOCO\n",
    "in_chans = weights.meta[\"in_chans\"]\n",
    "resnet18 = timm.create_model(\"resnet18\", in_chans=in_chans, num_classes=10)\n",
    "resnet18.load_state_dict(weights.get_state_dict(progress=True), strict=False)\n",
    "\n",
    "resnet18 = resnet18.eval()"
   ]
  },
  {
   "cell_type": "markdown",
   "metadata": {},
   "source": [
    "## Predictions with Pretrained Model\n",
    "\n",
    "Let's first look at the predictions from the pretrained model so that we can later see the impact of RAPs. We will use a Lightning base class `DeterministicClassification` which will iterate over the dataloader and compute and store the metrics we are interested in."
   ]
  },
  {
   "cell_type": "code",
   "execution_count": 7,
   "metadata": {},
   "outputs": [
    {
     "name": "stderr",
     "output_type": "stream",
     "text": [
      "/home/nils/.conda/envs/uqboxEnv/lib/python3.9/site-packages/lightning/fabric/plugins/environments/slurm.py:191: The `srun` command is available on your system but is not used. HINT: If your intention is to run Lightning on SLURM, prepend your python command with `srun` like so: srun python /home/nils/.conda/envs/uqboxEnv/lib/python3.9/site-p ...\n",
      "GPU available: True (cuda), used: True\n",
      "TPU available: False, using: 0 TPU cores\n",
      "IPU available: False, using: 0 IPUs\n",
      "HPU available: False, using: 0 HPUs\n",
      "You are using a CUDA device ('NVIDIA RTX A6000') that has Tensor Cores. To properly utilize them, you should set `torch.set_float32_matmul_precision('medium' | 'high')` which will trade-off precision for performance. For more details, read https://pytorch.org/docs/stable/generated/torch.set_float32_matmul_precision.html#torch.set_float32_matmul_precision\n",
      "Missing logger folder: /tmp/tmpk58rrbui/lightning_logs\n"
     ]
    },
    {
     "name": "stderr",
     "output_type": "stream",
     "text": [
      "LOCAL_RANK: 0 - CUDA_VISIBLE_DEVICES: [4]\n",
      "\n",
      "  | Name          | Type             | Params\n",
      "---------------------------------------------------\n",
      "0 | model         | ResNet           | 11.2 M\n",
      "1 | loss_fn       | CrossEntropyLoss | 0     \n",
      "2 | train_metrics | MetricCollection | 0     \n",
      "3 | val_metrics   | MetricCollection | 0     \n",
      "4 | test_metrics  | MetricCollection | 0     \n",
      "---------------------------------------------------\n",
      "11.2 M    Trainable params\n",
      "0         Non-trainable params\n",
      "11.2 M    Total params\n",
      "44.852    Total estimated model params size (MB)\n",
      "`Trainer.fit` stopped: `max_epochs=2` reached.\n",
      "Restoring states from the checkpoint path at /tmp/tmpk58rrbui/lightning_logs/version_0/checkpoints/epoch=1-step=508.ckpt\n",
      "LOCAL_RANK: 0 - CUDA_VISIBLE_DEVICES: [4]\n",
      "Loaded model weights from the checkpoint at /tmp/tmpk58rrbui/lightning_logs/version_0/checkpoints/epoch=1-step=508.ckpt\n"
     ]
    },
    {
     "data": {
      "text/html": [
       "<pre style=\"white-space:pre;overflow-x:auto;line-height:normal;font-family:Menlo,'DejaVu Sans Mono',consolas,'Courier New',monospace\">┏━━━━━━━━━━━━━━━━━━━━━━━━━━━┳━━━━━━━━━━━━━━━━━━━━━━━━━━━┓\n",
       "┃<span style=\"font-weight: bold\">        Test metric        </span>┃<span style=\"font-weight: bold\">       DataLoader 0        </span>┃\n",
       "┡━━━━━━━━━━━━━━━━━━━━━━━━━━━╇━━━━━━━━━━━━━━━━━━━━━━━━━━━┩\n",
       "│<span style=\"color: #008080; text-decoration-color: #008080\">          testAcc          </span>│<span style=\"color: #800080; text-decoration-color: #800080\">    0.9092307686805725     </span>│\n",
       "│<span style=\"color: #008080; text-decoration-color: #008080\">        testF1Score        </span>│<span style=\"color: #800080; text-decoration-color: #800080\">    0.9092307686805725     </span>│\n",
       "│<span style=\"color: #008080; text-decoration-color: #008080\">       testcoverage        </span>│<span style=\"color: #800080; text-decoration-color: #800080\">    0.9992307424545288     </span>│\n",
       "│<span style=\"color: #008080; text-decoration-color: #008080\">       testset_size        </span>│<span style=\"color: #800080; text-decoration-color: #800080\">            1.0            </span>│\n",
       "└───────────────────────────┴───────────────────────────┘\n",
       "</pre>\n"
      ],
      "text/plain": [
       "┏━━━━━━━━━━━━━━━━━━━━━━━━━━━┳━━━━━━━━━━━━━━━━━━━━━━━━━━━┓\n",
       "┃\u001b[1m \u001b[0m\u001b[1m       Test metric       \u001b[0m\u001b[1m \u001b[0m┃\u001b[1m \u001b[0m\u001b[1m      DataLoader 0       \u001b[0m\u001b[1m \u001b[0m┃\n",
       "┡━━━━━━━━━━━━━━━━━━━━━━━━━━━╇━━━━━━━━━━━━━━━━━━━━━━━━━━━┩\n",
       "│\u001b[36m \u001b[0m\u001b[36m         testAcc         \u001b[0m\u001b[36m \u001b[0m│\u001b[35m \u001b[0m\u001b[35m   0.9092307686805725    \u001b[0m\u001b[35m \u001b[0m│\n",
       "│\u001b[36m \u001b[0m\u001b[36m       testF1Score       \u001b[0m\u001b[36m \u001b[0m│\u001b[35m \u001b[0m\u001b[35m   0.9092307686805725    \u001b[0m\u001b[35m \u001b[0m│\n",
       "│\u001b[36m \u001b[0m\u001b[36m      testcoverage       \u001b[0m\u001b[36m \u001b[0m│\u001b[35m \u001b[0m\u001b[35m   0.9992307424545288    \u001b[0m\u001b[35m \u001b[0m│\n",
       "│\u001b[36m \u001b[0m\u001b[36m      testset_size       \u001b[0m\u001b[36m \u001b[0m│\u001b[35m \u001b[0m\u001b[35m           1.0           \u001b[0m\u001b[35m \u001b[0m│\n",
       "└───────────────────────────┴───────────────────────────┘\n"
      ]
     },
     "metadata": {},
     "output_type": "display_data"
    },
    {
     "data": {
      "text/plain": [
       "[{'testAcc': 0.9092307686805725,\n",
       "  'testcoverage': 0.9992307424545288,\n",
       "  'testset_size': 1.0,\n",
       "  'testF1Score': 0.9092307686805725}]"
      ]
     },
     "execution_count": 7,
     "metadata": {},
     "output_type": "execute_result"
    }
   ],
   "source": [
    "base_dir = tempfile.mkdtemp()\n",
    "# implement a torchmetrics empirical coverage metric and use that and accuracy to compare results\n",
    "base_model = DeterministicClassification(resnet18, loss_fn=torch.nn.CrossEntropyLoss())\n",
    "base_model.input_key = \"image\"\n",
    "base_model.target_key = \"label\"\n",
    "\n",
    "base_trainer = Trainer(\n",
    "    accelerator=\"gpu\",\n",
    "    default_root_dir=base_dir,\n",
    "    max_epochs=2,\n",
    "    logger=CSVLogger(base_dir),\n",
    "    log_every_n_steps=1,\n",
    "    enable_progress_bar=False,\n",
    ")\n",
    "\n",
    "base_trainer.fit(base_model, datamodule=datamodule)\n",
    "base_trainer.test(ckpt_path=\"best\", dataloaders=val_loader)"
   ]
  },
  {
   "cell_type": "code",
   "execution_count": 8,
   "metadata": {},
   "outputs": [
    {
     "data": {
      "image/png": "[encoded data removed]",
      "text/plain": [
       "<Figure size 640x480 with 2 Axes>"
      ]
     },
     "metadata": {},
     "output_type": "display_data"
    }
   ],
   "source": [
    "fig = plot_training_metrics(os.path.join(base_dir, \"lightning_logs\"), \"Acc\")"
   ]
  },
  {
   "cell_type": "markdown",
   "metadata": {},
   "source": [
    "## Apply RAPS"
   ]
  },
  {
   "cell_type": "code",
   "execution_count": 9,
   "metadata": {},
   "outputs": [
    {
     "name": "stderr",
     "output_type": "stream",
     "text": [
      "/home/nils/.conda/envs/uqboxEnv/lib/python3.9/site-packages/lightning/fabric/plugins/environments/slurm.py:191: The `srun` command is available on your system but is not used. HINT: If your intention is to run Lightning on SLURM, prepend your python command with `srun` like so: srun python /home/nils/.conda/envs/uqboxEnv/lib/python3.9/site-p ...\n",
      "GPU available: True (cuda), used: True\n",
      "TPU available: False, using: 0 TPU cores\n",
      "IPU available: False, using: 0 IPUs\n",
      "HPU available: False, using: 0 HPUs\n",
      "Missing logger folder: /tmp/tmpywuw324t/lightning_logs\n",
      "LOCAL_RANK: 0 - CUDA_VISIBLE_DEVICES: [4]\n"
     ]
    },
    {
     "data": {
      "application/vnd.jupyter.widget-view+json": {
       "model_id": "8e6104aadd3d4a0d911e53dbb19e6d6b",
       "version_major": 2,
       "version_minor": 0
      },
      "text/plain": [
       "Validation: |          | 0/? [00:00<?, ?it/s]"
      ]
     },
     "metadata": {},
     "output_type": "display_data"
    },
    {
     "name": "stderr",
     "output_type": "stream",
     "text": [
      "/home/nils/.conda/envs/uqboxEnv/lib/python3.9/site-packages/lightning/fabric/plugins/environments/slurm.py:191: The `srun` command is available on your system but is not used. HINT: If your intention is to run Lightning on SLURM, prepend your python command with `srun` like so: srun python /home/nils/.conda/envs/uqboxEnv/lib/python3.9/site-p ...\n",
      "LOCAL_RANK: 0 - CUDA_VISIBLE_DEVICES: [4]\n"
     ]
    },
    {
     "name": "stdout",
     "output_type": "stream",
     "text": [
      "My Qhat:  tensor(0.8884)\n"
     ]
    },
    {
     "data": {
      "application/vnd.jupyter.widget-view+json": {
       "model_id": "5eff3adfe0f6422b88baf63b98c38853",
       "version_major": 2,
       "version_minor": 0
      },
      "text/plain": [
       "Testing: |          | 0/? [00:00<?, ?it/s]"
      ]
     },
     "metadata": {},
     "output_type": "display_data"
    },
    {
     "data": {
      "text/html": [
       "<pre style=\"white-space:pre;overflow-x:auto;line-height:normal;font-family:Menlo,'DejaVu Sans Mono',consolas,'Courier New',monospace\">┏━━━━━━━━━━━━━━━━━━━━━━━━━━━┳━━━━━━━━━━━━━━━━━━━━━━━━━━━┓\n",
       "┃<span style=\"font-weight: bold\">        Test metric        </span>┃<span style=\"font-weight: bold\">       DataLoader 0        </span>┃\n",
       "┡━━━━━━━━━━━━━━━━━━━━━━━━━━━╇━━━━━━━━━━━━━━━━━━━━━━━━━━━┩\n",
       "│<span style=\"color: #008080; text-decoration-color: #008080\">         test_loss         </span>│<span style=\"color: #800080; text-decoration-color: #800080\">    0.29816675186157227    </span>│\n",
       "└───────────────────────────┴───────────────────────────┘\n",
       "</pre>\n"
      ],
      "text/plain": [
       "┏━━━━━━━━━━━━━━━━━━━━━━━━━━━┳━━━━━━━━━━━━━━━━━━━━━━━━━━━┓\n",
       "┃\u001b[1m \u001b[0m\u001b[1m       Test metric       \u001b[0m\u001b[1m \u001b[0m┃\u001b[1m \u001b[0m\u001b[1m      DataLoader 0       \u001b[0m\u001b[1m \u001b[0m┃\n",
       "┡━━━━━━━━━━━━━━━━━━━━━━━━━━━╇━━━━━━━━━━━━━━━━━━━━━━━━━━━┩\n",
       "│\u001b[36m \u001b[0m\u001b[36m        test_loss        \u001b[0m\u001b[36m \u001b[0m│\u001b[35m \u001b[0m\u001b[35m   0.29816675186157227   \u001b[0m\u001b[35m \u001b[0m│\n",
       "└───────────────────────────┴───────────────────────────┘\n"
      ]
     },
     "metadata": {},
     "output_type": "display_data"
    },
    {
     "data": {
      "text/plain": [
       "[{'test_loss': 0.29816675186157227}]"
      ]
     },
     "execution_count": 9,
     "metadata": {},
     "output_type": "execute_result"
    }
   ],
   "source": [
    "raps_dir = tempfile.mkdtemp()\n",
    "raps = RAPS(model=base_model.model, lamda_criterion=\"adaptiveness\")\n",
    "raps.input_key = \"image\"\n",
    "raps.target_key = \"label\"\n",
    "\n",
    "raps_trainer = Trainer(\n",
    "    accelerator=\"gpu\", default_root_dir=raps_dir, inference_mode=False\n",
    ")\n",
    "\n",
    "raps_trainer.validate(raps, dataloaders=calib_loader)\n",
    "raps_trainer.test(raps, dataloaders=val_loader)"
   ]
  },
  {
   "cell_type": "markdown",
   "metadata": {},
   "source": [
    "## Eval Metrics"
   ]
  },
  {
   "cell_type": "code",
   "execution_count": null,
   "metadata": {},
   "outputs": [],
   "source": []
  },
  {
   "cell_type": "markdown",
   "metadata": {},
   "source": [
    "## Example Visualization"
   ]
  },
  {
   "cell_type": "code",
   "execution_count": 10,
   "metadata": {},
   "outputs": [
    {
     "name": "stdout",
     "output_type": "stream",
     "text": [
      "dict_keys(['pred', 'pred_set', 'logits'])\n"
     ]
    }
   ],
   "source": [
    "predict_batch = next(iter(datamodule.val_dataloader()))\n",
    "\n",
    "preds = raps.predict_step(predict_batch[\"image\"])\n",
    "print(preds.keys())"
   ]
  },
  {
   "cell_type": "code",
   "execution_count": 11,
   "metadata": {},
   "outputs": [],
   "source": [
    "preds[\"pred\"].shape\n",
    "eurosat_dataset = datamodule.train_dataloader().dataset\n",
    "class_labels = eurosat_dataset.classes"
   ]
  },
  {
   "cell_type": "markdown",
   "metadata": {},
   "source": []
  },
  {
   "cell_type": "code",
   "execution_count": 12,
   "metadata": {},
   "outputs": [],
   "source": [
    "def plot_random_sample(\n",
    "    preds: dict[str, Tensor], images: Tensor, true_labels: Tensor, class_labels: list\n",
    ") -> None:\n",
    "    \"\"\"Plot a random sample from the prediction batch.\n",
    "\n",
    "    Args:\n",
    "        preds: dictionary containing 'pred' and 'pred_set'\n",
    "        images: array of input images\n",
    "        class_labels: list of class labels\n",
    "    \"\"\"\n",
    "    # Select a random index from the prediction batch\n",
    "    idx = np.random.randint(len(images))\n",
    "\n",
    "    # Get the prediction set for the selected sample\n",
    "    pred_set = preds[\"pred_set\"][idx].numpy()\n",
    "    mean_preds = preds[\"pred\"][idx].numpy()\n",
    "\n",
    "    # Get the corresponding class labels for the prediction set\n",
    "    pred_labels = [class_labels[i] for i in pred_set]\n",
    "    true_label = class_labels[true_labels[idx]]\n",
    "\n",
    "    image = images[idx]\n",
    "\n",
    "    # taken from Torchgeo plot method\n",
    "    rgb_indices = []\n",
    "    for band in eurosat_dataset.rgb_bands:\n",
    "        if band in eurosat_dataset.bands:\n",
    "            rgb_indices.append(eurosat_dataset.bands.index(band))\n",
    "        else:\n",
    "            raise ValueError(\"Dataset doesn't contain some of the RGB bands\")\n",
    "\n",
    "    image = np.take(image.numpy(), indices=rgb_indices, axis=0)\n",
    "    image = np.rollaxis(image, 0, 3)\n",
    "    image = np.clip(image / 3000, 0, 1)\n",
    "\n",
    "    # Sort the mean predictions and corresponding class labels from high to low\n",
    "    sorted_indices = np.argsort(mean_preds[pred_set])[::-1]\n",
    "    sorted_mean_preds = mean_preds[pred_set][sorted_indices]\n",
    "    sorted_pred_labels = [pred_labels[i] for i in sorted_indices]\n",
    "\n",
    "    # Plot the input image\n",
    "    plt.figure(figsize=(10, 5))\n",
    "    plt.subplot(1, 2, 1)\n",
    "    plt.imshow(image)\n",
    "    plt.axis(\"off\")\n",
    "    plt.title(\"Input Image\")\n",
    "\n",
    "    # Plot the prediction set\n",
    "    plt.subplot(1, 2, 2)\n",
    "    plt.bar(range(len(sorted_mean_preds)), sorted_mean_preds)\n",
    "    plt.xticks(range(len(sorted_mean_preds)), sorted_pred_labels, rotation=60)\n",
    "    plt.title(\"Temp Scaled Logit Predictions\")\n",
    "\n",
    "    # Add the true label to the title\n",
    "    plt.suptitle(\n",
    "        f'Prediction Set: ({\", \".join(sorted_pred_labels)})\\nTrue Label: {true_label}'\n",
    "    )\n",
    "    plt.tight_layout()\n",
    "    plt.show()"
   ]
  },
  {
   "cell_type": "code",
   "execution_count": 13,
   "metadata": {},
   "outputs": [
    {
     "data": {
      "image/png": "[encoded data removed]",
      "text/plain": [
       "<Figure size 1000x500 with 2 Axes>"
      ]
     },
     "metadata": {},
     "output_type": "display_data"
    }
   ],
   "source": [
    "plot_random_sample(preds, predict_batch[\"image\"], predict_batch[\"label\"], class_labels)"
   ]
  },
  {
   "cell_type": "code",
   "execution_count": 14,
   "metadata": {},
   "outputs": [],
   "source": [
    "# TODO demonstrate improved empirical coverage over baseline results\n",
    "# do a bit of finetuning to see if we can improve the results"
   ]
  },
  {
   "cell_type": "code",
   "execution_count": null,
   "metadata": {},
   "outputs": [],
   "source": []
  }
 ],
 "metadata": {
  "kernelspec": {
   "display_name": "uqboxEnv",
   "language": "python",
   "name": "python3"
  },
  "language_info": {
   "codemirror_mode": {
    "name": "ipython",
    "version": 3
   },
   "file_extension": ".py",
   "mimetype": "text/x-python",
   "name": "python",
   "nbconvert_exporter": "python",
   "pygments_lexer": "ipython3",
   "version": "3.9.16"
  }
 },
 "nbformat": 4,
 "nbformat_minor": 2
}
