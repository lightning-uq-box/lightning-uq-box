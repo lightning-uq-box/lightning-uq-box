{
 "cells": [
  {
   "cell_type": "markdown",
   "id": "b2a16c1c",
   "metadata": {},
   "source": [
    "# Deep Kernel Learning"
   ]
  },
  {
   "cell_type": "code",
   "execution_count": null,
   "id": "d9179e73",
   "metadata": {},
   "outputs": [],
   "source": [
    "%%capture\n",
    "%pip install git+https://github.com/lightning-uq-box/lightning-uq-box.git"
   ]
  },
  {
   "cell_type": "markdown",
   "id": "96a11e42",
   "metadata": {},
   "source": [
    "## Theoretic Foundation\n",
    "\n",
    "## Recap of Gaussian Processes (GPs):\n",
    "\n",
    "The goal of previously introduced methods was to find a distribution over the weights of a parameterized function i.e. a neural network. In contrast, the basic idea of a Gaussian Process (GP) is to instead consider a distribution over possible functions, that fit the data in some way. Formally,\n",
    "\n",
    "*\"A Gaussian process is a collection of random variables, any finite number of which have a joint Gaussian distribution.\"* [Seeger, 2004](https://www.worldscientific.com/doi/abs/10.1142/S0129065704001899)\n",
    "\n",
    "Precisely, a GP can be described by a possibly infinite amount of function values\n",
    "$$\n",
    "    f(x) \\sim \\mathcal{GP}(m(x),k_{\\gamma}(x)),\n",
    "$$\n",
    "\n",
    "such that any finite collection of function values $f$ has a joint Gaussian\n",
    "distribution,\n",
    "\n",
    "$$\n",
    " f = f(X) = [f(x_1),\\dots,f(x_K)]^{\\top} \\sim \\mathcal{N}(m_X,\\mathcal{K}_{X,X}),\n",
    "$$\n",
    "\n",
    "with a mean vector, $(m_X)i = m(x_i)$, and covariance matrix, $(\\mathcal{K}_{X,X})_{ij} = k_{\\gamma}(x_i,x_j)$,\n",
    "stemming from the mean function $m$ and covariance kernel of the GP, $k_{\\gamma}$, that is parametrized by $\\gamma$. A commonly used covariance function is the squared exponential, also referred to as Radial Basis Function (RBF) kernel, exponentiated quadratic or Gaussian kernel:\n",
    "\n",
    "$$\n",
    "    k_{\\gamma}(x,x') = \\text{cov}(f(x),f(x')) = \\eta^2\\exp{\\left(-\\frac{1}{2l^2}|x-x'|^2\\right)}.\n",
    "$$\n",
    "\n",
    "Where $\\gamma =( \\eta^2, l)$ and $\\eta^2$ can be set to $1$ or tuned as a hyperparameter. By default the lengthscale $l=1$ but can also be optimized over. Now the GP, $f (x) \\sim GP(m(x), k(x, x'))$, as a distribution over functions can be used to solve a regression problem. Following [Seeger, 2004](https://www.worldscientific.com/doi/abs/10.1142/S0129065704001899), consider the simple special case where the observations are noise free and you have training data $\\mathcal{D}_{\\mathrm{train}} = \\{(x_i, y_i)\\}_{i=1}^{K}$ with $X=(x_i)_{i=1}^K$ and $Y=(y_i)_{i=1}^K$. The joint prior distribution of the training outputs, $Y$, and the test outputs $f_*=f_*(X_*)= (f(x_k))_{k=1}^m$ where $X_* = (x_k)_{k=1}^m$ are the test points, according to the prior is\n",
    "\n",
    "$$\n",
    "p(Y,f_*) = \\mathcal{N}\\bigg(0, \\Bigg[ \n",
    "\\begin{array}{rr}\n",
    "\\mathcal{K}_{X,X} & \\mathcal{K}_{X,X_*} \\\\\n",
    "\\mathcal{K}_{X_*,X} & \\mathcal{K}_{X_*,X_*} \\\\\\\n",
    "\\end{array} \\Bigg] \\bigg).\n",
    "$$\n",
    "\n",
    "Here the mean function is assumed to be $m_X = 0$ and $\\mathcal{K}_{X,X_*}$ denotes the $K \\times m$ matrix of the covariances evaluated at all pairs of training and test points, and similarly for the other entries $\\mathcal{K}_{X,X}$, $\\mathcal{K}_{X_*,X_*}$ and $\\mathcal{K}_{X_*,X}$. To make predictions based on the knowledge of the training points, conditioning on the prior observations is used and yields,\n",
    "$$\n",
    "  p(f_*|X_*, X, Y) = \\mathcal{N}(\\mathcal{K}_{X_*,X}\\mathcal{K}_{X,X}^{-1}Y, \\mathcal{K}_{X_*,X_*}-\\mathcal{K}_{X_*,X_*}\\mathcal{K}_{X,X}^{-1}\\mathcal{K}_{X,X_*})\\\\\n",
    "  = \\mathcal{N}(m(X,X_*,Y), \\tilde{\\mathcal{K}}_{X,X_*}).\n",
    "$$\n",
    "\n",
    "Now to generate function values on test points, one uses samples from the posterior distribution $f_*(X_*) \\sim \\mathcal{N}(m(X,X_*,Y), \\tilde{K}(X, X_*))$.  To illustrate how we can obtain these samples from the posterior distribution, consider a Gaussian with arbitrary mean $m$ and covariance $K$, i.e. $f_* \\sim \\mathcal{N}(m,K)$. For this one can use a scalar Gaussian generator, which is available in many packages:\n",
    "- Compute the Cholesky decomposition of $K=LL^T$, where $L$ is a lower triangular matrix. This works because $K$ is symmetric by definition.\n",
    "- Then, draw multiple $u \\sim \\mathcal{N}(0, I)$.\n",
    "- Now, compute the samples with $f_* = m + Lu$. This has the desired mean, $m$ and covariance $L\\mathbb{E}(uu^T)L^T = LL^T = K$.\n",
    "\n",
    "The above can be extended to incorporate noisy measurements $y \\rightarrow y + e$, see [Seeger, 2004](https://www.worldscientific.com/doi/abs/10.1142/S0129065704001899), or noise on the inputs as in [Johnson, 2019](https://ieeexplore.ieee.org/abstract/document/8746634). Both of these extensions require tuning of further hyperparameters, yet beneficially allow to incorporate a prediction of aleatoric uncertainty in a GP.\n",
    "\n",
    "For example, assume additive Gaussian noise on the distribution of the function values,\n",
    "\n",
    "$$\n",
    "  p(y(x)|f(x)) =  \\mathcal{N}(y(x); f(x),\\sigma^2).\n",
    "$$\n",
    "\n",
    "Then the predictive distribution of the GP evaluated at the\n",
    "$K_*$ test points, $X_*$, is given by\n",
    "\n",
    "$$\n",
    " p(f_*|X_*,X,Y,\\gamma,\\sigma^2) = \\mathcal{N}(\\mathbb{E}[f_*],\\text{cov}(f_*)),\n",
    "$$\n",
    "\n",
    "$$\n",
    " \\mathbb{E}[f_*] = m_{X_*}  + \\mathcal{K}_{X_*,X}[\\mathcal{K}_{X,X}+\\sigma^2 I]^{-1}Y\n",
    "$$\n",
    "\n",
    "$$\n",
    " \\text{cov}(f_*) = \\mathcal{K}_{X_*,X_*} - \\mathcal{K}_{X_*,X}[\\mathcal{K}_{X,X}+\\sigma^2 I]^{-1}\\mathcal{K}_{X,X_*}.\n",
    "$$\n",
    "\n",
    "Here $m_{X_*}$ is the $K_* \\times 1$ mean vector, which is assumed to be zero in the previous case.\n",
    "\n",
    "In both cases, with and without additive noise on the function values, the GP is trained by learning interpretable kernel hyperparameters. The log marginal likelihood of the targets $y$ - the probability of the data conditioned only on kernel hyperparameters $\\gamma$ - provides a principled probabilistic framework for kernel learning:\n",
    "$$\n",
    " \\log p(y | \\gamma, X) \\propto -\\left(y^{\\top}(\\mathcal{K}_{\\gamma}+\\sigma^2 I)^{-1}y + \\log|\\mathcal{K}_{\\gamma} + \\sigma^2 I|\\right),\n",
    "$$\n",
    "where $\\mathcal{K}_{\\gamma}$ is used for $\\mathcal{K}_{X,X}$ given $\\gamma$. Kernel learning can be achieved by optimizing the above with respect to $\\gamma$.\n",
    "\n",
    "The computational bottleneck for inference is solving the linear system\n",
    "$(\\mathcal{K}_{X,X}+\\sigma^2 I)^{-1}y$, and for kernel learning it is computing\n",
    "the log determinant $\\log|\\mathcal{K}_{X,X}+ \\sigma^2 I|$ in the marginal likelihood.\n",
    "The standard approach is to compute the Cholesky decomposition of the\n",
    "$K \\times K$ matrix $\\mathcal{K}_{X,X}$, which\n",
    "requires $\\mathcal{O}(K^3)$ operations and $\\mathcal{O}(K^2)$ storage.\n",
    "After inference is complete, the predictive mean costs $\\mathcal{O}(K)$,\n",
    "and the predictive variance costs $\\mathcal{O}(K^2)$, per test point\n",
    "$x_*$.\n",
    "\n",
    "## Deep Kernel Learning (DKL)\n",
    "\n",
    "\n",
    " Conceptually DKL consists of a NN architecture that extracts a feature representation of the input $x$ and fits an approximate GP on top of these features to produce a probabilistic output [Wilson, 2016](http://proceedings.mlr.press/v51/wilson16.pdf). DKL combines GPs and DNNs in a scalable way. In practice, all parameters, the weights of the feature extractor and the GP parameters are optimized jointly by maximizing the log marginal likelihood of the GP. We utilize GPytorch for our implementation [Gardner, 2018](https://proceedings.neurips.cc/paper/2018/file/27e8e17134dd7083b050476733207ea1-Paper.pdf) and use a grid approximation where we optimized over the number of inducing points. For DKL the GP is transformed by replacing the inputs $x$ by the outputs of a NN in the following way. The kernel $k_{\\gamma}(x,x')$ with hyperparameters\n",
    "$\\theta$ is replaced by,\n",
    "\n",
    "$$\n",
    "k_{\\gamma}(x,x') \\to k_{\\gamma}( g(x, \\theta), g(x', \\theta)),\n",
    "$$\n",
    "\n",
    "where $g(x,\\theta)$ is a non-linear mapping given by a deep architecture, such as a deep\n",
    "convolutional network mapping into a feature space of dimension $J$, parametrized by weights $\\theta$,\n",
    "\n",
    "$$\n",
    "  g(\\cdot, \\theta): X \\rightarrow \\mathbb{R}^J \\\\\n",
    "  x \\mapsto g(x, \\theta).\n",
    "$$\n",
    "\n",
    "This so called deep kernel is now used as the covariance function of a GP to model data $\\mathcal{D} = \\{x_i, y_i\\}_{i=1}^{K}$. The deep kernel hyperparameters,\n",
    "\n",
    "$\\rho = \\{ \\gamma,\\theta, \\sigma^2 \\}$, can be jointly learned by maximizing the\n",
    "log marginal likelihood of the GP.\n",
    "\n",
    "$$\n",
    " \\mathcal{L} = \\log p(Y | \\gamma, X, \\theta) \\propto -\\left(y^{\\top}(K_{\\gamma, \\theta} +\\sigma^2 I)^{-1}y + \\log|K_{\\gamma, \\theta} + \\sigma^2 I|\\right),\n",
    "$$\n",
    "\n",
    "Except for the replacement of input data, one can almost follow the same procedures for learning\n",
    "and inference as for GPs as outlined previously. For optimizing log marginal likelihood of the GP the chain rule is used to compute derivatives of the log marginal likelihood with respect to the deep kernel hyperparameters as in [Wilson, 2016](http://proceedings.mlr.press/v51/wilson16.pdf).\n",
    "\n",
    " Exact inference is possible for the regression case, yet the computational complexity scales cubically with the number of data points and makes it not suitable for large datasets. Thus, following [van Amersfoort, 2021](https://arxiv.org/pdf/2102.11409.pdf) in our implementation we use the sparse GP of [Titsias, 2009](http://proceedings.mlr.press/v5/titsias09a/titsias09a.pdf) and the variational approximation of [Hensman, 2015](http://proceedings.mlr.press/v38/hensman15.pdf) in order to allow for DKL to scale to large training datasets. The sparse GP approximation of [Titsias, 2009](http://proceedings.mlr.press/v5/titsias09a/titsias09a.pdf) augments the DKL model with $M$ inducing inputs, $Z \\in \\mathbb{R}^{M \\times J}$, where $J$ is the dimensionality of the feature space. Moreover, to perform computationally efficient inference we use the the variational approximation introduced by [Hensman, 2015](http://proceedings.mlr.press/v38/hensman15.pdf), where inducing points $Z$ are treated as variational parameters. $U$ are random variables with prior\n",
    "\n",
    "$$\n",
    "  p(U) = \\mathcal{N}(U | m_Z, \\mathcal{K}_{Z,Z}),\n",
    "$$\n",
    "\n",
    "and variational posterior\n",
    "\n",
    "$$\n",
    "  q(U) =  \\mathcal{N}(U | \\widetilde{m}, S),\n",
    "$$\n",
    "\n",
    "where $\\widetilde{m} \\in \\mathbb{R}^{M}$ and $S \\in \\mathbb{R}^{M \\times M}$ are variational parameters and initialized at the zero vector and the identity matrix respectively.\n",
    " The approximate predictive posterior distribution at training points $X$ is then\n",
    "\n",
    "$$\n",
    "  p(f| Y) \\approxeq q(f) = \\int p(f | U) q(U)  dU\n",
    "$$\n",
    "\n",
    "Here $p(f | U)$ is a Gaussian distribution for which we can find an analytic expression, see [Hensman, 2015](http://proceedings.mlr.press/v38/hensman15.pdf) for details.\n",
    "Note that we deviate from [Hensman, 2015](http://proceedings.mlr.press/v38/hensman15.pdf) in that our input points $X$ are mapped into feature space just before computing the base kernel, while inducing points are used as is (they are defined in feature space). The variational parameters $Z$, $\\widetilde{m}$, and $S$ and the feature extractor parameters $\\theta$ and GP model hyparparameters $\\gamma$, given by $l$ and $\\eta^2$, and $\\sigma^2$ are all learned at once by maximizing a lower bound on the log marginal likelihood of the predictive distribution $p(Y|X)$, the ELBO, denoted by $\\mathcal{L}$.\n",
    "For the variational approximation above, this is defined as\n",
    "\n",
    "$$\n",
    "  \\log(p(Y|X)) \\geq\n",
    "  \\mathcal{L}(Z, m,S, \\gamma, \\theta, \\sigma^2) = \\sum_{i=1}^N\n",
    "  \\mathbb{E}_{q(f)}\n",
    "  \\left[ \\log p(y_i | f(x_i)) \\right]\n",
    "  - \\beta \\text{D}_{\\text{KL}}(q(U) || p(U)).\n",
    "$$\n",
    "\n",
    "Both terms can be computed analytically when the likelihood is Gaussian and all parameters can be learned using stochastic gradient descent.\n",
    "To accelerate optimization gpytorch additionally utilizes the whitening procedure of [Matthews, 2017](https://api.repository.cam.ac.uk/server/api/core/bitstreams/c3612b80-36a4-4620-92ce-d389eeea98f8/content) in their Variational Strategy. The approximate predictive posterior distribution at test points $X^*$ is then\n",
    "\n",
    "$$\n",
    "  p(f_* | Y) \\approxeq q(f_*) = \\int p(f_* | U ) q(U)  dU\n",
    "$$\n",
    "\n",
    "For regression tasks we directly use the function values $f_*$ above as the predictions.\n",
    "We use the mean of $p(f_* | Y)$ as the prediction, and the variance as the uncertainty.\n",
    "\n",
    "\n"
   ]
  },
  {
   "cell_type": "markdown",
   "id": "658d2119",
   "metadata": {},
   "source": [
    "## Imports"
   ]
  },
  {
   "cell_type": "code",
   "execution_count": null,
   "id": "4b11d19a",
   "metadata": {},
   "outputs": [],
   "source": [
    "import os\n",
    "import tempfile\n",
    "from functools import partial\n",
    "\n",
    "import matplotlib.pyplot as plt\n",
    "import torch\n",
    "from lightning import Trainer\n",
    "from lightning.pytorch import seed_everything\n",
    "from lightning.pytorch.loggers import CSVLogger\n",
    "\n",
    "from lightning_uq_box.datamodules import ToyHeteroscedasticDatamodule\n",
    "from lightning_uq_box.models import MLP\n",
    "from lightning_uq_box.uq_methods import DKLRegression\n",
    "from lightning_uq_box.viz_utils import (\n",
    "    plot_calibration_uq_toolbox,\n",
    "    plot_predictions_regression,\n",
    "    plot_toy_regression_data,\n",
    "    plot_training_metrics,\n",
    ")\n",
    "\n",
    "plt.rcParams[\"figure.figsize\"] = [14, 5]"
   ]
  },
  {
   "cell_type": "code",
   "execution_count": null,
   "id": "05140441",
   "metadata": {},
   "outputs": [],
   "source": [
    "seed_everything(0)  # seed everything for reproducibility"
   ]
  },
  {
   "cell_type": "markdown",
   "id": "b833a0fb",
   "metadata": {},
   "source": [
    "We define a temporary directory to look at some training metrics and results."
   ]
  },
  {
   "cell_type": "code",
   "execution_count": null,
   "id": "1223ec4f",
   "metadata": {},
   "outputs": [],
   "source": [
    "my_temp_dir = tempfile.mkdtemp()"
   ]
  },
  {
   "cell_type": "markdown",
   "id": "6f8db124",
   "metadata": {},
   "source": [
    "## Datamodule\n",
    "\n",
    "To demonstrate the method, we will make use of a Toy Regression Example that is defined as a [Lightning Datamodule](https://lightning.ai/docs/pytorch/stable/data/datamodule.html). While this might seem like overkill for a small toy problem, we think it is more helpful how the individual pieces of the library fit together so you can train models on more complex tasks."
   ]
  },
  {
   "cell_type": "code",
   "execution_count": null,
   "id": "77d011e4",
   "metadata": {},
   "outputs": [],
   "source": [
    "dm = ToyHeteroscedasticDatamodule(batch_size=32)\n",
    "\n",
    "X_train, Y_train, train_loader, X_test, Y_test, test_loader, X_gtext, Y_gtext = (\n",
    "    dm.X_train,\n",
    "    dm.Y_train,\n",
    "    dm.train_dataloader(),\n",
    "    dm.X_test,\n",
    "    dm.Y_test,\n",
    "    dm.test_dataloader(),\n",
    "    dm.X_gtext,\n",
    "    dm.Y_gtext,\n",
    ")"
   ]
  },
  {
   "cell_type": "code",
   "execution_count": null,
   "id": "f9118744",
   "metadata": {},
   "outputs": [],
   "source": [
    "fig = plot_toy_regression_data(X_train, Y_train, X_test, Y_test)"
   ]
  },
  {
   "cell_type": "markdown",
   "id": "0666af25",
   "metadata": {},
   "source": [
    "## Model\n",
    "\n",
    "For our Toy Regression problem, we will use a simple Multi-layer Perceptron (MLP) that you can configure to your needs. For the documentation of the MLP see [here](https://readthedocs.io/en/stable/api/models.html#MLP)."
   ]
  },
  {
   "cell_type": "code",
   "execution_count": null,
   "id": "30acf463",
   "metadata": {},
   "outputs": [],
   "source": [
    "feature_extractor = MLP(\n",
    "    n_inputs=1, n_outputs=10, n_hidden=[80], activation_fn=torch.nn.ReLU()\n",
    ")\n",
    "feature_extractor"
   ]
  },
  {
   "cell_type": "markdown",
   "id": "4b267cbf",
   "metadata": {},
   "source": [
    "With an underlying neural network, we can now use our desired UQ-Method as a sort of wrapper. All UQ-Methods are implemented as [LightningModule](https://lightning.ai/docs/pytorch/stable/common/lightning_module.html) that allow us to concisely organize the code and remove as much boilerplate code as possible."
   ]
  },
  {
   "cell_type": "code",
   "execution_count": null,
   "id": "c33f15bb",
   "metadata": {},
   "outputs": [],
   "source": [
    "dkl_model = DKLRegression(\n",
    "    feature_extractor=feature_extractor,\n",
    "    gp_kernel=\"RBF\",\n",
    "    optimizer=partial(torch.optim.Adam, lr=1e-3),\n",
    "    n_inducing_points=40,\n",
    ")"
   ]
  },
  {
   "cell_type": "markdown",
   "id": "441e1991",
   "metadata": {},
   "source": [
    "## Trainer\n",
    "\n",
    "Now that we have a LightningDataModule and a UQ-Method as a LightningModule, we can conduct training with a [Lightning Trainer](https://lightning.ai/docs/pytorch/stable/common/trainer.html). It has tons of options to make your life easier, so we encourage you to check the documentation."
   ]
  },
  {
   "cell_type": "code",
   "execution_count": null,
   "id": "cddb9418",
   "metadata": {},
   "outputs": [],
   "source": [
    "logger = CSVLogger(my_temp_dir)\n",
    "trainer = Trainer(\n",
    "    max_epochs=1000,  # number of epochs we want to train\n",
    "    logger=logger,  # log training metrics for later evaluation\n",
    "    log_every_n_steps=1,\n",
    "    enable_checkpointing=False,\n",
    "    enable_progress_bar=False,\n",
    "    default_root_dir=my_temp_dir,\n",
    ")"
   ]
  },
  {
   "cell_type": "markdown",
   "id": "eaf63cf7",
   "metadata": {},
   "source": [
    "Training our model is now easy:"
   ]
  },
  {
   "cell_type": "code",
   "execution_count": null,
   "id": "cf80868a",
   "metadata": {},
   "outputs": [],
   "source": [
    "trainer.fit(dkl_model, dm)"
   ]
  },
  {
   "cell_type": "markdown",
   "id": "dc418a92",
   "metadata": {},
   "source": [
    "## Training Metrics\n",
    "\n",
    "To get some insights into how the training went, we can use the utility function to plot the training loss and RMSE metric."
   ]
  },
  {
   "cell_type": "code",
   "execution_count": null,
   "id": "76f911ad",
   "metadata": {},
   "outputs": [],
   "source": [
    "fig = plot_training_metrics(\n",
    "    os.path.join(my_temp_dir, \"lightning_logs\"), [\"train_loss\", \"trainRMSE\"]\n",
    ")"
   ]
  },
  {
   "cell_type": "markdown",
   "id": "535de21b",
   "metadata": {},
   "source": [
    "## Evaluate Predictions\n",
    "\n",
    "The constructed Data Module contains two possible test variable. `X_test` are IID samples from the same noise distribution as the training data, while `X_gtext` (\"X ground truth extended\") are dense inputs from the underlying \"ground truth\" function without any noise that also extends the input range to either side, so we can visualize the method's UQ tendencies when extrapolating beyond the training data range. Thus, we will use `X_gtext` for visualization purposes, but use `X_test` to compute uncertainty and calibration metrics because we want to analyse how well the method has learned the noisy data distribution.\n"
   ]
  },
  {
   "cell_type": "code",
   "execution_count": null,
   "id": "42057da5",
   "metadata": {},
   "outputs": [],
   "source": [
    "preds = dkl_model.predict_step(X_gtext)\n",
    "\n",
    "fig = plot_predictions_regression(\n",
    "    X_train,\n",
    "    Y_train,\n",
    "    X_gtext,\n",
    "    Y_gtext,\n",
    "    preds[\"pred\"],\n",
    "    preds[\"pred_uct\"],\n",
    "    epistemic=preds[\"epistemic_uct\"],\n",
    "    title=\"Deep Kernel Learning\",\n",
    "    show_bands=False,\n",
    ")"
   ]
  },
  {
   "cell_type": "markdown",
   "id": "8f6844a6",
   "metadata": {},
   "source": [
    "For some additional metrics relevant to UQ, we can use the great [uncertainty-toolbox](https://uncertainty-toolbox.github.io/) that gives us some insight into the calibration of our prediction."
   ]
  },
  {
   "cell_type": "code",
   "execution_count": null,
   "id": "44a290d1",
   "metadata": {},
   "outputs": [],
   "source": [
    "preds = dkl_model.predict_step(X_test)\n",
    "fig = plot_calibration_uq_toolbox(\n",
    "    preds[\"pred\"].numpy(),\n",
    "    preds[\"pred_uct\"].numpy(),\n",
    "    Y_test.cpu().numpy(),\n",
    "    X_test.cpu().numpy(),\n",
    ")"
   ]
  },
  {
   "cell_type": "markdown",
   "id": "5a00622e",
   "metadata": {},
   "source": []
  }
 ],
 "metadata": {
  "kernelspec": {
   "display_name": "uqboxEnv",
   "language": "python",
   "name": "python3"
  },
  "language_info": {
   "codemirror_mode": {
    "name": "ipython",
    "version": 3
   },
   "file_extension": ".py",
   "mimetype": "text/x-python",
   "name": "python",
   "nbconvert_exporter": "python",
   "pygments_lexer": "ipython3",
   "version": "3.9.12"
  }
 },
 "nbformat": 4,
 "nbformat_minor": 5
}
