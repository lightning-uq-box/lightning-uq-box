{
 "cells": [
  {
   "cell_type": "markdown",
   "id": "29a6952d",
   "metadata": {},
   "source": [
    "# Bayesian Neural Network with Variational Inference and Energy Loss"
   ]
  },
  {
   "cell_type": "markdown",
   "id": "b5cd8a16",
   "metadata": {},
   "source": [
    "## Theoretic Foundation\n",
    "\n",
    "BNN with VI and the energy loss is a simplicifcation extend BNNs with LVs. The BNN+LV model is proposed in [Depeweg, 2018](http://proceedings.mlr.press/v80/depeweg18a/depeweg18a.pdf) and this simplification follows by omitting the latent variables.\n",
    "\n",
    "The likelihood is given by\n",
    "$$\n",
    "p(Y |\\theta ,X) =\n",
    "\\prod_{i=1}^K p(y_i|\\theta,z_i,x_i) =\n",
    "\\prod_{i=1}^K \\mathcal{N}(y_{i} | f_{\\theta}(x_i), \\Sigma).\n",
    "$$\n",
    "\n",
    "The prior on the weights is obtained as for BNNs with VI and is given by,\n",
    "\n",
    "$$\n",
    "    p(\\theta) = \\prod_{l=1}^L \\prod_{h=1}^{V_l }\\prod_{j=1}^{V_{l-1}+1} \\mathcal{N}(w_{hj, l} \\vert 0, \\lambda)\n",
    "$$\n",
    "\n",
    "where $w_{hj, l}$ is the h-th row and the j-th column of weight matrix $\\theta_L$ at layer index $L$ and $\\lambda$ is the prior variance. Note that as we use partially stochastic networks, the above may contain less factors $\\mathcal{N}(w_{hj, l} \\vert 0, \\lambda)$ depending on how many layers are stochastic.\n",
    "\n",
    "Then, with the assumed likelihood function and prior, a posterior over the\n",
    "weights $\\theta$ is obtained via Bayes' rule:\n",
    "$$\n",
    "p(\\theta|\\mathcal{D}) = \\frac{p(Y|\\theta,X)\n",
    "p(\\theta)}\n",
    "{p(Y|X)}\n",
    "$$\n",
    "\n",
    "The approximate the posterior is given by\n",
    "\n",
    "$$\n",
    "q(\\theta) =  \\left[ \\prod_{l=1}^L\\! \\prod_{h=1}^{V_l}\\!  \\prod_{j=1}^{V_{l\\!-\\!1}\\!+\\!1} \\mathcal{N}(w_{hj,l}\\vert m^w_{hj,l},v^w_{hj,l})\\right].\n",
    "$$\n",
    "\n",
    "Now the parameters $m^w_{hj,l}$,$v^w_{hj,l}$ can be obtained\n",
    "by minimizing a divergence between $p(\\theta| \\mathcal{D})$. Here the following approximation of the $\\alpha$ divergence, as proposed in [Lobato, 2016](http://proceedings.mlr.press/v48/hernandez-lobatob16.pdf) and [Depeweg, 2016](https://arxiv.org/abs/1605.07127), is used,\n",
    "\n",
    "\n",
    "$$\n",
    "E_\\alpha(q) = -\\log Z_q - \\frac{1}{\\alpha} \\sum_{n=1}^N\n",
    "\\log \\mathbf{E}_{\\Theta,\\sim\\, q}\\left[ \\left( \\frac{p(\\mathbf{y}_n | \\Theta, \\mathbf{x}_n, \\mathbf{\\Sigma)}}\n",
    "{f(\\Theta)}\\right)^\\alpha \\right],\n",
    "$$\n",
    "\n",
    "where $Z_n$ is the normalising constant of the exponential form of the approximate the posterior and $f(\\Theta)$ is a function depending on the parameters of the distributions  of prior on the weights, see [Depeweg, 2016](https://arxiv.org/abs/1605.07127) for details. In order to make this optimization problem scalable, SGD is used with mini-batches, and the expectation over $q$ is approximated with an average over $K$ samples drawn from $q$.\n",
    "\n",
    "The posterior predictive distribution is given by,\n",
    "$$\n",
    "    p(y_{\\star}\\vert x_{\\star}, \\mathcal{D}) = \\int   \\mathcal{N}(y_{\\star} \\vert f_{\\theta}(x_{\\star}),  \\Sigma) p(\\theta \\vert \\mathcal{D}) d\\theta.\n",
    "$$\n",
    "\n",
    "Again, the above posterior predictive distribution is intractable in this form. So instead we use sampling from the posterior distribution of the weights. The mean prediction is then given by the mean prediction of samples and the predictive uncertainty is obtained as standard deviation of samples from the approximation to the posterior predictive distribution.\n"
   ]
  },
  {
   "cell_type": "code",
   "execution_count": null,
   "id": "4ebeac6d",
   "metadata": {},
   "outputs": [],
   "source": [
    "%%capture\n",
    "%pip install lightning-uq-box"
   ]
  },
  {
   "cell_type": "markdown",
   "id": "f09d187c",
   "metadata": {},
   "source": [
    "## Imports"
   ]
  },
  {
   "cell_type": "code",
   "execution_count": null,
   "id": "42c07ef0",
   "metadata": {},
   "outputs": [],
   "source": [
    "import os"
   ]
  },
  {
   "cell_type": "code",
   "execution_count": null,
   "id": "8262e6c9",
   "metadata": {},
   "outputs": [],
   "source": [
    "import tempfile\n",
    "from functools import partial\n",
    "\n",
    "import matplotlib.pyplot as plt\n",
    "import torch\n",
    "import torch.nn as nn\n",
    "from lightning import Trainer\n",
    "from lightning.pytorch import seed_everything\n",
    "from lightning.pytorch.loggers import CSVLogger\n",
    "\n",
    "from lightning_uq_box.datamodules import ToyHeteroscedasticDatamodule\n",
    "from lightning_uq_box.models import MLP\n",
    "from lightning_uq_box.uq_methods import BNN_VI_Regression\n",
    "from lightning_uq_box.viz_utils import (\n",
    "    plot_calibration_uq_toolbox,\n",
    "    plot_predictions_regression,\n",
    "    plot_toy_regression_data,\n",
    "    plot_training_metrics,\n",
    ")\n",
    "\n",
    "plt.rcParams[\"figure.figsize\"] = [14, 5]"
   ]
  },
  {
   "cell_type": "code",
   "execution_count": null,
   "id": "428484f0",
   "metadata": {},
   "outputs": [],
   "source": [
    "seed_everything(0)  # seed everything for reproducibility"
   ]
  },
  {
   "cell_type": "markdown",
   "id": "0ca607bc",
   "metadata": {},
   "source": [
    "We define a temporary directory to look at some training metrics and results."
   ]
  },
  {
   "cell_type": "code",
   "execution_count": null,
   "id": "fa3c69d3",
   "metadata": {},
   "outputs": [],
   "source": [
    "my_temp_dir = tempfile.mkdtemp()"
   ]
  },
  {
   "cell_type": "markdown",
   "id": "1b5a1927",
   "metadata": {},
   "source": [
    "## Datamodule\n",
    "\n",
    "To demonstrate the method, we will make use of a Toy Regression Example that is defined as a [Lightning Datamodule](https://lightning.ai/docs/pytorch/stable/data/datamodule.html). While this might seem like overkill for a small toy problem, we think it is more helpful how the individual pieces of the library fit together so you can train models on more complex tasks."
   ]
  },
  {
   "cell_type": "code",
   "execution_count": null,
   "id": "f7c2792d",
   "metadata": {},
   "outputs": [],
   "source": [
    "dm = ToyHeteroscedasticDatamodule(batch_size=50)\n",
    "\n",
    "X_train, y_train, train_loader, X_test, y_test, test_loader = (\n",
    "    dm.X_train,\n",
    "    dm.y_train,\n",
    "    dm.train_dataloader(),\n",
    "    dm.X_test,\n",
    "    dm.y_test,\n",
    "    dm.test_dataloader(),\n",
    ")"
   ]
  },
  {
   "cell_type": "code",
   "execution_count": null,
   "id": "91b209b6",
   "metadata": {},
   "outputs": [],
   "source": [
    "fig = plot_toy_regression_data(X_train, y_train, X_test, y_test)"
   ]
  },
  {
   "cell_type": "markdown",
   "id": "f74d0b09",
   "metadata": {},
   "source": [
    "## Model\n",
    "\n",
    "For our Toy Regression problem, we will use a simple Multi-layer Perceptron (MLP) that you can configure to your needs. For the documentation of the MLP see [here](https://readthedocs.io/en/stable/api/models.html#MLP)."
   ]
  },
  {
   "cell_type": "code",
   "execution_count": null,
   "id": "7e34b6e3",
   "metadata": {},
   "outputs": [],
   "source": [
    "network = MLP(n_inputs=1, n_hidden=[50, 50], n_outputs=1, activation_fn=nn.Tanh())\n",
    "network"
   ]
  },
  {
   "cell_type": "markdown",
   "id": "e6f0dec0",
   "metadata": {},
   "source": [
    "With an underlying neural network, we can now use our desired UQ-Method as a sort of wrapper. All UQ-Methods are implemented as [LightningModule](https://lightning.ai/docs/pytorch/stable/common/lightning_module.html) that allow us to concisely organize the code and remove as much boilerplate code as possible."
   ]
  },
  {
   "cell_type": "code",
   "execution_count": null,
   "id": "0c967a69",
   "metadata": {},
   "outputs": [],
   "source": [
    "bnn_vi_model = BNN_VI_Regression(\n",
    "    network,\n",
    "    optimizer=partial(torch.optim.Adam, lr=1e-2),\n",
    "    n_mc_samples_train=10,\n",
    "    n_mc_samples_test=50,\n",
    "    output_noise_scale=1.3,\n",
    "    prior_mu=0.0,\n",
    "    prior_sigma=1.0,\n",
    "    posterior_mu_init=0.0,\n",
    "    posterior_rho_init=-6.0,\n",
    "    alpha=1e-03,\n",
    "    bayesian_layer_type=\"reparameterization\",\n",
    "    stochastic_module_names=[-1],\n",
    ")"
   ]
  },
  {
   "cell_type": "markdown",
   "id": "c589036c",
   "metadata": {},
   "source": [
    "## Trainer\n",
    "\n",
    "Now that we have a LightningDataModule and a UQ-Method as a LightningModule, we can conduct training with a [Lightning Trainer](https://lightning.ai/docs/pytorch/stable/common/trainer.html). It has tons of options to make your life easier, so we encourage you to check the documentation."
   ]
  },
  {
   "cell_type": "code",
   "execution_count": null,
   "id": "ec8a314d",
   "metadata": {},
   "outputs": [],
   "source": [
    "logger = CSVLogger(my_temp_dir)\n",
    "trainer = Trainer(\n",
    "    max_epochs=200,  # number of epochs we want to train\n",
    "    logger=logger,  # log training metrics for later evaluation\n",
    "    log_every_n_steps=1,\n",
    "    enable_checkpointing=False,\n",
    "    enable_progress_bar=False,\n",
    "    limit_val_batches=0.0,  # no validation runs\n",
    "    default_root_dir=my_temp_dir,\n",
    ")"
   ]
  },
  {
   "cell_type": "markdown",
   "id": "1007eb32",
   "metadata": {},
   "source": [
    "Training our model is now easy:"
   ]
  },
  {
   "cell_type": "code",
   "execution_count": null,
   "id": "f04b88c1",
   "metadata": {},
   "outputs": [],
   "source": [
    "trainer.fit(bnn_vi_model, dm)"
   ]
  },
  {
   "cell_type": "markdown",
   "id": "8ea5351f",
   "metadata": {},
   "source": [
    "## Training Metrics\n",
    "\n",
    "To get some insights into how the training went, we can use the utility function to plot the training loss and RMSE metric."
   ]
  },
  {
   "cell_type": "code",
   "execution_count": null,
   "id": "45f8c43b",
   "metadata": {},
   "outputs": [],
   "source": [
    "fig = plot_training_metrics(\n",
    "    os.path.join(my_temp_dir, \"lightning_logs\"), [\"train_loss\", \"trainRMSE\"]\n",
    ")"
   ]
  },
  {
   "cell_type": "markdown",
   "id": "b23e1ece",
   "metadata": {},
   "source": [
    "## Prediction"
   ]
  },
  {
   "cell_type": "code",
   "execution_count": null,
   "id": "46bf39d5",
   "metadata": {},
   "outputs": [],
   "source": [
    "preds = bnn_vi_model.predict_step(X_test)"
   ]
  },
  {
   "cell_type": "markdown",
   "id": "dc09a38d",
   "metadata": {},
   "source": [
    "## Evaluate Predictions"
   ]
  },
  {
   "cell_type": "code",
   "execution_count": null,
   "id": "a3509217",
   "metadata": {},
   "outputs": [],
   "source": [
    "fig = plot_predictions_regression(\n",
    "    X_train,\n",
    "    y_train,\n",
    "    X_test,\n",
    "    y_test,\n",
    "    preds[\"pred\"],\n",
    "    preds[\"pred_uct\"],\n",
    "    epistemic=preds[\"epistemic_uct\"],\n",
    "    show_bands=False,\n",
    "    title=\"Bayesian NN with Alpha Divergence Loss\",\n",
    ")"
   ]
  },
  {
   "cell_type": "markdown",
   "id": "c0a0a2e6",
   "metadata": {},
   "source": [
    "For some additional metrics relevant to UQ, we can use the great [uncertainty-toolbox](https://uncertainty-toolbox.github.io/) that gives us some insight into the calibration of our prediction. For a discussion of why this is important, see ..."
   ]
  },
  {
   "cell_type": "code",
   "execution_count": null,
   "id": "cb7a02ae",
   "metadata": {},
   "outputs": [],
   "source": [
    "fig = plot_calibration_uq_toolbox(\n",
    "    preds[\"pred\"].cpu().numpy(),\n",
    "    preds[\"pred_uct\"].cpu().numpy(),\n",
    "    y_test.cpu().numpy(),\n",
    "    X_test.cpu().numpy(),\n",
    ")"
   ]
  }
 ],
 "metadata": {
  "kernelspec": {
   "display_name": "uqboxEnv",
   "language": "python",
   "name": "python3"
  },
  "language_info": {
   "codemirror_mode": {
    "name": "ipython",
    "version": 3
   },
   "file_extension": ".py",
   "mimetype": "text/x-python",
   "name": "python",
   "nbconvert_exporter": "python",
   "pygments_lexer": "ipython3",
   "version": "3.9.12"
  }
 },
 "nbformat": 4,
 "nbformat_minor": 5
}
