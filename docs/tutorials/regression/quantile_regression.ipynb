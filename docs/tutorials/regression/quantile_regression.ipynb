{
 "cells": [
  {
   "cell_type": "markdown",
   "id": "af97d811",
   "metadata": {},
   "source": [
    "# Quantile Regresssion"
   ]
  },
  {
   "cell_type": "code",
   "execution_count": null,
   "id": "6bf9e472",
   "metadata": {},
   "outputs": [],
   "source": [
    "%%capture\n",
    "%pip install git+https://github.com/lightning-uq-box/lightning-uq-box.git"
   ]
  },
  {
   "cell_type": "markdown",
   "id": "6385f666",
   "metadata": {},
   "source": [
    "## Theoretic Foundation\n",
    "\n",
    " The goal of Quantile Regression is to extend a standard regression model to also predict conditional quantiles that approximate the true quantiles of the data at hand. It does not make assumptions about the distribution of errors as is usually common. It is a more commonly used method in Econometrics and Time-series forecasting [Koeneker, 1978](https://www.jstor.org/stable/1913643).\n",
    "\n",
    "In the following we will describe univariate quantile regression. Any chosen conditional quantile $\\alpha \\in [0,1]$ can be defined as\n",
    "$$\n",
    "    q_\\alpha(x):=\\text{inf}\\{y \\in \\mathbb{R}: F(y \\vert X = x ) \\geq \\alpha\\},\n",
    "$$\n",
    "\n",
    "where $F(y \\vert X = x)=P(Y\\leq y\\vert X = x)$ is a strictly monotonic increasing cumulative density function.\n",
    "\n",
    " For Quantile Regression, the NN $f_{\\theta}$ parameterized by $\\theta$, is configured to output the number of quantiles that we want to predict. This means that, if we want to predict $n$ quantiles $[\\alpha_1, ... \\alpha_n]$,\n",
    "$$\n",
    "    f_{\\theta}(x_{\\star}) = (\\hat{y}_1(x^{\\star}), ...,\\hat{y}_n(x^{\\star})).\n",
    "$$\n",
    "\n",
    "The model is trained by minimizing the pinball loss function [Koeneker, 1978](https://www.jstor.org/stable/1913643), given by the following loss objective,\n",
    "\n",
    "$$\n",
    "    \\mathcal{L}_i (\\theta, (x^{\\star}, y^{\\star})) = \\max\\{ (1-\\alpha_i) (y^{\\star}-\\hat{y}_i(x^{\\star})), \\alpha (y^{\\star}-\\hat{y}_i(x^{\\star}))\\}.\n",
    "$$\n",
    "\n",
    "Here $i \\in \\{1, ...,n\\}$ denotes the number of the quantile and $100\\alpha_i $ is the percentage of the quantile for $\\alpha_i \\in [0,1)$. Note that for $\\alpha = 1/2$ one recovers the $\\ell^1$ loss.\n",
    "\n",
    "For an explanation of the pinball loss function you can checkout this [blog post](https://towardsdatascience.com/probabilistic-forecasts-pinball-loss-function-baf86a5a14d0).\n",
    "\n",
    "During inference, the model will output an estimate for your chosen quantiles and these can be used as an indication of aleatoric uncertainty.\n"
   ]
  },
  {
   "cell_type": "markdown",
   "id": "b3aaba3a",
   "metadata": {},
   "source": [
    "## Imports"
   ]
  },
  {
   "cell_type": "code",
   "execution_count": null,
   "id": "cc61e5fc",
   "metadata": {},
   "outputs": [],
   "source": [
    "import os\n",
    "import tempfile\n",
    "from functools import partial\n",
    "\n",
    "import matplotlib.pyplot as plt\n",
    "import numpy as np\n",
    "import torch\n",
    "import torch.nn as nn\n",
    "from lightning import Trainer\n",
    "from lightning.pytorch import seed_everything\n",
    "from lightning.pytorch.loggers import CSVLogger\n",
    "\n",
    "from lightning_uq_box.datamodules import ToyHeteroscedasticDatamodule\n",
    "from lightning_uq_box.models import MLP\n",
    "from lightning_uq_box.uq_methods import QuantileRegression\n",
    "from lightning_uq_box.viz_utils import (\n",
    "    plot_calibration_uq_toolbox,\n",
    "    plot_predictions_regression,\n",
    "    plot_toy_regression_data,\n",
    "    plot_training_metrics,\n",
    ")\n",
    "\n",
    "plt.rcParams[\"figure.figsize\"] = [14, 5]"
   ]
  },
  {
   "cell_type": "code",
   "execution_count": null,
   "id": "120ee6f9",
   "metadata": {},
   "outputs": [],
   "source": [
    "seed_everything(0)  # seed everything for reproducibility"
   ]
  },
  {
   "cell_type": "markdown",
   "id": "ad0140e6",
   "metadata": {},
   "source": [
    "We define a temporary directory to look at some training metrics and results."
   ]
  },
  {
   "cell_type": "code",
   "execution_count": null,
   "id": "69c3d4a1",
   "metadata": {},
   "outputs": [],
   "source": [
    "my_temp_dir = tempfile.mkdtemp()"
   ]
  },
  {
   "cell_type": "markdown",
   "id": "d006f9b3",
   "metadata": {},
   "source": [
    "## Datamodule\n",
    "\n",
    "To demonstrate the method, we will make use of a Toy Regression Example that is defined as a [Lightning Datamodule](https://lightning.ai/docs/pytorch/stable/data/datamodule.html). While this might seem like overkill for a small toy problem, we think it is more helpful how the individual pieces of the library fit together so you can train models on more complex tasks."
   ]
  },
  {
   "cell_type": "code",
   "execution_count": null,
   "id": "049fc08f",
   "metadata": {},
   "outputs": [],
   "source": [
    "dm = ToyHeteroscedasticDatamodule()\n",
    "\n",
    "X_train, Y_train, train_loader, X_test, Y_test, test_loader, X_gtext, Y_gtext = (\n",
    "    dm.X_train,\n",
    "    dm.Y_train,\n",
    "    dm.train_dataloader(),\n",
    "    dm.X_test,\n",
    "    dm.Y_test,\n",
    "    dm.test_dataloader(),\n",
    "    dm.X_gtext,\n",
    "    dm.Y_gtext,\n",
    ")"
   ]
  },
  {
   "cell_type": "code",
   "execution_count": null,
   "id": "166ece88",
   "metadata": {},
   "outputs": [],
   "source": [
    "fig = plot_toy_regression_data(X_train, Y_train, X_test, Y_test)"
   ]
  },
  {
   "cell_type": "markdown",
   "id": "5f473ecd",
   "metadata": {},
   "source": [
    "## Model\n",
    "\n",
    "For our Toy Regression problem, we will use a simple Multi-layer Perceptron (MLP) that you can configure to your needs. For the documentation of the MLP see [here](https://readthedocs.io/en/stable/api/models.html#MLP). For quantile regression we need a network output for each of the quantiles that we want to predict."
   ]
  },
  {
   "cell_type": "code",
   "execution_count": null,
   "id": "36d693c2",
   "metadata": {},
   "outputs": [],
   "source": [
    "quantiles = [0.1, 0.5, 0.9]\n",
    "network = MLP(\n",
    "    n_inputs=1, n_hidden=[50, 50, 50], n_outputs=len(quantiles), activation_fn=nn.Tanh()\n",
    ")\n",
    "network"
   ]
  },
  {
   "cell_type": "markdown",
   "id": "546abf5c",
   "metadata": {},
   "source": [
    "With an underlying neural network, we can now use our desired UQ-Method as a sort of wrapper. All UQ-Methods are implemented as [LightningModule](https://lightning.ai/docs/pytorch/stable/common/lightning_module.html) that allow us to concisely organize the code and remove as much boilerplate code as possible."
   ]
  },
  {
   "cell_type": "code",
   "execution_count": null,
   "id": "f689e5ab",
   "metadata": {},
   "outputs": [],
   "source": [
    "qr_model = QuantileRegression(\n",
    "    model=network, optimizer=partial(torch.optim.Adam, lr=4e-3), quantiles=quantiles\n",
    ")"
   ]
  },
  {
   "cell_type": "markdown",
   "id": "72832d6a",
   "metadata": {},
   "source": [
    "## Trainer\n",
    "\n",
    "Now that we have a LightningDataModule and a UQ-Method as a LightningModule, we can conduct training with a [Lightning Trainer](https://lightning.ai/docs/pytorch/stable/common/trainer.html). It has tons of options to make your life easier, so we encourage you to check the documentation."
   ]
  },
  {
   "cell_type": "code",
   "execution_count": null,
   "id": "f45888df",
   "metadata": {},
   "outputs": [],
   "source": [
    "logger = CSVLogger(my_temp_dir)\n",
    "trainer = Trainer(\n",
    "    max_epochs=250,  # number of epochs we want to train\n",
    "    logger=logger,  # log training metrics for later evaluation\n",
    "    log_every_n_steps=1,\n",
    "    enable_checkpointing=False,\n",
    "    enable_progress_bar=False,\n",
    "    default_root_dir=my_temp_dir,\n",
    ")"
   ]
  },
  {
   "cell_type": "markdown",
   "id": "8f64210e",
   "metadata": {},
   "source": [
    "Training our model is now easy:"
   ]
  },
  {
   "cell_type": "code",
   "execution_count": null,
   "id": "6d087d56",
   "metadata": {},
   "outputs": [],
   "source": [
    "trainer.fit(qr_model, dm)"
   ]
  },
  {
   "cell_type": "markdown",
   "id": "cb5f0d0f",
   "metadata": {},
   "source": [
    "## Training Metrics\n",
    "\n",
    "To get some insights into how the training went, we can use the utility function to plot the training loss and RMSE metric."
   ]
  },
  {
   "cell_type": "code",
   "execution_count": null,
   "id": "9ed74589",
   "metadata": {},
   "outputs": [],
   "source": [
    "fig = plot_training_metrics(\n",
    "    os.path.join(my_temp_dir, \"lightning_logs\"), [\"train_loss\", \"trainRMSE\"]\n",
    ")"
   ]
  },
  {
   "cell_type": "markdown",
   "id": "1582a604",
   "metadata": {},
   "source": [
    "## Evaluate Predictions\n",
    "\n",
    "The constructed Data Module contains two possible test variable. `X_test` are IID samples from the same noise distribution as the training data, while `X_gtext` (\"X ground truth extended\") are dense inputs from the underlying \"ground truth\" function without any noise that also extends the input range to either side, so we can visualize the method's UQ tendencies when extrapolating beyond the training data range. Thus, we will use `X_gtext` for visualization purposes, but use `X_test` to compute uncertainty and calibration metrics because we want to analyse how well the method has learned the noisy data distribution."
   ]
  },
  {
   "cell_type": "code",
   "execution_count": null,
   "id": "c9a0be43",
   "metadata": {},
   "outputs": [],
   "source": [
    "preds = qr_model.predict_step(X_gtext)\n",
    "\n",
    "fig = plot_predictions_regression(\n",
    "    X_train,\n",
    "    Y_train,\n",
    "    X_gtext,\n",
    "    Y_gtext,\n",
    "    preds[\"pred\"],\n",
    "    pred_quantiles=np.stack(\n",
    "        [\n",
    "            preds[\"lower_quant\"],\n",
    "            preds[\"pred\"].squeeze().cpu().numpy(),\n",
    "            preds[\"upper_quant\"],\n",
    "        ],\n",
    "        axis=-1,\n",
    "    ),\n",
    "    aleatoric=preds[\"aleatoric_uct\"],\n",
    "    title=\"Quantile Regression\",\n",
    ")"
   ]
  },
  {
   "cell_type": "markdown",
   "id": "4a696e20",
   "metadata": {},
   "source": [
    "For some additional metrics relevant to UQ, we can use the great [uncertainty-toolbox](https://uncertainty-toolbox.github.io/) that gives us some insight into the calibration of our prediction."
   ]
  },
  {
   "cell_type": "code",
   "execution_count": null,
   "id": "b4f5b2a8",
   "metadata": {},
   "outputs": [],
   "source": [
    "preds = qr_model.predict_step(X_test)\n",
    "fig = plot_calibration_uq_toolbox(\n",
    "    preds[\"pred\"].cpu().numpy(),\n",
    "    preds[\"pred_uct\"].numpy(),\n",
    "    Y_test.cpu().numpy(),\n",
    "    X_test.cpu().numpy(),\n",
    ")"
   ]
  }
 ],
 "metadata": {
  "kernelspec": {
   "display_name": "uqboxEnv",
   "language": "python",
   "name": "python3"
  },
  "language_info": {
   "codemirror_mode": {
    "name": "ipython",
    "version": 3
   },
   "file_extension": ".py",
   "mimetype": "text/x-python",
   "name": "python",
   "nbconvert_exporter": "python",
   "pygments_lexer": "ipython3",
   "version": "3.11.8"
  }
 },
 "nbformat": 4,
 "nbformat_minor": 5
}
