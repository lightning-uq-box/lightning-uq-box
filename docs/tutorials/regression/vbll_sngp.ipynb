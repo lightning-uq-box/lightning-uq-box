{
 "cells": [
  {
   "cell_type": "markdown",
   "metadata": {},
   "source": [
    "# Variational Bayesian Last Layer (VBLL) with SNGP Regression"
   ]
  },
  {
   "cell_type": "code",
   "execution_count": null,
   "metadata": {},
   "outputs": [],
   "source": [
    "%pip install lightning-uq-box\n",
    "%pip install vbll"
   ]
  },
  {
   "cell_type": "code",
   "execution_count": null,
   "metadata": {},
   "outputs": [],
   "source": [
    "import os\n",
    "import tempfile\n",
    "from functools import partial\n",
    "\n",
    "import torch\n",
    "import torch.nn as nn\n",
    "from lightning import Trainer\n",
    "from lightning.pytorch import seed_everything\n",
    "from lightning.pytorch.loggers import CSVLogger\n",
    "\n",
    "from lightning_uq_box.datamodules import ToyHeteroscedasticDatamodule\n",
    "from lightning_uq_box.models.fc_resnet import FCResNet\n",
    "from lightning_uq_box.uq_methods import VBLLRegression\n",
    "from lightning_uq_box.uq_methods.sngp import RandomFourierFeatures\n",
    "from lightning_uq_box.uq_methods.spectral_normalized_layers import (\n",
    "    collect_input_sizes,\n",
    "    spectral_normalize_model_layers,\n",
    ")\n",
    "from lightning_uq_box.viz_utils import (\n",
    "    plot_predictions_regression,\n",
    "    plot_toy_regression_data,\n",
    "    plot_training_metrics,\n",
    ")\n",
    "\n",
    "%load_ext autoreload\n",
    "%autoreload 2"
   ]
  },
  {
   "cell_type": "code",
   "execution_count": null,
   "metadata": {},
   "outputs": [],
   "source": [
    "# temporary directory for saving\n",
    "my_temp_dir = tempfile.mkdtemp()\n",
    "\n",
    "seed_everything(42)"
   ]
  },
  {
   "cell_type": "markdown",
   "metadata": {},
   "source": [
    "## Datamodule"
   ]
  },
  {
   "cell_type": "code",
   "execution_count": null,
   "metadata": {},
   "outputs": [],
   "source": [
    "# datamodule = ToyDUE(batch_size=32, n_samples=128, normalize=True)\n",
    "datamodule = ToyHeteroscedasticDatamodule(batch_size=64)\n",
    "datamodule.__dict__.keys()\n",
    "X_train, y_train, X_test, y_test, train_loader, test_loader = (\n",
    "    datamodule.X_train,\n",
    "    datamodule.y_train,\n",
    "    datamodule.X_test,\n",
    "    datamodule.y_test,\n",
    "    datamodule.train_dataloader(),\n",
    "    datamodule.val_dataloader(),\n",
    ")"
   ]
  },
  {
   "cell_type": "code",
   "execution_count": null,
   "metadata": {},
   "outputs": [],
   "source": [
    "fig = plot_toy_regression_data(X_train, y_train, X_test, y_test)"
   ]
  },
  {
   "cell_type": "markdown",
   "metadata": {},
   "source": [
    "## Model"
   ]
  },
  {
   "cell_type": "code",
   "execution_count": null,
   "metadata": {},
   "outputs": [],
   "source": [
    "# todo should be spectral normalized\n",
    "feature_extractor = FCResNet(\n",
    "    input_dim=1,\n",
    "    features=64,\n",
    "    depth=4,\n",
    "    num_outputs=64,\n",
    "    dropout_rate=0.0,\n",
    "    activation=\"elu\",\n",
    ")\n",
    "input_dims = collect_input_sizes(feature_extractor, 1)\n",
    "feature_extractor = spectral_normalize_model_layers(\n",
    "    feature_extractor, input_dimensions=input_dims, n_power_iterations=1\n",
    ")\n",
    "\n",
    "# todo be able to get\n",
    "rff_features = RandomFourierFeatures(in_dim=64, num_random_features=128)\n",
    "\n",
    "model = nn.Sequential(feature_extractor, rff_features)"
   ]
  },
  {
   "cell_type": "code",
   "execution_count": null,
   "metadata": {},
   "outputs": [],
   "source": [
    "vbll_model = VBLLRegression(\n",
    "    model=model,\n",
    "    replace_ll=False,  # instead append the VBLL layer\n",
    "    regularization_weight=(1 / X_train.shape[0]) * 2,\n",
    "    optimizer=partial(torch.optim.Adam, lr=4e-3),\n",
    "    num_targets=1,\n",
    "    prior_scale=1.0,\n",
    "    wishart_scale=0.1,\n",
    ")"
   ]
  },
  {
   "cell_type": "markdown",
   "metadata": {},
   "source": [
    "## Trainer"
   ]
  },
  {
   "cell_type": "code",
   "execution_count": null,
   "metadata": {},
   "outputs": [],
   "source": [
    "logger = CSVLogger(my_temp_dir)\n",
    "trainer = Trainer(\n",
    "    max_epochs=400,  # number of epochs we want to train\n",
    "    logger=logger,  # log training metrics for later evaluation\n",
    "    log_every_n_steps=1,\n",
    "    enable_checkpointing=False,\n",
    "    enable_progress_bar=True,\n",
    "    default_root_dir=my_temp_dir,\n",
    "    gradient_clip_val=1.0,\n",
    ")"
   ]
  },
  {
   "cell_type": "code",
   "execution_count": null,
   "metadata": {},
   "outputs": [],
   "source": [
    "trainer.fit(vbll_model, datamodule)"
   ]
  },
  {
   "cell_type": "code",
   "execution_count": null,
   "metadata": {},
   "outputs": [],
   "source": [
    "fig = plot_training_metrics(\n",
    "    os.path.join(my_temp_dir, \"lightning_logs\"), [\"train_loss\", \"trainRMSE\"]\n",
    ")"
   ]
  },
  {
   "cell_type": "markdown",
   "metadata": {},
   "source": [
    "## Prediction"
   ]
  },
  {
   "cell_type": "code",
   "execution_count": null,
   "metadata": {},
   "outputs": [],
   "source": [
    "preds = vbll_model.predict_step(X_test)"
   ]
  },
  {
   "cell_type": "code",
   "execution_count": null,
   "metadata": {},
   "outputs": [],
   "source": [
    "fig = plot_predictions_regression(\n",
    "    X_train,\n",
    "    y_train,\n",
    "    X_test,\n",
    "    y_test,\n",
    "    preds[\"pred\"],\n",
    "    preds[\"pred_uct\"].squeeze(-1),\n",
    "    epistemic=preds[\"pred_uct\"].squeeze(-1),\n",
    "    title=\"VBLL Regression with SNGP Feature Extractor\",\n",
    "    show_bands=False,\n",
    ")"
   ]
  },
  {
   "cell_type": "code",
   "execution_count": null,
   "metadata": {},
   "outputs": [],
   "source": []
  }
 ],
 "metadata": {
  "kernelspec": {
   "display_name": "uqboxEnv",
   "language": "python",
   "name": "python3"
  },
  "language_info": {
   "codemirror_mode": {
    "name": "ipython",
    "version": 3
   },
   "file_extension": ".py",
   "mimetype": "text/x-python",
   "name": "python",
   "nbconvert_exporter": "python",
   "pygments_lexer": "ipython3",
   "version": "3.11.8"
  }
 },
 "nbformat": 4,
 "nbformat_minor": 2
}
