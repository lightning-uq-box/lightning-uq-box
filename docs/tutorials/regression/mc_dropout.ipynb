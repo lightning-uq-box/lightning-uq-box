{
 "cells": [
  {
   "cell_type": "markdown",
   "id": "26deb010",
   "metadata": {},
   "source": [
    "# MC-Dropout"
   ]
  },
  {
   "cell_type": "code",
   "execution_count": null,
   "id": "db348ed8",
   "metadata": {},
   "outputs": [],
   "source": [
    "%%capture\n",
    "%pip install lightning-uq-box"
   ]
  },
  {
   "cell_type": "markdown",
   "id": "9232569d",
   "metadata": {},
   "source": [
    "## Theoretic Foundation\n",
    "\n",
    "MC-Dropout is an approximate Bayesian method with sampling. A fixed dropout rate $p \\in [0,1)$ is used, meaning that random weights are set to zero during each forward pass with the probability $p$. This models the network weights and biases as a Bernoulli distribution with dropout probability $p$. While commonly used as a regularization method, [Gal, 2016](http://proceedings.mlr.press/v48/gal16.pdf) showed that activating dropout during inference over multiple forward passes yields an approximation to the posterior over the network weights. Due to its simplicity it is widely adopted in practical applications, but MC-Dropout and variants thereof have also been criticized for their theoretical shortcomings [Hron, 2017](https://arxiv.org/pdf/1711.02989.pdf?source=post_page---------------------------) and [Osband, 2016](http://bayesiandeeplearning.org/2016/papers/BDL_4.pdf).\n",
    "\n",
    "For the MC Dropout model the prediction consists of a predictive mean and a predictive uncertainty. For the predictive mean, the mean is taken over $m \\in \\mathbb{N}$ forward passes through the network $f_{p,\\theta}$ with a fixed dropout rate $p$, resulting in different weights $\\{\\theta_i\\}_{i=1}^m$, given by\n",
    "\n",
    "$$\n",
    "     f_p(x^{\\star}) = \\frac{1}{m} \\sum_{i=1}^m  f_{p,\\theta_i}(x^{\\star}).\n",
    "$$\n",
    "\n",
    "The predictive uncertainty is given by the standard deviation of the predictions over $m$ forward passes,\n",
    "\n",
    "$$\n",
    "    \\sigma_p(x^{\\star}) = \\sqrt{\\frac{1}{m} \\sum_{i=1}^m  \\left(f_{p,\\theta_i}(x^{\\star})-  f_p(x^{\\star}) \\right)^2}.\n",
    "$$\n",
    "\n",
    "Note that in [Kendall, 2017](https://proceedings.neurips.cc/paper/2017/file/2650d6089a6d640c5e85b2b88265dc2b-Paper.pdf) the approach is extended to include aleatoric uncertainty. We also consider combining this method with the previous model Gaussian network, as in [Kendall, 2017](https://proceedings.neurips.cc/paper/2017/file/2650d6089a6d640c5e85b2b88265dc2b-Paper.pdf), aiming at disentangling the data and model uncertainties, abbreviated as MC Dropout GMM. For the MC Dropout GMM model,  the prediction again consists of a predictive mean and a predictive uncertainty $f_{p,\\theta}(x^{\\star}) = (\\mu_{p,\\theta}(x^{\\star}), \\sigma_{p,\\theta}(x^{\\star}))$. Here the predictive mean is given by the mean taken over $m$ forward passes through the Gaussian network mean predictions $\\mu_{p,\\theta}$ with a fixed dropout rate $p$, resulting in different weights $\\{\\theta_i\\}_{i=1}^m$, given by\n",
    "\n",
    "$$\n",
    "     \\mu_p(x^{\\star}) = \\frac{1}{m} \\sum_{i=1}^m  \\mu_{p,\\theta_i}(x^{\\star}).\n",
    "$$\n",
    "\n",
    "The predictive uncertainty is given by the standard deviation of the Gaussian mixture model obtained by the predictions over $m$ forward passes,\n",
    "\n",
    "$$\n",
    "    \\sigma_p(x^{\\star}) = \\sqrt{\\frac{1}{m} \\sum_{i=1}^m  \\left(\\mu_{p,\\theta_i}(x^{\\star})-  \\mu_p(x^{\\star}) \\right)^2 + \\frac{1}{m}  \\sum_{i=1}^m \\sigma_{p,\\theta_i}^2(x^\\star)}.\n",
    "$$"
   ]
  },
  {
   "cell_type": "markdown",
   "id": "de68e624",
   "metadata": {},
   "source": [
    "## Imports"
   ]
  },
  {
   "cell_type": "code",
   "execution_count": null,
   "id": "13311aed",
   "metadata": {},
   "outputs": [],
   "source": [
    "import os\n",
    "import tempfile\n",
    "from functools import partial\n",
    "\n",
    "import matplotlib.pyplot as plt\n",
    "import torch.nn as nn\n",
    "from lightning import Trainer\n",
    "from lightning.pytorch import seed_everything\n",
    "from lightning.pytorch.loggers import CSVLogger\n",
    "from torch.optim import Adam\n",
    "\n",
    "from lightning_uq_box.datamodules import ToyHeteroscedasticDatamodule\n",
    "from lightning_uq_box.models import MLP\n",
    "from lightning_uq_box.uq_methods import NLL, MCDropoutRegression\n",
    "from lightning_uq_box.viz_utils import (\n",
    "    plot_calibration_uq_toolbox,\n",
    "    plot_predictions_regression,\n",
    "    plot_toy_regression_data,\n",
    "    plot_training_metrics,\n",
    ")\n",
    "\n",
    "plt.rcParams[\"figure.figsize\"] = [14, 5]"
   ]
  },
  {
   "cell_type": "code",
   "execution_count": null,
   "id": "709f3fb4",
   "metadata": {},
   "outputs": [],
   "source": [
    "seed_everything(0)  # seed everything for reproducibility"
   ]
  },
  {
   "cell_type": "markdown",
   "id": "5491fe3a",
   "metadata": {},
   "source": [
    "We define a temporary directory to look at some training metrics and results."
   ]
  },
  {
   "cell_type": "code",
   "execution_count": null,
   "id": "448b8fd8",
   "metadata": {},
   "outputs": [],
   "source": [
    "my_temp_dir = tempfile.mkdtemp()"
   ]
  },
  {
   "cell_type": "markdown",
   "id": "0bcad0d5",
   "metadata": {},
   "source": [
    "## Datamodule\n",
    "\n",
    "To demonstrate the method, we will make use of a Toy Regression Example that is defined as a [Lightning Datamodule](https://lightning.ai/docs/pytorch/stable/data/datamodule.html). While this might seem like overkill for a small toy problem, we think it is more helpful how the individual pieces of the library fit together so you can train models on more complex tasks."
   ]
  },
  {
   "cell_type": "code",
   "execution_count": null,
   "id": "51e7a8a5",
   "metadata": {},
   "outputs": [],
   "source": [
    "dm = ToyHeteroscedasticDatamodule()\n",
    "\n",
    "X_train, y_train, train_loader, X_test, y_test, test_loader = (\n",
    "    dm.X_train,\n",
    "    dm.y_train,\n",
    "    dm.train_dataloader(),\n",
    "    dm.X_test,\n",
    "    dm.y_test,\n",
    "    dm.test_dataloader(),\n",
    ")"
   ]
  },
  {
   "cell_type": "code",
   "execution_count": null,
   "id": "9600fc49",
   "metadata": {},
   "outputs": [],
   "source": [
    "fig = plot_toy_regression_data(X_train, y_train, X_test, y_test)"
   ]
  },
  {
   "cell_type": "markdown",
   "id": "2e89bd89",
   "metadata": {},
   "source": [
    "## Model\n",
    "\n",
    "For our Toy Regression problem, we will use a simple Multi-layer Perceptron (MLP) that you can configure to your needs. For the documentation of the MLP see [here](https://readthedocs.io/en/stable/api/models.html#MLP)."
   ]
  },
  {
   "cell_type": "code",
   "execution_count": null,
   "id": "09305255",
   "metadata": {},
   "outputs": [],
   "source": [
    "network = MLP(\n",
    "    n_inputs=1,\n",
    "    n_hidden=[50, 50, 50],\n",
    "    n_outputs=2,\n",
    "    dropout_p=0.1,\n",
    "    activation_fn=nn.Tanh(),\n",
    ")\n",
    "network"
   ]
  },
  {
   "cell_type": "markdown",
   "id": "b790690c",
   "metadata": {},
   "source": [
    "With an underlying neural network, we can now use our desired UQ-Method as a sort of wrapper. All UQ-Methods are implemented as [LightningModule](https://lightning.ai/docs/pytorch/stable/common/lightning_module.html) that allow us to concisely organize the code and remove as much boilerplate code as possible."
   ]
  },
  {
   "cell_type": "code",
   "execution_count": null,
   "id": "5bc87b36",
   "metadata": {},
   "outputs": [],
   "source": [
    "mc_dropout_module = MCDropoutRegression(\n",
    "    model=network,\n",
    "    optimizer=partial(Adam, lr=1e-2),\n",
    "    loss_fn=NLL(),\n",
    "    num_mc_samples=25,\n",
    "    burnin_epochs=50,\n",
    ")"
   ]
  },
  {
   "cell_type": "markdown",
   "id": "692b6839",
   "metadata": {},
   "source": [
    "## Trainer\n",
    "\n",
    "Now that we have a LightningDataModule and a UQ-Method as a LightningModule, we can conduct training with a [Lightning Trainer](https://lightning.ai/docs/pytorch/stable/common/trainer.html). It has tons of options to make your life easier, so we encourage you to check the documentation."
   ]
  },
  {
   "cell_type": "code",
   "execution_count": null,
   "id": "e1914ec0",
   "metadata": {},
   "outputs": [],
   "source": [
    "logger = CSVLogger(my_temp_dir)\n",
    "trainer = Trainer(\n",
    "    max_epochs=300,  # number of epochs we want to train\n",
    "    logger=logger,  # log training metrics for later evaluation\n",
    "    log_every_n_steps=1,\n",
    "    enable_checkpointing=False,\n",
    "    enable_progress_bar=False,\n",
    "    default_root_dir=my_temp_dir,\n",
    ")"
   ]
  },
  {
   "cell_type": "markdown",
   "id": "b798b9a3",
   "metadata": {},
   "source": [
    "Training our model is now easy:"
   ]
  },
  {
   "cell_type": "code",
   "execution_count": null,
   "id": "b4eb55df",
   "metadata": {},
   "outputs": [],
   "source": [
    "trainer.fit(mc_dropout_module, dm)"
   ]
  },
  {
   "cell_type": "markdown",
   "id": "adfebf08",
   "metadata": {},
   "source": [
    "## Training Metrics\n",
    "\n",
    "To get some insights into how the training went, we can use the utility function to plot the training loss and RMSE metric."
   ]
  },
  {
   "cell_type": "code",
   "execution_count": null,
   "id": "770dda62",
   "metadata": {},
   "outputs": [],
   "source": [
    "fig = plot_training_metrics(\n",
    "    os.path.join(my_temp_dir, \"lightning_logs\"), [\"train_loss\", \"trainRMSE\"]\n",
    ")"
   ]
  },
  {
   "cell_type": "markdown",
   "id": "dcfb4b8e",
   "metadata": {},
   "source": [
    "## Prediction\n",
    "\n",
    "For prediction we can either rely on the `trainer.test()` method or manually conduct a `predict_step()`. Using the trainer will save the predictions and some metrics to a CSV file, while the manual `predict_step()` with a single input tensor will generate a dictionary that holds the mean prediction as well as some other quantities of interest, for example the predicted standard deviation or quantile."
   ]
  },
  {
   "cell_type": "code",
   "execution_count": null,
   "id": "d773962d",
   "metadata": {},
   "outputs": [],
   "source": [
    "# save predictions\n",
    "trainer.test(mc_dropout_module, dm.test_dataloader())"
   ]
  },
  {
   "cell_type": "code",
   "execution_count": null,
   "id": "d115d444",
   "metadata": {},
   "outputs": [],
   "source": [
    "preds = mc_dropout_module.predict_step(X_test)\n",
    "preds.keys()"
   ]
  },
  {
   "cell_type": "markdown",
   "id": "9bbc4c61",
   "metadata": {},
   "source": [
    "## Evaluate Predictions"
   ]
  },
  {
   "cell_type": "code",
   "execution_count": null,
   "id": "0ae0d9bb",
   "metadata": {},
   "outputs": [],
   "source": [
    "fig = plot_predictions_regression(\n",
    "    X_train,\n",
    "    y_train,\n",
    "    X_test,\n",
    "    y_test,\n",
    "    preds[\"pred\"],\n",
    "    preds[\"pred_uct\"],\n",
    "    epistemic=preds[\"epistemic_uct\"],\n",
    "    aleatoric=preds[\"aleatoric_uct\"],\n",
    "    title=\"MC-Dropout with NLL\",\n",
    ")"
   ]
  },
  {
   "cell_type": "markdown",
   "id": "085aa33c",
   "metadata": {},
   "source": [
    "For some additional metrics relevant to UQ, we can use the great [uncertainty-toolbox](https://uncertainty-toolbox.github.io/) that gives us some insight into the calibration of our prediction. For a discussion of why this is important, see ..."
   ]
  },
  {
   "cell_type": "code",
   "execution_count": null,
   "id": "bb15c8dc",
   "metadata": {},
   "outputs": [],
   "source": [
    "fig = plot_calibration_uq_toolbox(\n",
    "    preds[\"pred\"].cpu().numpy(),\n",
    "    preds[\"pred_uct\"].cpu().numpy(),\n",
    "    y_test.cpu().numpy(),\n",
    "    X_test.cpu().numpy(),\n",
    ")"
   ]
  },
  {
   "cell_type": "markdown",
   "id": "79208d7a",
   "metadata": {},
   "source": []
  }
 ],
 "metadata": {
  "kernelspec": {
   "display_name": "uqboxEnv",
   "language": "python",
   "name": "python3"
  },
  "language_info": {
   "codemirror_mode": {
    "name": "ipython",
    "version": 3
   },
   "file_extension": ".py",
   "mimetype": "text/x-python",
   "name": "python",
   "nbconvert_exporter": "python",
   "pygments_lexer": "ipython3",
   "version": "3.9.12"
  }
 },
 "nbformat": 4,
 "nbformat_minor": 5
}
