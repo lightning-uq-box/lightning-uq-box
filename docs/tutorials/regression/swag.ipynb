{
 "cells": [
  {
   "cell_type": "markdown",
   "id": "5a21c292",
   "metadata": {},
   "source": [
    "# Stochastic Weight Averaging - Gaussian (SWAG)"
   ]
  },
  {
   "cell_type": "code",
   "execution_count": null,
   "id": "b8b75d2a",
   "metadata": {},
   "outputs": [],
   "source": [
    "%%capture\n",
    "%pip install lightning-uq-box"
   ]
  },
  {
   "cell_type": "markdown",
   "id": "d0a8ea15",
   "metadata": {},
   "source": [
    "## Theoretic Foundation\n",
    "\n",
    "SWAG is an approximate Bayesian method and uses a low-rank Gaussian distribution as an approximation to the posterior over model parameters. The quality of approximation to the posterior over model parameters is based on using a high SGD learning rate that periodically stores weight parameters in the last few epochs of training [Maddox, 2019](https://arxiv.org/abs/1902.02476). SWAG is based on Stochastic Weight Averaging (SWA), as proposed in [Izmailov, 2018](https://arxiv.org/pdf/1803.05407.pdf%20%20https://github.com/timgaripov/swa). For SWA the weights are obtained by minimising the MSE loss with a variant of stochastic gradient descent. After, a number of burn-in epochs, $\\tilde{t} = T-m$, the last $m$ weights are stored and averaged to obtain an approximation to the posterior, by\n",
    "\n",
    "$$\n",
    "    \\theta_{SWA} = \\frac{1}{m}\\sum_{t=\\tilde{t}}^T \\theta_t.\n",
    "$$\n",
    "\n",
    "For SWAG we use the implementation as proposed by [Maddox, 2019](https://arxiv.org/abs/1902.02476). Here the posterior is approximated by a Gaussian distribution with the SWA mean and a covariance matrix over the stochastic parameters that consists of a low rank matrix plus a diagonal,\n",
    "\n",
    "$$\n",
    "    p(\\theta |D) \\approxeq \\mathcal{N}\\left(\\theta_{SWA}, \\frac{1}{2}(\\Sigma_{diag}+\\Sigma_{low-rank})\\right).\n",
    "$$\n",
    "\n",
    "The diagonal part of the covariance is given by\n",
    "\n",
    "$$\n",
    "    \\Sigma_{diag} = \\text{diag}(\\bar{\\theta^2} - \\theta_{SWA}^2)\n",
    "$$\n",
    "\n",
    "where,\n",
    "\n",
    "$$\n",
    "    \\bar{\\theta^2} = \\frac{1}{m}\\sum_{t=\\tilde{t}}^T \\theta_t^2.\n",
    "$$\n",
    "\n",
    "The low rank part of the covariance is given by\n",
    "\n",
    "$$\n",
    "    \\Sigma_{low-rank} =  \\frac{1}{m}\\sum_{t=\\tilde{t}}^T (\\theta_t - \\bar{\\theta}_t) (\\theta_t - \\bar{\\theta}_t)^T,\n",
    "$$\n",
    "\n",
    "where $\\bar{\\theta}_t$ is the running estimate of the mean of the parameters from the first $t$ epochs or also samples. In order to approximate the mean prediction, we again resort to sampling from the posterior. With $\\theta_s \\sim p(\\theta|D)$ for $s \\in \\{1, ...,S\\}$, the mean prediction is given by\n",
    "\n",
    "$$\n",
    "    \\hat{y}(x^{\\star}) = \\frac{1}{S} \\sum_{s=1}^S f_{\\theta_s}(x^{\\star}),\n",
    "$$\n",
    "\n",
    "and obtain the predictive uncertainty by\n",
    "\n",
    "$$\n",
    "    \\sigma(x^{\\star}) = \\sqrt{\\frac{1}{S} \\sum_{s=1}^S f_{\\theta_s}(x^{\\star})^2 - \\hat{y}(x^{\\star})^2}.\n",
    "$$\n",
    "\n",
    "For the subnet strategy, we include selecting the parameters to be stochastic by module names.\n"
   ]
  },
  {
   "cell_type": "markdown",
   "id": "35ca879a",
   "metadata": {},
   "source": [
    "## Imports"
   ]
  },
  {
   "cell_type": "code",
   "execution_count": null,
   "id": "f15663a7",
   "metadata": {},
   "outputs": [],
   "source": [
    "import os"
   ]
  },
  {
   "cell_type": "code",
   "execution_count": null,
   "id": "606fbf63",
   "metadata": {},
   "outputs": [],
   "source": [
    "import tempfile\n",
    "from functools import partial\n",
    "\n",
    "import matplotlib.pyplot as plt\n",
    "import torch\n",
    "import torch.nn as nn\n",
    "from lightning import Trainer\n",
    "from lightning.pytorch import seed_everything\n",
    "from lightning.pytorch.loggers import CSVLogger\n",
    "\n",
    "from lightning_uq_box.datamodules import ToyHeteroscedasticDatamodule\n",
    "from lightning_uq_box.models import MLP\n",
    "from lightning_uq_box.uq_methods import NLL, MVERegression, SWAGRegression\n",
    "from lightning_uq_box.viz_utils import (\n",
    "    plot_calibration_uq_toolbox,\n",
    "    plot_predictions_regression,\n",
    "    plot_toy_regression_data,\n",
    "    plot_training_metrics,\n",
    ")\n",
    "\n",
    "plt.rcParams[\"figure.figsize\"] = [14, 5]\n",
    "\n",
    "%load_ext autoreload\n",
    "%autoreload 2"
   ]
  },
  {
   "cell_type": "code",
   "execution_count": null,
   "id": "42d076b4",
   "metadata": {},
   "outputs": [],
   "source": [
    "seed_everything(0)  # seed everything for reproducibility"
   ]
  },
  {
   "cell_type": "markdown",
   "id": "030c83ae",
   "metadata": {},
   "source": [
    "We define a temporary directory to look at some training metrics and results."
   ]
  },
  {
   "cell_type": "code",
   "execution_count": null,
   "id": "df4bdb40",
   "metadata": {},
   "outputs": [],
   "source": [
    "my_temp_dir = tempfile.mkdtemp()"
   ]
  },
  {
   "cell_type": "markdown",
   "id": "c328971f",
   "metadata": {},
   "source": [
    "## Datamodule\n",
    "\n",
    "To demonstrate the method, we will make use of a Toy Regression Example that is defined as a [Lightning Datamodule](https://lightning.ai/docs/pytorch/stable/data/datamodule.html). While this might seem like overkill for a small toy problem, we think it is more helpful how the individual pieces of the library fit together so you can train models on more complex tasks."
   ]
  },
  {
   "cell_type": "code",
   "execution_count": null,
   "id": "1680c8e9",
   "metadata": {},
   "outputs": [],
   "source": [
    "dm = ToyHeteroscedasticDatamodule()\n",
    "\n",
    "X_train, Y_train, train_loader, X_test, Y_test, test_loader, X_gtext, Y_gtext = (\n",
    "    dm.X_train,\n",
    "    dm.Y_train,\n",
    "    dm.train_dataloader(),\n",
    "    dm.X_test,\n",
    "    dm.Y_test,\n",
    "    dm.test_dataloader(),\n",
    "    dm.X_gtext,\n",
    "    dm.Y_gtext,\n",
    ")"
   ]
  },
  {
   "cell_type": "code",
   "execution_count": null,
   "id": "c1284766",
   "metadata": {},
   "outputs": [],
   "source": [
    "fig = plot_toy_regression_data(X_train, Y_train, X_test, Y_test)"
   ]
  },
  {
   "cell_type": "markdown",
   "id": "5d1db853",
   "metadata": {},
   "source": [
    "## Model\n",
    "\n",
    "For our Toy Regression problem, we will use a simple Multi-layer Perceptron (MLP) that you can configure to your needs. For the documentation of the MLP see [here](https://readthedocs.io/en/stable/api/models.html#MLP). We define a model with two outputs to train with the Negative Log Likelihood."
   ]
  },
  {
   "cell_type": "code",
   "execution_count": null,
   "id": "1570cabf",
   "metadata": {},
   "outputs": [],
   "source": [
    "network = MLP(n_inputs=1, n_hidden=[50, 50, 50], n_outputs=2, activation_fn=nn.Tanh())\n",
    "network"
   ]
  },
  {
   "cell_type": "markdown",
   "id": "7003aac6",
   "metadata": {},
   "source": [
    "With an underlying neural network, we can now use our desired UQ-Method as a sort of wrapper. All UQ-Methods are implemented as [LightningModule](https://lightning.ai/docs/pytorch/stable/common/lightning_module.html) that allow us to concisely organize the code and remove as much boilerplate code as possible. In the case of SWAG, the method is implemented as a sort of \"post-processin\" step, where you first train a model with a MAP estimate and subsequently apply SWAG to capture epistemic uncertainty over the neural network weights. Hence, we will first fit a deterministic model, in this case one that outputs the parameters of a Gaussian Distribution and train with the Negative Log Likelihood."
   ]
  },
  {
   "cell_type": "code",
   "execution_count": null,
   "id": "b72171f0",
   "metadata": {},
   "outputs": [],
   "source": [
    "deterministic_model = MVERegression(\n",
    "    network, burnin_epochs=50, optimizer=partial(torch.optim.Adam, lr=1e-3)\n",
    ")"
   ]
  },
  {
   "cell_type": "markdown",
   "id": "164bbdd4",
   "metadata": {},
   "source": [
    "## Trainer\n",
    "\n",
    "Now that we have a LightningDataModule and a UQ-Method as a LightningModule, we can conduct training with a [Lightning Trainer](https://lightning.ai/docs/pytorch/stable/common/trainer.html). It has tons of options to make your life easier, so we encourage you to check the documentation."
   ]
  },
  {
   "cell_type": "code",
   "execution_count": null,
   "id": "6a978add",
   "metadata": {},
   "outputs": [],
   "source": [
    "logger = CSVLogger(my_temp_dir)\n",
    "trainer = Trainer(\n",
    "    max_epochs=250,  # number of epochs we want to train\n",
    "    logger=logger,  # log training metrics for later evaluation\n",
    "    log_every_n_steps=1,\n",
    "    enable_checkpointing=False,\n",
    "    enable_progress_bar=False,\n",
    "    default_root_dir=my_temp_dir,\n",
    ")"
   ]
  },
  {
   "cell_type": "markdown",
   "id": "9524bb7d",
   "metadata": {},
   "source": [
    "Training our model is now easy:"
   ]
  },
  {
   "cell_type": "code",
   "execution_count": null,
   "id": "38fc9927",
   "metadata": {},
   "outputs": [],
   "source": [
    "trainer.fit(deterministic_model, dm)"
   ]
  },
  {
   "cell_type": "markdown",
   "id": "88262db8",
   "metadata": {},
   "source": [
    "## Training Metrics\n",
    "\n",
    "To get some insights into how the training went of our underlying deterministic model, we can use the utility function to plot the training loss and RMSE metric."
   ]
  },
  {
   "cell_type": "code",
   "execution_count": null,
   "id": "2aade08e",
   "metadata": {},
   "outputs": [],
   "source": [
    "fig = plot_training_metrics(\n",
    "    os.path.join(my_temp_dir, \"lightning_logs\"), [\"train_loss\", \"trainRMSE\"]\n",
    ")"
   ]
  },
  {
   "cell_type": "markdown",
   "id": "e44915c0",
   "metadata": {},
   "source": [
    "We can also make predictions with the underlying model."
   ]
  },
  {
   "cell_type": "code",
   "execution_count": null,
   "id": "d9f1df3f",
   "metadata": {},
   "outputs": [],
   "source": [
    "deterministic_preds = deterministic_model.predict_step(X_gtext)\n",
    "fig = plot_predictions_regression(\n",
    "    X_train,\n",
    "    Y_train,\n",
    "    X_gtext,\n",
    "    Y_gtext,\n",
    "    deterministic_preds[\"pred\"].squeeze(-1),\n",
    "    deterministic_preds[\"pred_uct\"].squeeze(-1),\n",
    "    aleatoric=deterministic_preds[\"aleatoric_uct\"].squeeze(-1),\n",
    "    title=\"Mean Variance Estimation Network\",\n",
    ")"
   ]
  },
  {
   "cell_type": "markdown",
   "id": "6cc682a4",
   "metadata": {},
   "source": [
    "## Apply SWAG\n",
    "\n",
    "We now have a deterministic model that can make predictions, however, we do not have any uncertainty around the network weights. SWAG is a Bayesian Approximation method to capture this uncertainty, and we will now apply it to obtain epistemic uncertainty."
   ]
  },
  {
   "cell_type": "code",
   "execution_count": null,
   "id": "10bf5833",
   "metadata": {},
   "outputs": [],
   "source": [
    "swag_model = SWAGRegression(\n",
    "    deterministic_model.model,\n",
    "    max_swag_snapshots=30,\n",
    "    snapshot_freq=1,\n",
    "    num_mc_samples=50,\n",
    "    swag_lr=1e-3,\n",
    "    loss_fn=NLL(),\n",
    ")\n",
    "swag_trainer = Trainer(\n",
    "    max_epochs=20,  # number of epochs to fit swag\n",
    "    log_every_n_steps=1,\n",
    "    enable_progress_bar=False,\n",
    ")"
   ]
  },
  {
   "cell_type": "markdown",
   "id": "cc178b69",
   "metadata": {},
   "source": [
    "## Prediction\n",
    "\n",
    "For prediction we can either rely on the `trainer.test()` method or manually conduct a `predict_step()`. Using the trainer will save the predictions and some metrics to a CSV file, while the manual `predict_step()` with a single input tensor will generate a dictionary that holds the mean prediction as well as some other quantities of interest, for example the predicted standard deviation or quantile. The SWAG wrapper module will conduct the SWAG fitting procedure automatically before making the first prediction and will use it for any subsequent call to sample network weights for the desired number of Monte Carlo samples."
   ]
  },
  {
   "cell_type": "code",
   "execution_count": null,
   "id": "84f8a708",
   "metadata": {},
   "outputs": [],
   "source": [
    "swag_trainer.fit(swag_model, datamodule=dm)"
   ]
  },
  {
   "cell_type": "markdown",
   "id": "546bb233",
   "metadata": {},
   "source": [
    "## Evaluate Predictions\n",
    "\n",
    "The constructed Data Module contains two possible test variable. `X_test` are IID samples from the same noise distribution as the training data, while `X_gtext` (\"X ground truth extended\") are dense inputs from the underlying \"ground truth\" function without any noise that also extends the input range to either side, so we can visualize the method's UQ tendencies when extrapolating beyond the training data range. Thus, we will use `X_gtext` for visualization purposes, but use `X_test` to compute uncertainty and calibration metrics because we want to analyse how well the method has learned the noisy data distribution."
   ]
  },
  {
   "cell_type": "code",
   "execution_count": null,
   "id": "5f89639f",
   "metadata": {},
   "outputs": [],
   "source": [
    "preds = swag_model.predict_step(X_gtext)\n",
    "\n",
    "fig = plot_predictions_regression(\n",
    "    X_train,\n",
    "    Y_train,\n",
    "    X_gtext,\n",
    "    Y_gtext,\n",
    "    preds[\"pred\"],\n",
    "    preds[\"pred_uct\"],\n",
    "    epistemic=preds[\"epistemic_uct\"],\n",
    "    aleatoric=preds[\"aleatoric_uct\"],\n",
    "    title=\"SWAG\",\n",
    "    show_bands=False,\n",
    ")"
   ]
  },
  {
   "cell_type": "markdown",
   "id": "f08807fd",
   "metadata": {},
   "source": [
    "In the above plot we can observe, that we also now nave an estimate of the epistemic uncertainy with the SWAG method.\n",
    "\n",
    "For some additional metrics relevant to UQ, we can use the great [uncertainty-toolbox](https://uncertainty-toolbox.github.io/) that gives us some insight into the calibration of our prediction."
   ]
  },
  {
   "cell_type": "code",
   "execution_count": null,
   "id": "6031525d",
   "metadata": {},
   "outputs": [],
   "source": [
    "preds = swag_model.predict_step(X_test)\n",
    "\n",
    "fig = plot_calibration_uq_toolbox(\n",
    "    preds[\"pred\"].cpu().numpy(),\n",
    "    preds[\"pred_uct\"].cpu().numpy(),\n",
    "    Y_test.cpu().numpy(),\n",
    "    X_test.cpu().numpy(),\n",
    ")"
   ]
  },
  {
   "cell_type": "markdown",
   "id": "6b51b503",
   "metadata": {},
   "source": []
  }
 ],
 "metadata": {
  "kernelspec": {
   "display_name": "uqboxEnv",
   "language": "python",
   "name": "python3"
  },
  "language_info": {
   "codemirror_mode": {
    "name": "ipython",
    "version": 3
   },
   "file_extension": ".py",
   "mimetype": "text/x-python",
   "name": "python",
   "nbconvert_exporter": "python",
   "pygments_lexer": "ipython3",
   "version": "3.11.8"
  }
 },
 "nbformat": 4,
 "nbformat_minor": 5
}
